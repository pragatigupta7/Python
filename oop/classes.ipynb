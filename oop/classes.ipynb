{
 "cells": [
  {
   "cell_type": "code",
   "execution_count": 4,
   "metadata": {},
   "outputs": [
    {
     "name": "stdout",
     "output_type": "stream",
     "text": [
      "15 <class 'int'>\n"
     ]
    }
   ],
   "source": [
    "a = 15     #python is pur object oriented lang\n",
    "print(a,type(a))"
   ]
  },
  {
   "cell_type": "code",
   "execution_count": 3,
   "metadata": {},
   "outputs": [
    {
     "data": {
      "text/plain": [
       "25"
      ]
     },
     "execution_count": 3,
     "metadata": {},
     "output_type": "execute_result"
    }
   ],
   "source": [
    "a = 5\n",
    "a * 5"
   ]
  },
  {
   "cell_type": "code",
   "execution_count": 6,
   "metadata": {},
   "outputs": [],
   "source": [
    "class Pen:\n",
    "    shape = None    #default value is nessecary\n",
    "    color = None\n",
    "    material = None\n",
    "    type = None\n",
    "\n",
    "    def show(self):     #self is a keyword and it is indicating method    #class ke andar function called method , class ke bahr function called function\n",
    "        print(\"This is a pen\")\n",
    "   # output not shown bcz we have to create object of them"
   ]
  },
  {
   "cell_type": "code",
   "execution_count": 7,
   "metadata": {},
   "outputs": [
    {
     "name": "stdout",
     "output_type": "stream",
     "text": [
      "<class '__main__.Pen'>\n"
     ]
    }
   ],
   "source": [
    "print(Pen)          #__main__ denoted the main file"
   ]
  },
  {
   "cell_type": "code",
   "execution_count": 14,
   "metadata": {},
   "outputs": [
    {
     "name": "stdout",
     "output_type": "stream",
     "text": [
      "<__main__.Pen object at 0x000001D0D2401640>\n",
      "<__main__.Pen object at 0x000001D0D2436A20>\n",
      "This is a pen\n",
      "This is a pen\n",
      "None\n",
      "cylinder blue plastic ballpoint\n"
     ]
    }
   ],
   "source": [
    "p1 = Pen()      #create an object of pen class\n",
    "print(p1)          # at 0x000001D0D24775C0 memory locaton\n",
    "p2 = Pen()\n",
    "print(p2)\n",
    "p1.show()\n",
    "p2.show()\n",
    "print(p1.shape)\n",
    "p1.shape = \"cylinder\"  #setting the value of shape attribute\n",
    "p2.shape = \"hexagon\"\n",
    "p1.color=\"blue\"\n",
    "p2.color=\"red\"\n",
    "p1.material = \"plastic\"\n",
    "p2.material = \"metal\"\n",
    "p1.type = \"ballpoint\"\n",
    "p2.type=\"gelpen\"\n",
    "print(p1.shape,p1.color,p1.material,p1.type)"
   ]
  },
  {
   "cell_type": "code",
   "execution_count": 26,
   "metadata": {},
   "outputs": [],
   "source": [
    "class Student:\n",
    "    def __init__(self,nm,course,college,gender='F') -> None:\n",
    "        self.name=nm\n",
    "        self.course = course\n",
    "        self.college = college\n",
    "        self.gender = gender\n",
    "        self.skills =[]\n",
    "    \n",
    "    def show(self):\n",
    "        print(\"Student Name:\",self.name)\n",
    "        print(\"Course:\",self.course)\n",
    "        print(\"College:\",self.college)\n",
    "        print(\"Gender:\",self.gender)\n",
    "        print(\"Skills:\",*self.skills)\n",
    "\n",
    "    def add_skill(self,new_skill):\n",
    "        self.skills.append(new_skill)"
   ]
  },
  {
   "cell_type": "code",
   "execution_count": 30,
   "metadata": {},
   "outputs": [
    {
     "name": "stdout",
     "output_type": "stream",
     "text": [
      "<__main__.Student object at 0x000001D0D2477D10>\n",
      "Student Name: Krish\n",
      "Course: Btech\n",
      "College: Amity\n",
      "Gender: M\n",
      "Skills: coding strategy\n",
      "None\n",
      "Student Name: Krish\n",
      "Course: Btech\n",
      "College: Amity\n",
      "Gender: M\n",
      "Skills: coding strategy\n",
      "<__main__.Student object at 0x000001D0D24757C0>\n",
      "Student Name: shaurya\n",
      "Course: MIT\n",
      "College: M\n",
      "Gender: F\n",
      "Skills: lawn tennis table tennis\n",
      "None\n",
      "Student Name: shaurya\n",
      "Course: MIT\n",
      "College: M\n",
      "Gender: F\n",
      "Skills: lawn tennis table tennis\n",
      "Student Name: Sristi\n",
      "Course: btech\n",
      "College: SRMU\n",
      "Gender: F\n",
      "Skills: singing dancing\n"
     ]
    }
   ],
   "source": [
    "s1=Student(\"Krish\",\"Btech\",\"Amity\",\"M\")\n",
    "s2 = Student(\"shaurya\",\"MIT\",\"M\")\n",
    "s3 = Student(\"Sristi\",\"btech\",\"SRMU\",\"F\")\n",
    "s1.add_skill(\"coding\")\n",
    "s1.add_skill(\"strategy\")\n",
    "s2.add_skill(\"lawn tennis\")\n",
    "s2.add_skill(\"table tennis\")\n",
    "s3.add_skill(\"singing\")\n",
    "s3.add_skill(\"dancing\")\n",
    "print(s1)\n",
    "print(s1.show())\n",
    "s1.show()\n",
    "print(s2)\n",
    "print(s2.show())\n",
    "s2.show()\n",
    "s3.show()"
   ]
  },
  {
   "cell_type": "code",
   "execution_count": null,
   "metadata": {},
   "outputs": [],
   "source": []
  },
  {
   "cell_type": "markdown",
   "metadata": {},
   "source": [
    "### data class\n",
    "    - `data class` is a class that only contains data,no functions."
   ]
  },
  {
   "cell_type": "code",
   "execution_count": 31,
   "metadata": {},
   "outputs": [],
   "source": [
    "from dataclasses import dataclass    # data storing"
   ]
  },
  {
   "cell_type": "code",
   "execution_count": 32,
   "metadata": {},
   "outputs": [],
   "source": [
    "@dataclass\n",
    "class Employee:\n",
    "    name: str\n",
    "    designation:str\n",
    "    salary: float"
   ]
  },
  {
   "cell_type": "code",
   "execution_count": 33,
   "metadata": {},
   "outputs": [
    {
     "name": "stdout",
     "output_type": "stream",
     "text": [
      "Employee(name='sam', designation='manager', salary=50000)\n",
      "Employee(name='kim', designation='developer', salary=30000)\n"
     ]
    }
   ],
   "source": [
    "e1 = Employee(\"sam\",\"manager\",50000)\n",
    "e2=Employee(\"kim\",\"developer\",30000)\n",
    "print(e1)\n",
    "print(e2)\n",
    "print(e1.name)"
   ]
  },
  {
   "cell_type": "code",
   "execution_count": 35,
   "metadata": {},
   "outputs": [],
   "source": [
    "class Backbencher(Student):\n",
    "    pass   # skip it\n",
    "    "
   ]
  },
  {
   "cell_type": "code",
   "execution_count": 36,
   "metadata": {},
   "outputs": [
    {
     "name": "stdout",
     "output_type": "stream",
     "text": [
      "Student Name: Rahul\n",
      "Course: Btech\n",
      "College: srmu\n",
      "Gender: M\n",
      "Skills: sleeping\n"
     ]
    }
   ],
   "source": [
    "b1= Backbencher(\"Rahul\",\"Btech\",\"srmu\",\"M\")\n",
    "b1.add_skill(\"sleeping\")\n",
    "b1.show()"
   ]
  },
  {
   "cell_type": "code",
   "execution_count": 1,
   "metadata": {},
   "outputs": [],
   "source": [
    "#parent class\n",
    "class Shape:\n",
    "    def __init__(self,color,filled) -> None:\n",
    "        self.color=color\n",
    "        self.filled = filled\n",
    "    def show(self):\n",
    "        print(\"Color:\",self.color)\n",
    "        print(\"Filled:\",self.filled)"
   ]
  },
  {
   "cell_type": "code",
   "execution_count": 2,
   "metadata": {},
   "outputs": [],
   "source": [
    "#child class\n",
    "class Circle(Shape):\n",
    "    #constructor overriding\n",
    "    def __init__(self, radius,color,filled)->None:\n",
    "        super().__init__(color,filled)\n",
    "        self.radius=radius\n",
    "\n",
    "class Rectangle(Shape):\n",
    "    def __init__(self, l,w,color,filled) -> None:\n",
    "        super().__init__(color,filled)\n",
    "        self.length =l\n",
    "        self.width=w\n",
    "#method overriding\n",
    "    def show(self):\n",
    "        super().show()\n",
    "        print(\"Length:\",self.length)\n",
    "        print(\"Width:\",self.width)\n",
    "        \n",
    "    def area(self):\n",
    "        return self.length * self.width\n",
    "    \n",
    "class Triangle(Shape):\n",
    "    #constructor overriding\n",
    "    def __init__(self, base,height)->None:\n",
    "        #parent class constructor fixed values\n",
    "        super().__init__(color='red',filled=True)\n",
    "        self.base = base\n",
    "        self.height = height\n",
    "        \n",
    "    \n",
    "    \n",
    "        \n",
    "    \n",
    "    \n",
    "    "
   ]
  },
  {
   "cell_type": "code",
   "execution_count": 3,
   "metadata": {},
   "outputs": [
    {
     "name": "stdout",
     "output_type": "stream",
     "text": [
      "Color: red\n",
      "Filled: True\n",
      "Color: green\n",
      "Filled: False\n",
      "Length: 10\n",
      "Width: 5\n",
      "Rectangle area: 50\n",
      "Color: red\n",
      "Filled: True\n"
     ]
    }
   ],
   "source": [
    "circle = Circle(5,\"red\",True)\n",
    "circle.show()\n",
    "rect=Rectangle(10,5,\"green\",False)\n",
    "rect.show()\n",
    "print(\"Rectangle area:\",rect.area())\n",
    "tri = Triangle(10,5)\n",
    "tri.show()"
   ]
  },
  {
   "cell_type": "code",
   "execution_count": null,
   "metadata": {},
   "outputs": [],
   "source": []
  }
 ],
 "metadata": {
  "kernelspec": {
   "display_name": "Python 3",
   "language": "python",
   "name": "python3"
  },
  "language_info": {
   "codemirror_mode": {
    "name": "ipython",
    "version": 3
   },
   "file_extension": ".py",
   "mimetype": "text/x-python",
   "name": "python",
   "nbconvert_exporter": "python",
   "pygments_lexer": "ipython3",
   "version": "3.12.0"
  }
 },
 "nbformat": 4,
 "nbformat_minor": 2
}
