{
 "cells": [
  {
   "cell_type": "code",
   "execution_count": null,
   "metadata": {},
   "outputs": [],
   "source": []
  },
  {
   "cell_type": "code",
   "execution_count": 10,
   "metadata": {},
   "outputs": [
    {
     "name": "stdout",
     "output_type": "stream",
     "text": [
      "3\n",
      "not weird\n"
     ]
    }
   ],
   "source": [
    "n=int(input(\"Enter the number\"))\n",
    "\n",
    "if (n%2!=0) or (n>=6 and n<=20):\n",
    "    print(\" weird\")\n",
    "else:\n",
    "    print(\"not weried\")"
   ]
  },
  {
   "cell_type": "code",
   "execution_count": 14,
   "metadata": {},
   "outputs": [
    {
     "name": "stdout",
     "output_type": "stream",
     "text": [
      "0\n",
      "1\n",
      "2\n"
     ]
    }
   ],
   "source": [
    "n=int(input(\"number\"))\n",
    "\n",
    "for i in range(0,n):\n",
    "    print(i)"
   ]
  },
  {
   "cell_type": "code",
   "execution_count": 4,
   "metadata": {},
   "outputs": [
    {
     "name": "stdout",
     "output_type": "stream",
     "text": [
      "[[0, 0, 0], [0, 1, 1], [1, 0, 1], [1, 1, 0], [1, 1, 1]]\n"
     ]
    }
   ],
   "source": [
    "x = int(input())\n",
    "y = int(input())\n",
    "z = int(input())\n",
    "n = int(input())\n",
    "l=list()\n",
    "for i in range(x+1):\n",
    "    for j in range(y+1):\n",
    "        for k in range(z+1):\n",
    "            if(i+j+k != n):\n",
    "                l.append([i,j,k])\n",
    "print(l)"
   ]
  },
  {
   "cell_type": "code",
   "execution_count": 14,
   "metadata": {},
   "outputs": [
    {
     "name": "stdout",
     "output_type": "stream",
     "text": [
      "<map object at 0x00000219E1BC0FD0>\n",
      "2\n"
     ]
    },
    {
     "ename": "AttributeError",
     "evalue": "'map' object has no attribute 'remove'",
     "output_type": "error",
     "traceback": [
      "\u001b[1;31m---------------------------------------------------------------------------\u001b[0m",
      "\u001b[1;31mAttributeError\u001b[0m                            Traceback (most recent call last)",
      "Cell \u001b[1;32mIn[14], line 9\u001b[0m\n\u001b[0;32m      7\u001b[0m \u001b[38;5;28mprint\u001b[39m(c)\n\u001b[0;32m      8\u001b[0m \u001b[38;5;28;01mfor\u001b[39;00m i \u001b[38;5;129;01min\u001b[39;00m \u001b[38;5;28mrange\u001b[39m(c):\n\u001b[1;32m----> 9\u001b[0m     \u001b[43marr\u001b[49m\u001b[38;5;241;43m.\u001b[39;49m\u001b[43mremove\u001b[49m(c)\n\u001b[0;32m     10\u001b[0m \u001b[38;5;28mprint\u001b[39m(\u001b[38;5;28mmax\u001b[39m(arr))\n",
      "\u001b[1;31mAttributeError\u001b[0m: 'map' object has no attribute 'remove'"
     ]
    }
   ],
   "source": [
    "n = int(input())\n",
    "arr = map(int, input().split())\n",
    "print(arr)\n",
    "a= max(arr)\n",
    "c=a.bit_count()\n",
    "\n",
    "print(c)\n",
    "for i in range(c):\n",
    "    arr.remove(c)\n",
    "print(max(arr))"
   ]
  },
  {
   "cell_type": "code",
   "execution_count": null,
   "metadata": {},
   "outputs": [],
   "source": [
    "if __name__ == '__main__':\n",
    "    n = int(input())\n",
    "    arr =int(input().split())\n",
    "    \n",
    "    a=max(arr)\n",
    "    c =arr.count(a)\n",
    "    for i in range(c):\n",
    "        arr.remove(a)\n",
    "    print(max(arr))"
   ]
  },
  {
   "cell_type": "code",
   "execution_count": 5,
   "metadata": {},
   "outputs": [
    {
     "name": "stdout",
     "output_type": "stream",
     "text": [
      "this-is-a-string\n"
     ]
    }
   ],
   "source": [
    "def split_and_join(line):\n",
    "    # line = line.split(\" \")\n",
    "    # line= \"-\".join(line)\n",
    "    # print(line)\n",
    "    return '-'.join(line.split(\" \"))\n",
    "\n",
    "if __name__ == '__main__':\n",
    "    line = input()\n",
    "    result = split_and_join(line)\n",
    "    print(result)\n",
    "    "
   ]
  },
  {
   "cell_type": "code",
   "execution_count": 3,
   "metadata": {},
   "outputs": [
    {
     "name": "stdout",
     "output_type": "stream",
     "text": [
      "6\n"
     ]
    }
   ],
   "source": [
    "# Read the number of scores\n",
    "n = int(input())\n",
    "\n",
    "# Read the scores and store them in a list\n",
    "scores = list(map(int, input().split()))\n",
    "\n",
    "# Remove duplicates by converting the list to a set, then sort the set\n",
    "unique_scores = sorted(set(scores))\n",
    "\n",
    "# The runner-up score is the second highest score\n",
    "runner_up_score = unique_scores[-2]\n",
    "\n",
    "# Print the runner-up score\n",
    "print(runner_up_score)\n"
   ]
  },
  {
   "cell_type": "code",
   "execution_count": 4,
   "metadata": {},
   "outputs": [
    {
     "name": "stdout",
     "output_type": "stream",
     "text": [
      "1079245023883434373\n"
     ]
    }
   ],
   "source": [
    "# Read the integer n\n",
    "n = int(input())\n",
    "\n",
    "# Read n space-separated integers and convert them to a tuple\n",
    "integer_list = tuple(map(int, input().split()))\n",
    "\n",
    "# Compute the hash of the tuple\n",
    "result = hash(integer_list)\n",
    "\n",
    "# Print the result\n",
    "print(result)\n"
   ]
  },
  {
   "cell_type": "code",
   "execution_count": 5,
   "metadata": {},
   "outputs": [],
   "source": [
    "# Initialize an empty list\n",
    "lst = []\n",
    "\n",
    "# Read the number of commands\n",
    "n = int(input())\n",
    "\n",
    "# Loop through each command\n",
    "for _ in range(n):\n",
    "    command = input().split()\n",
    "    \n",
    "    # Perform the corresponding operations\n",
    "    if command[0] == \"insert\":\n",
    "        index = int(command[1])\n",
    "        element = int(command[2])\n",
    "        lst.insert(index, element)\n",
    "    elif command[0] == \"print\":\n",
    "        print(lst)\n",
    "    elif command[0] == \"remove\":\n",
    "        element = int(command[1])\n",
    "        lst.remove(element)\n",
    "    elif command[0] == \"append\":\n",
    "        element = int(command[1])\n",
    "        lst.append(element)\n",
    "    elif command[0] == \"sort\":\n",
    "        lst.sort()\n",
    "    elif command[0] == \"pop\":\n",
    "        lst.pop()\n",
    "    elif command[0] == \"reverse\":\n",
    "        lst.reverse()\n"
   ]
  },
  {
   "cell_type": "code",
   "execution_count": null,
   "metadata": {},
   "outputs": [],
   "source": []
  }
 ],
 "metadata": {
  "kernelspec": {
   "display_name": "Python 3",
   "language": "python",
   "name": "python3"
  },
  "language_info": {
   "codemirror_mode": {
    "name": "ipython",
    "version": 3
   },
   "file_extension": ".py",
   "mimetype": "text/x-python",
   "name": "python",
   "nbconvert_exporter": "python",
   "pygments_lexer": "ipython3",
   "version": "3.12.0"
  }
 },
 "nbformat": 4,
 "nbformat_minor": 2
}
