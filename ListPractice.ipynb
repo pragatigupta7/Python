{
 "cells": [
  {
   "cell_type": "code",
   "execution_count": null,
   "metadata": {},
   "outputs": [],
   "source": []
  },
  {
   "cell_type": "markdown",
   "metadata": {},
   "source": [
    "Write a program that creates an empty list and then asks the user to input integers to add to the list. Print the final list."
   ]
  },
  {
   "cell_type": "code",
   "execution_count": 18,
   "metadata": {},
   "outputs": [
    {
     "name": "stdout",
     "output_type": "stream",
     "text": [
      "[123333245]\n"
     ]
    }
   ],
   "source": [
    "Data = []\n",
    "for i in range(5):\n",
    "    Inputdata =int(input(\"Enter an Integer\"))\n",
    "    Data.append(Inputdata)\n",
    "    print(Data)\n",
    "   \n"
   ]
  },
  {
   "cell_type": "markdown",
   "metadata": {},
   "source": [
    "Write a program that creates a list of integers and then asks the user to input an integer to check if it exists in the list. Print a message indicating whether the integer is in the list or not."
   ]
  },
  {
   "cell_type": "code",
   "execution_count": 25,
   "metadata": {},
   "outputs": [
    {
     "name": "stdout",
     "output_type": "stream",
     "text": [
      "The Integer is in the list:12\n"
     ]
    }
   ],
   "source": [
    "Data = [12,23,34,76,87,89,78, 78,57]\n",
    "List = int(input(\"Enter An Integers\"))\n",
    "if List in Data:\n",
    "    print(f'The Integer is in the list:{List}')\n",
    "else:\n",
    "    print(f'Integer not exist:{List}')\n",
    "    Data.append(List)\n",
    "    print(Data)"
   ]
  },
  {
   "cell_type": "markdown",
   "metadata": {},
   "source": [
    "Write a program that creates a list of strings and then sorts the list alphabetically. Print the sorted list."
   ]
  },
  {
   "cell_type": "code",
   "execution_count": 26,
   "metadata": {},
   "outputs": [
    {
     "name": "stdout",
     "output_type": "stream",
     "text": [
      "['apple', 'banana', 'cherry', 'grapes', 'lichi', 'pineapple', 'strawberry']\n"
     ]
    }
   ],
   "source": [
    "Fruits = ['apple','banana','cherry','pineapple','strawberry','lichi','grapes']\n",
    "Fruits.sort()\n",
    "print(Fruits)"
   ]
  },
  {
   "cell_type": "markdown",
   "metadata": {},
   "source": [
    "Write a program that creates a list of integers and then finds the maximum value in the list. Print the maximum value."
   ]
  },
  {
   "cell_type": "code",
   "execution_count": 2,
   "metadata": {},
   "outputs": [
    {
     "name": "stdout",
     "output_type": "stream",
     "text": [
      "98\n"
     ]
    }
   ],
   "source": [
    "numbers = ['33','45','89','87','56','78','98']\n",
    "max_value = max(numbers)\n",
    "print(max_value)"
   ]
  },
  {
   "cell_type": "markdown",
   "metadata": {},
   "source": [
    "Write a program that creates two lists of integers and then finds the common elements between those two lists. Print the common elements."
   ]
  },
  {
   "cell_type": "code",
   "execution_count": 7,
   "metadata": {},
   "outputs": [
    {
     "name": "stdout",
     "output_type": "stream",
     "text": [
      "{'23', '65', '54'}\n"
     ]
    }
   ],
   "source": [
    "a = ['23','45','65','87','54','67']\n",
    "b = ['23','65','54','69','98','66']\n",
    "c = set(a)\n",
    "d = set(b)\n",
    "print(c&d)\n"
   ]
  },
  {
   "cell_type": "markdown",
   "metadata": {},
   "source": [
    "Write a program that creates a list of strings and then removes all elements that contain a specific substring. Print the final list."
   ]
  },
  {
   "cell_type": "code",
   "execution_count": 13,
   "metadata": {},
   "outputs": [
    {
     "name": "stdout",
     "output_type": "stream",
     "text": [
      "The list after removing elements that contain the substring 'a':\n",
      "['cherry', 'elderberry', 'fig']\n"
     ]
    }
   ],
   "source": [
    "# Define a list of strings\n",
    "strings = [\"apple\", \"banana\", \"cherry\", \"date\", \"elderberry\", \"fig\", \"grape\"]\n",
    "\n",
    "# Define the substring to remove\n",
    "substring = \"a\"\n",
    "\n",
    "# Create a new list to store the filtered elements\n",
    "filtered_strings = []\n",
    "\n",
    "# Iterate through the original list and add elements that do not contain the substring to the new list\n",
    "for string in strings:\n",
    "    if substring not in string:\n",
    "        filtered_strings.append(string)\n",
    "\n",
    "# Print the final list\n",
    "print(\"The list after removing elements that contain the substring '{}':\".format(substring))\n",
    "print(filtered_strings)"
   ]
  },
  {
   "cell_type": "markdown",
   "metadata": {},
   "source": [
    "Write a program that creates a nested list and then accesses a specific element in the list. Print the accessed element."
   ]
  },
  {
   "cell_type": "code",
   "execution_count": 27,
   "metadata": {},
   "outputs": [
    {
     "ename": "ValueError",
     "evalue": "'falguni' is not in list",
     "output_type": "error",
     "traceback": [
      "\u001b[1;31m---------------------------------------------------------------------------\u001b[0m",
      "\u001b[1;31mValueError\u001b[0m                                Traceback (most recent call last)",
      "Cell \u001b[1;32mIn[27], line 2\u001b[0m\n\u001b[0;32m      1\u001b[0m data \u001b[38;5;241m=\u001b[39m [\u001b[38;5;124m'\u001b[39m\u001b[38;5;124mram\u001b[39m\u001b[38;5;124m'\u001b[39m,\u001b[38;5;124m'\u001b[39m\u001b[38;5;124mziva\u001b[39m\u001b[38;5;124m'\u001b[39m,\u001b[38;5;124m'\u001b[39m\u001b[38;5;124mavishika\u001b[39m\u001b[38;5;124m'\u001b[39m,\u001b[38;5;124m'\u001b[39m\u001b[38;5;124mjivisha\u001b[39m\u001b[38;5;124m'\u001b[39m,\u001b[38;5;124m'\u001b[39m\u001b[38;5;124mrohit\u001b[39m\u001b[38;5;124m'\u001b[39m,\u001b[38;5;124m'\u001b[39m\u001b[38;5;124murvi\u001b[39m\u001b[38;5;124m'\u001b[39m,[\u001b[38;5;124m'\u001b[39m\u001b[38;5;124mfalguni\u001b[39m\u001b[38;5;124m'\u001b[39m,\u001b[38;5;124m'\u001b[39m\u001b[38;5;124mgrivika\u001b[39m\u001b[38;5;124m'\u001b[39m,\u001b[38;5;124m'\u001b[39m\u001b[38;5;124mhello\u001b[39m\u001b[38;5;124m'\u001b[39m]]\n\u001b[1;32m----> 2\u001b[0m \u001b[43mdata\u001b[49m\u001b[38;5;241;43m.\u001b[39;49m\u001b[43mindex\u001b[49m\u001b[43m(\u001b[49m\u001b[38;5;124;43m'\u001b[39;49m\u001b[38;5;124;43mfalguni\u001b[39;49m\u001b[38;5;124;43m'\u001b[39;49m\u001b[43m)\u001b[49m\n",
      "\u001b[1;31mValueError\u001b[0m: 'falguni' is not in list"
     ]
    }
   ],
   "source": [
    "data = ['ram','ziva','avishika','jivisha','rohit','urvi',['falguni','grivika','hello']]\n",
    "data.index('falguni')\n"
   ]
  },
  {
   "cell_type": "markdown",
   "metadata": {},
   "source": [
    "Write a program that creates a list of integers and then removes all duplicates from the list. Print the final list."
   ]
  },
  {
   "cell_type": "code",
   "execution_count": 31,
   "metadata": {},
   "outputs": [
    {
     "name": "stdout",
     "output_type": "stream",
     "text": [
      "[1, 2, 3, 4, 5, 6, 7, 8, 9]\n"
     ]
    }
   ],
   "source": [
    "numbers = [1,2,3,2,2,4,5,4,5,6,7,6,7,8,9,4]\n",
    "new = set(numbers)\n",
    "numbers = list(new)\n",
    "print(numbers)"
   ]
  },
  {
   "cell_type": "code",
   "execution_count": 32,
   "metadata": {},
   "outputs": [
    {
     "name": "stdout",
     "output_type": "stream",
     "text": [
      "[1, 2, 3, 4, 5, 6, 7, 8, 9]\n"
     ]
    }
   ],
   "source": [
    "numbers = {1,2,2,3,4,5,6,7,8,8,9,9,3,3,4}\n",
    "numbers = list(numbers)\n",
    "print(numbers)"
   ]
  },
  {
   "cell_type": "markdown",
   "metadata": {},
   "source": [
    "Write a program that creates a list of strings and then finds the longest string in the list. Print the longest string."
   ]
  },
  {
   "cell_type": "code",
   "execution_count": 35,
   "metadata": {},
   "outputs": [
    {
     "name": "stdout",
     "output_type": "stream",
     "text": [
      "avishika\n"
     ]
    }
   ],
   "source": [
    "data = ['ram','ziva','avishika','jivisha','rohit','urvi','falguni','grivika','hello']\n",
    "longest_string = max(data, key=len)\n",
    "print(longest_string)"
   ]
  },
  {
   "cell_type": "markdown",
   "metadata": {},
   "source": [
    "Write a program that creates a list of integers and then finds the sum of all the even numbers in the list. Print the sum."
   ]
  },
  {
   "cell_type": "code",
   "execution_count": 46,
   "metadata": {},
   "outputs": [
    {
     "name": "stdout",
     "output_type": "stream",
     "text": [
      "2\n",
      "4\n",
      "6\n",
      "10\n",
      "14\n",
      "20\n",
      "26\n",
      "34\n",
      "38\n",
      "not found\n"
     ]
    }
   ],
   "source": [
    "numbers = [1,2,3,2,2,4,5,4,5,6,7,6,7,8,9,4]\n",
    "sum = 0\n",
    "for i in numbers:\n",
    "    if i%2==0:\n",
    "        sum += i\n",
    "        print(sum)\n",
    "else:\n",
    "    print('not found')"
   ]
  },
  {
   "cell_type": "code",
   "execution_count": 48,
   "metadata": {},
   "outputs": [
    {
     "name": "stdout",
     "output_type": "stream",
     "text": [
      "The sum of all even numbers in the list is: 38\n"
     ]
    }
   ],
   "source": [
    "# Define a list of integers\n",
    "numbers = [1,2,3,2,2,4,5,4,5,6,7,6,7,8,9,4]\n",
    "\n",
    "# Initialize the sum of even numbers to 0\n",
    "even_sum = 0\n",
    "\n",
    "# Iterate through the list to find the sum of even numbers\n",
    "for number in numbers:\n",
    "    if number % 2 == 0:\n",
    "        even_sum += number\n",
    "\n",
    "# Print the sum of the even numbers\n",
    "print(\"The sum of all even numbers in the list is:\", even_sum)\n"
   ]
  },
  {
   "cell_type": "markdown",
   "metadata": {},
   "source": [
    "Write a program that creates a list of strings and then concatenates all the strings into a single string. Print the final string."
   ]
  },
  {
   "cell_type": "code",
   "execution_count": 49,
   "metadata": {},
   "outputs": [
    {
     "name": "stdout",
     "output_type": "stream",
     "text": [
      "['ram', 'ziva', 'avishika', 'jivisha', 'rohit', 'urvi', 'falguni', 'grivika', 'hello', 'apple', 'banana', 'cherry', 'date', 'elderberry', 'fig', 'grape']\n"
     ]
    }
   ],
   "source": [
    "data = ['ram','ziva','avishika','jivisha','rohit','urvi','falguni','grivika','hello']\n",
    "strings = [\"apple\", \"banana\", \"cherry\", \"date\", \"elderberry\", \"fig\", \"grape\"]\n",
    "new_string = data + strings\n",
    "print(new_string)\n"
   ]
  },
  {
   "cell_type": "code",
   "execution_count": null,
   "metadata": {},
   "outputs": [],
   "source": []
  },
  {
   "cell_type": "markdown",
   "metadata": {},
   "source": [
    "Write a program that creates a list of integers and then asks the user to input a position to remove an element from the list. Print the final list."
   ]
  },
  {
   "cell_type": "code",
   "execution_count": 66,
   "metadata": {},
   "outputs": [
    {
     "name": "stdout",
     "output_type": "stream",
     "text": [
      "3\n",
      "[1, 2, 2, 2, 4, 5, 4, 5, 6, 7, 6, 7, 8, 9, 4]\n"
     ]
    }
   ],
   "source": [
    "num = [1,2,3,2,2,4,5,4,5,6,7,6,7,8,9,4]\n",
    "x = int(input(\"Enter a position you wanna remove\"))\n",
    "final_list = num.pop(x)\n",
    "print(final_list)\n",
    "print(num)\n"
   ]
  },
  {
   "cell_type": "markdown",
   "metadata": {},
   "source": [
    "Write a program that creates a list of strings and then reverses the order of the strings in the list. Print the reversed list."
   ]
  },
  {
   "cell_type": "code",
   "execution_count": 71,
   "metadata": {},
   "outputs": [
    {
     "name": "stdout",
     "output_type": "stream",
     "text": [
      "['grape', 'fig', 'elderberry', 'date', 'cherry', 'banana', 'apple']\n"
     ]
    }
   ],
   "source": [
    "strings = [\"apple\", \"banana\", \"cherry\", \"date\", \"elderberry\", \"fig\", \"grape\"]\n",
    "strings.reverse()\n",
    "print(strings)"
   ]
  },
  {
   "cell_type": "markdown",
   "metadata": {},
   "source": [
    "Write a program that creates a list of integers and then calculates the average of all the numbers in the list. Print the average."
   ]
  },
  {
   "cell_type": "code",
   "execution_count": 81,
   "metadata": {},
   "outputs": [
    {
     "ename": "TypeError",
     "evalue": "'int' object is not callable",
     "output_type": "error",
     "traceback": [
      "\u001b[1;31m---------------------------------------------------------------------------\u001b[0m",
      "\u001b[1;31mTypeError\u001b[0m                                 Traceback (most recent call last)",
      "Cell \u001b[1;32mIn[81], line 2\u001b[0m\n\u001b[0;32m      1\u001b[0m num \u001b[38;5;241m=\u001b[39m [\u001b[38;5;241m1\u001b[39m,\u001b[38;5;241m2\u001b[39m,\u001b[38;5;241m3\u001b[39m,\u001b[38;5;241m2\u001b[39m,\u001b[38;5;241m2\u001b[39m,\u001b[38;5;241m4\u001b[39m,\u001b[38;5;241m5\u001b[39m,\u001b[38;5;241m4\u001b[39m,\u001b[38;5;241m5\u001b[39m,\u001b[38;5;241m6\u001b[39m,\u001b[38;5;241m7\u001b[39m,\u001b[38;5;241m6\u001b[39m,\u001b[38;5;241m7\u001b[39m,\u001b[38;5;241m8\u001b[39m,\u001b[38;5;241m9\u001b[39m,\u001b[38;5;241m4\u001b[39m]\n\u001b[1;32m----> 2\u001b[0m sumnum \u001b[38;5;241m=\u001b[39m \u001b[38;5;28;43msum\u001b[39;49m\u001b[43m(\u001b[49m\u001b[38;5;28;43mlist\u001b[39;49m\u001b[43m(\u001b[49m\u001b[43mnum\u001b[49m\u001b[43m)\u001b[49m\u001b[43m)\u001b[49m\n\u001b[0;32m      3\u001b[0m avg \u001b[38;5;241m=\u001b[39m sumnum\u001b[38;5;241m/\u001b[39m\u001b[38;5;28mlen\u001b[39m(num)\n\u001b[0;32m      4\u001b[0m \u001b[38;5;28mprint\u001b[39m(avg)\n",
      "\u001b[1;31mTypeError\u001b[0m: 'int' object is not callable"
     ]
    }
   ],
   "source": [
    "num = [1,2,3,2,2,4,5,4,5,6,7,6,7,8,9,4]\n",
    "sumnum = sum(num)\n",
    "avg = sumnum/len(num)\n",
    "print(avg)"
   ]
  },
  {
   "cell_type": "markdown",
   "metadata": {},
   "source": [
    "Write a program that creates a list of integers and then finds the median value of the list. Print the median."
   ]
  },
  {
   "cell_type": "code",
   "execution_count": 82,
   "metadata": {},
   "outputs": [
    {
     "name": "stdout",
     "output_type": "stream",
     "text": [
      "The median value of the list is: 28.5\n"
     ]
    }
   ],
   "source": [
    "def find_median(numbers):\n",
    "    # Sort the list\n",
    "    sorted_numbers = sorted(numbers)\n",
    "    \n",
    "    # Find the length of the list\n",
    "    n = len(sorted_numbers)\n",
    "    \n",
    "    # Calculate the median\n",
    "    if n % 2 == 0:\n",
    "        # If even, the median is the average of the two middle numbers\n",
    "        median = (sorted_numbers[n//2 - 1] + sorted_numbers[n//2]) / 2\n",
    "    else:\n",
    "        # If odd, the median is the middle number\n",
    "        median = sorted_numbers[n//2]\n",
    "    \n",
    "    return median\n",
    "\n",
    "# Define a list of integers\n",
    "numbers = [23, 1, 45, 34, 7, 89, 65, 12, 99, 4]\n",
    "\n",
    "# Find the median value of the list\n",
    "median_value = find_median(numbers)\n",
    "\n",
    "# Print the median value\n",
    "print(\"The median value of the list is:\", median_value)\n"
   ]
  },
  {
   "cell_type": "markdown",
   "metadata": {},
   "source": [
    "Write a program that creates a list of integers and then finds the index of a specific element in the list. Print the index."
   ]
  },
  {
   "cell_type": "code",
   "execution_count": 84,
   "metadata": {},
   "outputs": [
    {
     "data": {
      "text/plain": [
       "14"
      ]
     },
     "execution_count": 84,
     "metadata": {},
     "output_type": "execute_result"
    }
   ],
   "source": [
    "num = [1,2,3,2,2,4,5,4,5,6,7,6,7,8,9,4]\n",
    "num.index(9)"
   ]
  },
  {
   "cell_type": "markdown",
   "metadata": {},
   "source": [
    "Write a program that creates a list of integers and then sorts the list in descending order. Print the sorted list."
   ]
  },
  {
   "cell_type": "code",
   "execution_count": 88,
   "metadata": {},
   "outputs": [
    {
     "name": "stdout",
     "output_type": "stream",
     "text": [
      "[9, 8, 7, 7, 6, 6, 5, 5, 4, 4, 4, 3, 2, 2, 2, 1]\n"
     ]
    }
   ],
   "source": [
    "num = [1,2,3,2,2,4,5,4,5,6,7,6,7,8,9,4]\n",
    "num.sort(reverse=True) \n",
    "print(num)"
   ]
  },
  {
   "cell_type": "markdown",
   "metadata": {},
   "source": [
    "Write a program that creates a list of integers and then asks the user to input a value to add to the list. Add the value to the beginning of the list and print the final list."
   ]
  },
  {
   "cell_type": "code",
   "execution_count": 97,
   "metadata": {},
   "outputs": [
    {
     "name": "stdout",
     "output_type": "stream",
     "text": [
      "[1, 2, 3, 2, 2, 4, 5, 4, 5, 6, 7, 6, 7, 8, 9, 4, 12]\n",
      "[12, 1, 2, 3, 2, 2, 4, 5, 4, 5, 6, 7, 6, 7, 8, 9, 4, 12]\n"
     ]
    }
   ],
   "source": [
    "num = [1,2,3,2,2,4,5,4,5,6,7,6,7,8,9,4]\n",
    "x = int(input(\"enter the value you wanna add at first position\"))\n",
    "num.append(x)\n",
    "print(num)\n",
    "num.insert(0,12)\n",
    "print(num)\n"
   ]
  },
  {
   "cell_type": "markdown",
   "metadata": {},
   "source": [
    "Write a program that creates a list of strings and then removes all whitespace characters from each string in the list. Print the final list."
   ]
  },
  {
   "cell_type": "code",
   "execution_count": 12,
   "metadata": {},
   "outputs": [
    {
     "name": "stdout",
     "output_type": "stream",
     "text": [
      "['apple','banana','cherry','date','elderberry','fig','grape']\n"
     ]
    }
   ],
   "source": [
    "strings = ['    apple   ', \"      banana    \", \"   cherry   \", \"   date   \", \"   elderberry   \", \"   fig   \", \"   grape   \"]\n",
    "word = str(strings)\n",
    "words = word.split()\n",
    "name=\"\".join(words)\n",
    "print(name)\n",
    "\n",
    "    "
   ]
  },
  {
   "cell_type": "code",
   "execution_count": 18,
   "metadata": {},
   "outputs": [
    {
     "name": "stdout",
     "output_type": "stream",
     "text": [
      "['apple']\n",
      "apple\n"
     ]
    }
   ],
   "source": [
    "def removewhitespace(strings):\n",
    "    for i in strings:\n",
    "        words = i.split()\n",
    "        print(words)\n",
    "        remove = \"\".join(words)\n",
    "        return remove\n",
    "\n",
    "\n",
    "strings = ['    apple   ', \"      banana    \", \"   cherry   \", \"   date   \", \"   elderberry   \", \"   fig   \", \"   grape   \"]\n",
    "\n",
    "remove = removewhitespace(strings)\n",
    "print(remove)\n"
   ]
  },
  {
   "cell_type": "code",
   "execution_count": 19,
   "metadata": {},
   "outputs": [
    {
     "name": "stdout",
     "output_type": "stream",
     "text": [
      "['HelloWorld', 'PythonProgramming', 'DataScience', 'WhitespaceCharacters', 'OpenAIGPT-4']\n"
     ]
    }
   ],
   "source": [
    "def remove_whitespace(strings):\n",
    "    # Remove all whitespace characters from each string in the list\n",
    "    cleaned_strings = [''.join(string.split()) for string in strings]\n",
    "    return cleaned_strings\n",
    "\n",
    "# Create a list of strings\n",
    "strings = [\n",
    "    \"Hello World\",\n",
    "    \"  Python  Programming \",\n",
    "    \"Data   Science\",\n",
    "    \"\\tWhitespace \\t\\t Characters\\n\",\n",
    "    \"  OpenAI  GPT-4  \"\n",
    "]\n",
    "\n",
    "# Remove whitespace and print the final list\n",
    "cleaned_strings = remove_whitespace(strings)\n",
    "print(cleaned_strings)\n"
   ]
  },
  {
   "cell_type": "markdown",
   "metadata": {},
   "source": [
    "Write a program that creates two lists of integers and then concatenates those two lists into a single list. Print the final list."
   ]
  },
  {
   "cell_type": "code",
   "execution_count": 20,
   "metadata": {},
   "outputs": [
    {
     "name": "stdout",
     "output_type": "stream",
     "text": [
      "[1, 2, 3, 2, 2, 4, 5, 4, 5, 6, 7, 6, 7, 8, 9, 4, 34, 54, 65, 76, 78, 98, 54, 32, 23, 43, 45, 5]\n"
     ]
    }
   ],
   "source": [
    "num = [1,2,3,2,2,4,5,4,5,6,7,6,7,8,9,4]\n",
    "n = [34,54,65,76,78,98,54,32,23,43,45,5]\n",
    "final_list = num + n\n",
    "print(final_list)"
   ]
  },
  {
   "cell_type": "markdown",
   "metadata": {},
   "source": [
    "Write a program that uses the map function to create a new list that contains the squares of each element in a user inputted list of integers."
   ]
  },
  {
   "cell_type": "code",
   "execution_count": 22,
   "metadata": {},
   "outputs": [
    {
     "name": "stdout",
     "output_type": "stream",
     "text": [
      "[4, 9, 16, 25, 36, 49, 64]\n"
     ]
    }
   ],
   "source": [
    "n = [2,3,4,5,6,7,8]\n",
    "new_n = list(map(lambda x:x**2,n))\n",
    "print(new_n)"
   ]
  },
  {
   "cell_type": "code",
   "execution_count": 28,
   "metadata": {},
   "outputs": [
    {
     "ename": "TypeError",
     "evalue": "unsupported operand type(s) for ** or pow(): 'str' and 'int'",
     "output_type": "error",
     "traceback": [
      "\u001b[1;31m---------------------------------------------------------------------------\u001b[0m",
      "\u001b[1;31mTypeError\u001b[0m                                 Traceback (most recent call last)",
      "Cell \u001b[1;32mIn[28], line 2\u001b[0m\n\u001b[0;32m      1\u001b[0m n \u001b[38;5;241m=\u001b[39m\u001b[38;5;28mlist\u001b[39m( \u001b[38;5;28minput\u001b[39m(\u001b[38;5;124m\"\u001b[39m\u001b[38;5;124menter some interger for sqaure\u001b[39m\u001b[38;5;124m\"\u001b[39m))\n\u001b[1;32m----> 2\u001b[0m new_nn \u001b[38;5;241m=\u001b[39m \u001b[38;5;28;43mlist\u001b[39;49m\u001b[43m(\u001b[49m\u001b[38;5;28;43mmap\u001b[39;49m\u001b[43m(\u001b[49m\u001b[38;5;28;43;01mlambda\u001b[39;49;00m\u001b[43m \u001b[49m\u001b[43mx\u001b[49m\u001b[43m:\u001b[49m\u001b[43mx\u001b[49m\u001b[38;5;241;43m*\u001b[39;49m\u001b[38;5;241;43m*\u001b[39;49m\u001b[38;5;241;43m2\u001b[39;49m\u001b[43m,\u001b[49m\u001b[43mn\u001b[49m\u001b[43m)\u001b[49m\u001b[43m)\u001b[49m\n\u001b[0;32m      3\u001b[0m \u001b[38;5;28mprint\u001b[39m(new_nn)\n",
      "Cell \u001b[1;32mIn[28], line 2\u001b[0m, in \u001b[0;36m<lambda>\u001b[1;34m(x)\u001b[0m\n\u001b[0;32m      1\u001b[0m n \u001b[38;5;241m=\u001b[39m\u001b[38;5;28mlist\u001b[39m( \u001b[38;5;28minput\u001b[39m(\u001b[38;5;124m\"\u001b[39m\u001b[38;5;124menter some interger for sqaure\u001b[39m\u001b[38;5;124m\"\u001b[39m))\n\u001b[1;32m----> 2\u001b[0m new_nn \u001b[38;5;241m=\u001b[39m \u001b[38;5;28mlist\u001b[39m(\u001b[38;5;28mmap\u001b[39m(\u001b[38;5;28;01mlambda\u001b[39;00m x:\u001b[43mx\u001b[49m\u001b[38;5;241;43m*\u001b[39;49m\u001b[38;5;241;43m*\u001b[39;49m\u001b[38;5;241;43m2\u001b[39;49m,n))\n\u001b[0;32m      3\u001b[0m \u001b[38;5;28mprint\u001b[39m(new_nn)\n",
      "\u001b[1;31mTypeError\u001b[0m: unsupported operand type(s) for ** or pow(): 'str' and 'int'"
     ]
    }
   ],
   "source": [
    "n =list( input(\"enter some interger for sqaure\"))\n",
    "new_nn = list(map(lambda x:x**2,n))\n",
    "print(new_nn)"
   ]
  },
  {
   "cell_type": "markdown",
   "metadata": {},
   "source": [
    "Write a program that uses a lambda expression and the map function to convert a list of integers to a list of strings. Print the new list."
   ]
  },
  {
   "cell_type": "code",
   "execution_count": 4,
   "metadata": {},
   "outputs": [
    {
     "name": "stdout",
     "output_type": "stream",
     "text": [
      "['2', '3', '4', '5', '6', '7', '8']\n"
     ]
    }
   ],
   "source": [
    "n = [2,3,4,5,6,7,8]\n",
    "new = list(map(lambda x:str(x) ,n))\n",
    "print(new)"
   ]
  },
  {
   "cell_type": "markdown",
   "metadata": {},
   "source": [
    "Write a program that uses a lambda expression and the map function to add 10 to each element in a list of integers. Print the new list."
   ]
  },
  {
   "cell_type": "code",
   "execution_count": 6,
   "metadata": {},
   "outputs": [
    {
     "name": "stdout",
     "output_type": "stream",
     "text": [
      "[12, 13, 14, 15, 16, 17, 18]\n"
     ]
    }
   ],
   "source": [
    "n = [2,3,4,5,6,7,8]\n",
    "new = list(map(lambda x:x+10 ,n))\n",
    "print(new) "
   ]
  },
  {
   "cell_type": "markdown",
   "metadata": {},
   "source": [
    "Write a program that uses the map function to create a new list that contains the first letter of each string in a user inputted list of strings."
   ]
  },
  {
   "cell_type": "code",
   "execution_count": 9,
   "metadata": {},
   "outputs": [
    {
     "name": "stdout",
     "output_type": "stream",
     "text": [
      "ravi,dev,shiva,frao\n",
      "List of first letters: ['r']\n"
     ]
    }
   ],
   "source": [
    "def letter(strings):\n",
    "    return strings[0]\n",
    "\n",
    "# Input: List of strings from the user\n",
    "user_input = input(\"Enter a list of strings, separated by spaces: \")\n",
    "print(user_input)\n",
    "string_list = user_input.split()\n",
    "\n",
    "# Using map to apply the first_letter function to each string in the list\n",
    "letter = list(map(letter, string_list))\n",
    "\n",
    "# Output: List of first letters\n",
    "print(\"List of first letters:\", letter)"
   ]
  },
  {
   "cell_type": "markdown",
   "metadata": {},
   "source": [
    "Write a program that uses a lambda expression and the map function to convert a list of Celsius temperatures to a list of Fahrenheit temperatures. Print the new list."
   ]
  },
  {
   "cell_type": "code",
   "execution_count": 11,
   "metadata": {},
   "outputs": [
    {
     "ename": "ValueError",
     "evalue": "could not convert string to float: '23,65,78,76,54'",
     "output_type": "error",
     "traceback": [
      "\u001b[1;31m---------------------------------------------------------------------------\u001b[0m",
      "\u001b[1;31mValueError\u001b[0m                                Traceback (most recent call last)",
      "Cell \u001b[1;32mIn[11], line 6\u001b[0m\n\u001b[0;32m      4\u001b[0m \u001b[38;5;66;03m# Input: List of Celsius temperatures from the user\u001b[39;00m\n\u001b[0;32m      5\u001b[0m user_input \u001b[38;5;241m=\u001b[39m \u001b[38;5;28minput\u001b[39m(\u001b[38;5;124m\"\u001b[39m\u001b[38;5;124mEnter a list of Celsius temperatures, separated by spaces: \u001b[39m\u001b[38;5;124m\"\u001b[39m)\n\u001b[1;32m----> 6\u001b[0m celsius_list \u001b[38;5;241m=\u001b[39m \u001b[38;5;28;43mlist\u001b[39;49m\u001b[43m(\u001b[49m\u001b[38;5;28;43mmap\u001b[39;49m\u001b[43m(\u001b[49m\u001b[38;5;28;43mfloat\u001b[39;49m\u001b[43m,\u001b[49m\u001b[43m \u001b[49m\u001b[43muser_input\u001b[49m\u001b[38;5;241;43m.\u001b[39;49m\u001b[43msplit\u001b[49m\u001b[43m(\u001b[49m\u001b[43m)\u001b[49m\u001b[43m)\u001b[49m\u001b[43m)\u001b[49m\n\u001b[0;32m      8\u001b[0m \u001b[38;5;66;03m# Using map to apply the celsius_to_fahrenheit lambda to each temperature in the list\u001b[39;00m\n\u001b[0;32m      9\u001b[0m fahrenheit_list \u001b[38;5;241m=\u001b[39m \u001b[38;5;28mlist\u001b[39m(\u001b[38;5;28mmap\u001b[39m(celsius_to_fahrenheit, celsius_list))\n",
      "\u001b[1;31mValueError\u001b[0m: could not convert string to float: '23,65,78,76,54'"
     ]
    }
   ],
   "source": [
    "# Function to convert Celsius to Fahrenheit\n",
    "celsius_to_fahrenheit = lambda c: (c * 9/5) + 32\n",
    "\n",
    "# Input: List of Celsius temperatures from the user\n",
    "user_input = input(\"Enter a list of Celsius temperatures, separated by spaces: \")\n",
    "celsius_list = list(map(float, user_input.split()))\n",
    "\n",
    "# Using map to apply the celsius_to_fahrenheit lambda to each temperature in the list\n",
    "fahrenheit_list = list(map(celsius_to_fahrenheit, celsius_list))\n",
    "\n",
    "# Output: List of Fahrenheit temperatures\n",
    "print(\"List of Fahrenheit temperatures:\", fahrenheit_list)\n"
   ]
  },
  {
   "cell_type": "code",
   "execution_count": null,
   "metadata": {},
   "outputs": [],
   "source": []
  },
  {
   "cell_type": "markdown",
   "metadata": {},
   "source": [
    "Write a program that uses a lambda expression and the map function to convert a list of strings to a list of integers. Print the new list."
   ]
  },
  {
   "cell_type": "code",
   "execution_count": 16,
   "metadata": {},
   "outputs": [
    {
     "name": "stdout",
     "output_type": "stream",
     "text": [
      "[2, 3, 4, 5, 6, 7, 8]\n"
     ]
    }
   ],
   "source": [
    "n=['2', '3', '4', '5', '6', '7', '8']\n",
    "\n",
    "news =list(map(lambda x:int(x),n))\n",
    "print(news)"
   ]
  },
  {
   "cell_type": "markdown",
   "metadata": {},
   "source": [
    "Write a program that uses a lambda expression and the map function to calculate the square root of each element in a list of integers. Print the new list."
   ]
  },
  {
   "cell_type": "code",
   "execution_count": 23,
   "metadata": {},
   "outputs": [
    {
     "name": "stdout",
     "output_type": "stream",
     "text": [
      "the sqaure root of the n of each element is: [1.4142135623730951, 1.7320508075688772, 2.0, 2.23606797749979, 2.449489742783178, 2.6457513110645907, 2.8284271247461903]\n"
     ]
    }
   ],
   "source": [
    "n = [2, 3, 4, 5, 6, 7, 8]\n",
    "sqaureroot = list(map(lambda x:x**0.5,n))\n",
    "print(\"the sqaure root of the n of each element is:\",sqaureroot)"
   ]
  },
  {
   "cell_type": "markdown",
   "metadata": {},
   "source": [
    "Write a program that uses a lambda expression and the map function to convert a list of integers to their absolute values. Print the new list."
   ]
  },
  {
   "cell_type": "code",
   "execution_count": 29,
   "metadata": {},
   "outputs": [
    {
     "name": "stdout",
     "output_type": "stream",
     "text": [
      "List of absolute values: [1, 2, 3, 4, 5, 6, 7, 8]\n"
     ]
    }
   ],
   "source": [
    "# Input: List of integers from the user\n",
    "user_input = input(\"Enter a list of integers, separated by spaces: \")\n",
    "integer_list = list(map(int, user_input.split()))\n",
    "\n",
    "# Using map to apply the absolute value lambda to each integer in the list\n",
    "absolute_values = list(map(lambda x: abs(x), integer_list))\n",
    "\n",
    "# Output: List of absolute values\n",
    "print(\"List of absolute values:\", absolute_values)\n"
   ]
  },
  {
   "cell_type": "markdown",
   "metadata": {},
   "source": [
    "Write a program that uses the map function to create a new list that contains the uppercase version of each string in a user inputted list of strings."
   ]
  },
  {
   "cell_type": "code",
   "execution_count": 25,
   "metadata": {},
   "outputs": [
    {
     "name": "stdout",
     "output_type": "stream",
     "text": [
      "List of uppercase strings: ['RAM,RAVI,DDEVIKA,DEEPAK,SHIVA']\n"
     ]
    }
   ],
   "source": [
    "# Input: List of strings from the user\n",
    "user_input = input(\"Enter a list of strings, separated by spaces: \")\n",
    "string_list = user_input.split()\n",
    "\n",
    "# Using map to apply the str.upper method to each string in the list\n",
    "uppercase_list = list(map(str.upper, string_list))\n",
    "\n",
    "# Output: List of uppercase strings\n",
    "print(\"List of uppercase strings:\", uppercase_list)\n"
   ]
  },
  {
   "cell_type": "markdown",
   "metadata": {},
   "source": [
    "Write a program that uses the filter function to create a new list that contains only the even numbers from a user inputted list of integers."
   ]
  },
  {
   "cell_type": "code",
   "execution_count": 28,
   "metadata": {},
   "outputs": [
    {
     "name": "stdout",
     "output_type": "stream",
     "text": [
      "List of even numbers: [2, 4, 6, 8]\n"
     ]
    }
   ],
   "source": [
    "# Input: List of integers from the user\n",
    "user_input = input(\"Enter a list of integers, separated by spaces: \")\n",
    "integer_list = list(map(int, user_input.split()))\n",
    "\n",
    "# Using filter to apply a lambda function to filter even numbers\n",
    "even_numbers = list(filter(lambda x: x % 2 == 0, integer_list))\n",
    "\n",
    "# Output: List of even numbers\n",
    "print(\"List of even numbers:\", even_numbers)\n"
   ]
  },
  {
   "cell_type": "markdown",
   "metadata": {},
   "source": [
    "Write a program that uses a lambda expression and the filter function to create a new list that contains only the strings that start with a vowel from a user inputted list of strings."
   ]
  },
  {
   "cell_type": "code",
   "execution_count": 31,
   "metadata": {},
   "outputs": [
    {
     "name": "stdout",
     "output_type": "stream",
     "text": [
      "['avi', 'owl', 'union']\n"
     ]
    }
   ],
   "source": [
    "user_input = input(\"enter a string,separated by spaces:\")\n",
    "stringss = list(map(str,user_input.split()))\n",
    "\n",
    "vowel = list(filter(lambda s: s[0].lower() in 'aeiou',stringss))\n",
    "print(vowel)"
   ]
  },
  {
   "cell_type": "markdown",
   "metadata": {},
   "source": [
    "Write a program that uses the filter function to create a new list that contains only the strings with a length greater than 5 from a user inputted list of strings."
   ]
  },
  {
   "cell_type": "code",
   "execution_count": 35,
   "metadata": {},
   "outputs": [
    {
     "name": "stdout",
     "output_type": "stream",
     "text": [
      "the letter greater than5 in a words are : ['rabiiii', 'deepak']\n"
     ]
    }
   ],
   "source": [
    "user_input = input(\"enter a string,separated by spaces:\")\n",
    "stringss = list(map(str,user_input.split()))\n",
    "\n",
    "greaterthanfive = list(filter(lambda x:len(x)>5 , stringss))\n",
    "print(\"the letter greater than5 in a words are :\",greaterthanfive)"
   ]
  },
  {
   "cell_type": "markdown",
   "metadata": {},
   "source": [
    "Write a program that uses a lambda expression and the filter function to create a new list that contains only the positive numbers from a user inputted list of integers."
   ]
  },
  {
   "cell_type": "code",
   "execution_count": 36,
   "metadata": {},
   "outputs": [
    {
     "name": "stdout",
     "output_type": "stream",
     "text": [
      "the positive numbers are: [2, 3]\n"
     ]
    }
   ],
   "source": [
    "user_input = input(\"enter a string,separated by spaces:\")\n",
    "stringss = list(map(int,user_input.split()))\n",
    "\n",
    "positiveno = list(filter(lambda x:x>0,stringss))\n",
    "print(\"the positive numbers are:\",positiveno)"
   ]
  },
  {
   "cell_type": "markdown",
   "metadata": {},
   "source": [
    "Write a program that uses the filter function to create a new list that contains only the strings that contain the letter \"e\" from a user inputted list of strings."
   ]
  },
  {
   "cell_type": "code",
   "execution_count": 39,
   "metadata": {},
   "outputs": [
    {
     "name": "stdout",
     "output_type": "stream",
     "text": [
      "['elephant', 'eee']\n"
     ]
    }
   ],
   "source": [
    "user_input = input(\"enter a string,separated by spaces:\")\n",
    "stringss = list(map(str,user_input.split()))\n",
    "\n",
    "letter = list(filter(lambda s: 'e' in s,stringss))\n",
    "print(letter)"
   ]
  },
  {
   "cell_type": "markdown",
   "metadata": {},
   "source": [
    "Write a program that creates a nested list of strings from a user inputted list of strings. The resulting nested list should contain each string split into its individual characters."
   ]
  },
  {
   "cell_type": "code",
   "execution_count": 40,
   "metadata": {},
   "outputs": [
    {
     "name": "stdout",
     "output_type": "stream",
     "text": [
      "Nested list of strings split into individual characters: [['r', 'a', 'b', 'i'], ['r', 'a', 'j'], ['h', 'i', 'm', 'a', 'n', 's', 'h', 'i'], ['h', 'e', 'l', 'l', 'o']]\n"
     ]
    }
   ],
   "source": [
    "# Input: List of strings from the user\n",
    "user_input = input(\"Enter a list of strings, separated by spaces: \")\n",
    "string_list = user_input.split()\n",
    "\n",
    "# Creating a nested list where each string is split into its individual characters\n",
    "nested_list = [list(s) for s in string_list]\n",
    "\n",
    "# Output: Nested list of strings split into individual characters\n",
    "print(\"Nested list of strings split into individual characters:\", nested_list)\n"
   ]
  },
  {
   "cell_type": "markdown",
   "metadata": {},
   "source": [
    "Write a program that creates a nested list from two user inputted lists of integers. The resulting nested list should contain each element of the first list paired with the corresponding element of the second list."
   ]
  },
  {
   "cell_type": "code",
   "execution_count": 41,
   "metadata": {},
   "outputs": [
    {
     "name": "stdout",
     "output_type": "stream",
     "text": [
      "Nested list of paired elements: [[1, 4], [2, 5], [3, 6]]\n"
     ]
    }
   ],
   "source": [
    "# Input: Two lists of integers from the user\n",
    "user_input1 = input(\"Enter the first list of integers, separated by spaces: \")\n",
    "user_input2 = input(\"Enter the second list of integers, separated by spaces: \")\n",
    "\n",
    "# Splitting the input strings into lists of integers\n",
    "list1 = list(map(int, user_input1.split()))\n",
    "list2 = list(map(int, user_input2.split()))\n",
    "\n",
    "# Creating a nested list where each element of the first list is paired with the corresponding element of the second list\n",
    "nested_list = [[list1[i], list2[i]] for i in range(min(len(list1), len(list2)))]\n",
    "\n",
    "# Output: Nested list of paired elements\n",
    "print(\"Nested list of paired elements:\", nested_list)\n"
   ]
  },
  {
   "cell_type": "markdown",
   "metadata": {},
   "source": [
    "Write a program that creates a nested list of integers from a user inputted list of integers. The resulting nested list should contain each integer along with its square."
   ]
  },
  {
   "cell_type": "code",
   "execution_count": 49,
   "metadata": {},
   "outputs": [
    {
     "name": "stdout",
     "output_type": "stream",
     "text": [
      "[[1, 1], [2, 4], [3, 9], [4, 16]]\n"
     ]
    }
   ],
   "source": [
    "user_input = ( input(\"Enter a list of integers, separated by spaces: \"))\n",
    "integer_list = map(int,user_input.split())\n",
    "\n",
    "#nested_list = list(map(lambda x:x**2,string_list))\n",
    "nested_list = [[num, num ** 2] for num in integer_list]\n",
    "print(nested_list)"
   ]
  },
  {
   "cell_type": "markdown",
   "metadata": {},
   "source": [
    "Write a program that creates a nested list from a user inputted list of strings. The resulting nested list should contain the unique characters from each string."
   ]
  },
  {
   "cell_type": "code",
   "execution_count": 50,
   "metadata": {},
   "outputs": [
    {
     "name": "stdout",
     "output_type": "stream",
     "text": [
      "Nested list of unique characters from each string: [['e', 'a', 'l', 'p'], ['o', 'l', 'h', 'e'], ['w', 'o', 'l', 'd', 'r']]\n"
     ]
    }
   ],
   "source": [
    "user_input = input(\"Enter a list of strings, separated by spaces: \")\n",
    "string_list = user_input.split()\n",
    "\n",
    "# Creating a nested list where each sublist contains unique characters from each string\n",
    "nested_list = [[char for char in set(string)] for string in string_list]\n",
    "\n",
    "# Output: Nested list of unique characters from each string\n",
    "print(\"Nested list of unique characters from each string:\", nested_list)\n"
   ]
  },
  {
   "cell_type": "markdown",
   "metadata": {},
   "source": [
    "Write a program that creates a nested list of integers from a user inputted list of integers. The resulting nested list should contain each integer along with all of its divisors."
   ]
  },
  {
   "cell_type": "code",
   "execution_count": null,
   "metadata": {},
   "outputs": [],
   "source": [
    "# Function to find divisors of a number\n",
    "def find_divisors(num):\n",
    "    divisors = [1]  # Initialize with 1 because every number is divisible by 1\n",
    "    for i in range(2, num//2 + 1):\n",
    "        if num % i == 0:\n",
    "            divisors.append(i)\n",
    "    divisors.append(num)  # Include the number itself as a divisor\n",
    "    return divisors\n",
    "\n",
    "# Input: List of integers from the user\n",
    "user_input = input(\"Enter a list of integers, separated by spaces: \")\n",
    "integer_list = list(map(int, user_input.split()))\n",
    "\n",
    "# Creating a nested list where each integer is paired with its divisors\n",
    "nested_list = [[num, find_divisors(num)] for num in integer_list]\n",
    "\n",
    "# Output: Nested list of integers and their divisors\n",
    "print(\"Nested list of integers and their divisors:\")\n",
    "for item in nested_list:\n",
    "    print(item)\n"
   ]
  },
  {
   "cell_type": "markdown",
   "metadata": {},
   "source": [
    "You are given a list of integers, nums. Write a function, reverse_list(nums), that takes the list as input and returns a new list that is the reverse of the original list. Function signature\n",
    "\n",
    "`def reverse_list(nums: List[int]) -> List[int]`\n"
   ]
  },
  {
   "cell_type": "markdown",
   "metadata": {},
   "source": []
  }
 ],
 "metadata": {
  "kernelspec": {
   "display_name": "Python 3",
   "language": "python",
   "name": "python3"
  },
  "language_info": {
   "codemirror_mode": {
    "name": "ipython",
    "version": 3
   },
   "file_extension": ".py",
   "mimetype": "text/x-python",
   "name": "python",
   "nbconvert_exporter": "python",
   "pygments_lexer": "ipython3",
   "version": "3.11.3"
  }
 },
 "nbformat": 4,
 "nbformat_minor": 2
}
