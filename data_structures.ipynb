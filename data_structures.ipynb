{
 "cells": [
  {
   "cell_type": "code",
   "execution_count": null,
   "metadata": {},
   "outputs": [],
   "source": []
  },
  {
   "cell_type": "markdown",
   "metadata": {},
   "source": [
    "#list\n",
    " creating\n",
    " indexing n slicing\n",
    " method\n",
    " comprehension"
   ]
  },
  {
   "cell_type": "code",
   "execution_count": 1,
   "metadata": {},
   "outputs": [
    {
     "name": "stdout",
     "output_type": "stream",
     "text": [
      "[]\n",
      "[1, 2, 3, 4]\n",
      "['apple', 'banana', 'cherry']\n",
      "['apple', 1, 'banana', 2, 'cherry', 3]\n",
      "[[1, 2, 3], [4, 5, 6], [7, 8, 9]]\n",
      "[['apple', 1], ['banana', 2], ['cherry', 3, 120]]\n"
     ]
    }
   ],
   "source": [
    "a = [] #empty list\n",
    "b=[1,2,3,4]#numerical list\n",
    "c= ['apple','banana','cherry',]#stringlist\n",
    "d=['apple',1,'banana',2,'cherry',3] #mixed list\n",
    "e=[[1,2,3],[4,5,6],[7,8,9]]   #list of list\n",
    "f=[['apple',1],['banana',2],['cherry',3,120]]\n",
    "print(a)\n",
    "print(b)\n",
    "print(c)\n",
    "print(d)\n",
    "print(e)\n",
    "print(f)"
   ]
  },
  {
   "cell_type": "code",
   "execution_count": 2,
   "metadata": {},
   "outputs": [],
   "source": [
    "for i in a:\n",
    "    print(i)"
   ]
  },
  {
   "cell_type": "code",
   "execution_count": 4,
   "metadata": {},
   "outputs": [
    {
     "name": "stdout",
     "output_type": "stream",
     "text": [
      "1\n",
      "2\n",
      "3\n",
      "4\n"
     ]
    }
   ],
   "source": [
    "for i in b:\n",
    "    print(i)"
   ]
  },
  {
   "cell_type": "code",
   "execution_count": 5,
   "metadata": {},
   "outputs": [
    {
     "name": "stdout",
     "output_type": "stream",
     "text": [
      "apple\n",
      "banana\n",
      "cherry\n"
     ]
    }
   ],
   "source": [
    "for i in c:\n",
    "    print(i)"
   ]
  },
  {
   "cell_type": "code",
   "execution_count": 8,
   "metadata": {},
   "outputs": [
    {
     "name": "stdout",
     "output_type": "stream",
     "text": [
      "['h', 'e', 'l', 'l', 'o']\n",
      "[0, 1, 2, 3, 4, 5, 6, 7, 8, 9]\n",
      "[1, 2, 3, 4, 5]\n",
      "[1, 2, 3, 1, 2, 3, 1, 2, 3, 1, 2, 3, 1, 2, 3]\n"
     ]
    }
   ],
   "source": [
    "g= list('hello')\n",
    "h = list(range(10))\n",
    "i = list((1,2,3,4,5))\n",
    "j = [1,2,3]* 5\n",
    "print(g)\n",
    "print(h)\n",
    "print(i)\n",
    "print(j)\n"
   ]
  },
  {
   "cell_type": "code",
   "execution_count": 17,
   "metadata": {},
   "outputs": [
    {
     "name": "stdout",
     "output_type": "stream",
     "text": [
      "sita Raman\n",
      "shershah\n",
      "Major\n",
      "Devdas\n",
      "Yodha\n",
      "['sita Raman', 'shershah', 'Major', 'Devdas', 'Yodha']\n",
      "5\n",
      "first movie: sita Raman\n",
      "last movie: Yodha\n",
      "second movie: shershah\n",
      "third movie: Major\n"
     ]
    }
   ],
   "source": [
    "movies = ['sita Raman','shershah','Major','Devdas','Yodha']\n",
    "for i in movies:\n",
    "    print(i)\n",
    "print(movies)\n",
    "print(len(movies))\n",
    "print(\"first movie:\",movies[0])\n",
    "print(\"last movie:\",movies[-1])\n",
    "print(\"second movie:\",movies[1])\n",
    "print(\"third movie:\",movies[2])"
   ]
  },
  {
   "cell_type": "code",
   "execution_count": 26,
   "metadata": {},
   "outputs": [
    {
     "name": "stdout",
     "output_type": "stream",
     "text": [
      "[3, 4, 5, 6, 7, 8]\n",
      "[10, 9, 8, 7, 6, 5, 4, 3, 2, 1]\n",
      "[1, 2, 3]\n",
      "[1, 3, 5, 7, 9]\n"
     ]
    }
   ],
   "source": [
    "numbers = [1,2,3,4,5,6,7,8,9,10]\n",
    "print(numbers[2:-2]) #first two and last two removes\n",
    "print(numbers[::-1]) #reverse\n",
    "print(numbers[:3]) #0,1,2\n",
    "print(numbers[::2]) #8,9,10"
   ]
  },
  {
   "cell_type": "markdown",
   "metadata": {},
   "source": [
    "#list methods(11)\n",
    " -adding/updating\n",
    "   -`append()`   #add only one\n",
    "   -`extend()`  #add  multiple \n",
    "   -`insert()`\n",
    " -removing/deleting\n",
    "  -`remove()`\n",
    "  -`pop()`\n",
    "  -`clear()`\n",
    " -utility\n",
    "  - sort()\n",
    "  - reverse()\n",
    "  - index()\n",
    "  - count()\n",
    "  - copy()"
   ]
  },
  {
   "cell_type": "code",
   "execution_count": 27,
   "metadata": {},
   "outputs": [
    {
     "name": "stdout",
     "output_type": "stream",
     "text": [
      "fav_books:  ['harry potter ,hero of ages,the final empire,oathbringer,way of the king', 'new moon ,harddy boys,hhhhhhhh', '', '', '']\n",
      "hated books: ['', '', 'hhhhhh,ghghhgh,gjgjgj']\n"
     ]
    }
   ],
   "source": [
    "fav_books = []\n",
    "hated_books = []\n",
    "for i in range(5):\n",
    "    book = input(\"enter your fav book:\")\n",
    "    fav_books.append(book)\n",
    "for i in range(3):\n",
    "    book= input(\"enter your hated book: \")\n",
    "    hated_books.append(book)\n",
    "\n",
    "print(\"fav_books: \",fav_books)\n",
    "print(\"hated books:\",hated_books)"
   ]
  },
  {
   "cell_type": "code",
   "execution_count": 28,
   "metadata": {},
   "outputs": [
    {
     "name": "stdout",
     "output_type": "stream",
     "text": [
      "['', '', 'hhhhhh,ghghhgh,gjgjgj', 'julius caesar']\n"
     ]
    }
   ],
   "source": [
    "hated_books.append(\"julius caesar\")#add to the ebd\n",
    "print(hated_books)"
   ]
  },
  {
   "cell_type": "code",
   "execution_count": 29,
   "metadata": {},
   "outputs": [
    {
     "name": "stdout",
     "output_type": "stream",
     "text": [
      "['harry potter ,hero of ages,the final empire,oathbringer,way of the king', 'new moon ,harddy boys,hhhhhhhh', '', '', '', '', '', 'hhhhhh,ghghhgh,gjgjgj', 'julius caesar']\n"
     ]
    }
   ],
   "source": [
    "#merge two lists and create a new list\n",
    "books=fav_books + hated_books\n",
    "print(books)"
   ]
  },
  {
   "cell_type": "code",
   "execution_count": 33,
   "metadata": {},
   "outputs": [
    {
     "name": "stdout",
     "output_type": "stream",
     "text": [
      "['harry potter ,hero of ages,the final empire,oathbringer,way of the king', 'new moon ,harddy boys,hhhhhhhh', '', '', '', '', '', 'hhhhhh,ghghhgh,gjgjgj', 'julius caesar', 'Legion', 'Rithmatist', 'Steelheart', 'Legion', 'Rithmatist', 'Steelheart', 'Legion', 'Rithmatist', 'Steelheart', 'Legion', 'Rithmatist', 'Steelheart']\n",
      "total book: 21\n"
     ]
    }
   ],
   "source": [
    "#adding a list to existing list\n",
    "books.extend(['Legion','Rithmatist','Steelheart'])\n",
    "print(books)\n",
    "print('total book:',len(books))"
   ]
  },
  {
   "cell_type": "code",
   "execution_count": 35,
   "metadata": {},
   "outputs": [
    {
     "ename": "TypeError",
     "evalue": "list.append() takes exactly one argument (2 given)",
     "output_type": "error",
     "traceback": [
      "\u001b[1;31m---------------------------------------------------------------------------\u001b[0m",
      "\u001b[1;31mTypeError\u001b[0m                                 Traceback (most recent call last)",
      "Cell \u001b[1;32mIn[35], line 1\u001b[0m\n\u001b[1;32m----> 1\u001b[0m \u001b[43mbooks\u001b[49m\u001b[38;5;241;43m.\u001b[39;49m\u001b[43mappend\u001b[49m\u001b[43m(\u001b[49m\u001b[38;5;124;43m'\u001b[39;49m\u001b[38;5;124;43mgfggfgfg\u001b[39;49m\u001b[38;5;124;43m'\u001b[39;49m\u001b[43m,\u001b[49m\u001b[38;5;124;43m'\u001b[39;49m\u001b[38;5;124;43mfhfhhfhf\u001b[39;49m\u001b[38;5;124;43m'\u001b[39;49m\u001b[43m)\u001b[49m\n\u001b[0;32m      2\u001b[0m \u001b[38;5;28mprint\u001b[39m(books)\n",
      "\u001b[1;31mTypeError\u001b[0m: list.append() takes exactly one argument (2 given)"
     ]
    }
   ],
   "source": [
    "books.append('gfggfgfg','fhfhhfhf')\n",
    "print(books)"
   ]
  },
  {
   "cell_type": "code",
   "execution_count": 37,
   "metadata": {},
   "outputs": [
    {
     "name": "stdout",
     "output_type": "stream",
     "text": [
      "['harry potter ,hero of ages,the final empire,oathbringer,way of the king', 'new moon ,harddy boys,hhhhhhhh', '', '', '', '', '', 'hhhhhh,ghghhgh,gjgjgj', 'julius caesar', 'Legion', 'Rithmatist', 'Steelheart', 'Legion', 'Rithmatist', 'Steelheart', 'Legion', 'Rithmatist', 'Steelheart', 'Legion', 'Rithmatist', 'Steelheart', ['ggggggg', 'fffffffff'], ['ggggggg', 'fffffffff']]\n"
     ]
    }
   ],
   "source": [
    "books.append(['ggggggg','fffffffff']) #nesting\n",
    "print(books)"
   ]
  },
  {
   "cell_type": "code",
   "execution_count": 42,
   "metadata": {},
   "outputs": [
    {
     "name": "stdout",
     "output_type": "stream",
     "text": [
      "['vvvvv', 'vvvvv', 'vvvvv', 'vvvvv', 'harry potter ,hero of ages,the final empire,oathbringer,way of the king', 'new moon ,harddy boys,hhhhhhhh', '', '', '', '', '', 'hhhhhh,ghghhgh,gjgjgj', 'julius caesar', 'Legion', 'Rithmatist', 'Steelheart', 'Legion', 'Rithmatist', 'Steelheart', 'Legion', 'Rithmatist', 'Steelheart', 'Legion', 'Rithmatist', 'Steelheart', ['ggggggg', 'fffffffff'], ['ggggggg', 'fffffffff']]\n"
     ]
    },
    {
     "data": {
      "text/plain": [
       "['vvvvv',\n",
       " 'vvvvv',\n",
       " 'vvvvv',\n",
       " 'Pygmalion ',\n",
       " 'harry potter ,hero of ages,the final empire,oathbringer,way of the king',\n",
       " 'new moon ,harddy boys,hhhhhhhh',\n",
       " '',\n",
       " '',\n",
       " '',\n",
       " '',\n",
       " '',\n",
       " 'hhhhhh,ghghhgh,gjgjgj',\n",
       " 'julius caesar',\n",
       " 'Legion',\n",
       " 'Rithmatist',\n",
       " 'Steelheart',\n",
       " 'Legion',\n",
       " 'Rithmatist',\n",
       " 'Steelheart',\n",
       " 'Legion',\n",
       " 'Rithmatist',\n",
       " 'Steelheart',\n",
       " 'Legion',\n",
       " 'Rithmatist',\n",
       " 'Steelheart',\n",
       " ['ggggggg', 'fffffffff'],\n",
       " ['ggggggg', 'fffffffff']]"
      ]
     },
     "execution_count": 42,
     "metadata": {},
     "output_type": "execute_result"
    }
   ],
   "source": [
    "books.insert(0,'vvvvv')\n",
    "print(books)\n",
    "books[3] = 'Pygmalion ' #replace at index 3\n",
    "books"
   ]
  },
  {
   "cell_type": "code",
   "execution_count": 47,
   "metadata": {},
   "outputs": [],
   "source": [
    "books.remove('vvvvv') # remove by value"
   ]
  },
  {
   "cell_type": "code",
   "execution_count": 48,
   "metadata": {},
   "outputs": [
    {
     "data": {
      "text/plain": [
       "''"
      ]
     },
     "execution_count": 48,
     "metadata": {},
     "output_type": "execute_result"
    }
   ],
   "source": [
    "books.pop(6)#remove by index (pop)"
   ]
  },
  {
   "cell_type": "code",
   "execution_count": 50,
   "metadata": {},
   "outputs": [
    {
     "ename": "IndexError",
     "evalue": "pop index out of range",
     "output_type": "error",
     "traceback": [
      "\u001b[1;31m---------------------------------------------------------------------------\u001b[0m",
      "\u001b[1;31mIndexError\u001b[0m                                Traceback (most recent call last)",
      "Cell \u001b[1;32mIn[50], line 1\u001b[0m\n\u001b[1;32m----> 1\u001b[0m \u001b[43mbooks\u001b[49m\u001b[38;5;241;43m.\u001b[39;49m\u001b[43mpop\u001b[49m\u001b[43m(\u001b[49m\u001b[38;5;241;43m25\u001b[39;49m\u001b[43m)\u001b[49m\n",
      "\u001b[1;31mIndexError\u001b[0m: pop index out of range"
     ]
    }
   ],
   "source": [
    "books.pop(25)"
   ]
  },
  {
   "cell_type": "code",
   "execution_count": 51,
   "metadata": {},
   "outputs": [
    {
     "data": {
      "text/plain": [
       "['ggggggg', 'fffffffff']"
      ]
     },
     "execution_count": 51,
     "metadata": {},
     "output_type": "execute_result"
    }
   ],
   "source": [
    "books.pop()#remove by lats"
   ]
  },
  {
   "cell_type": "code",
   "execution_count": 52,
   "metadata": {},
   "outputs": [
    {
     "data": {
      "text/plain": [
       "[]"
      ]
     },
     "execution_count": 52,
     "metadata": {},
     "output_type": "execute_result"
    }
   ],
   "source": [
    "hated_books.clear()#remove all elements\n",
    "hated_books"
   ]
  },
  {
   "cell_type": "code",
   "execution_count": null,
   "metadata": {},
   "outputs": [],
   "source": [
    "#wap to create an empty list,then fill the list with 10 prime numbers using,staring with 2"
   ]
  },
  {
   "cell_type": "code",
   "execution_count": 2,
   "metadata": {},
   "outputs": [
    {
     "name": "stdout",
     "output_type": "stream",
     "text": [
      "The first 10 prime numbers are: [2, 3, 5, 7, 11, 13, 17, 19, 23, 29]\n"
     ]
    }
   ],
   "source": [
    "def is_prime(num):\n",
    "    \"\"\"\n",
    "    Check if a number is prime.\n",
    "    A prime number is a natural number greater than 1 that has no positive divisors other than 1 and itself.\n",
    "    \"\"\"\n",
    "    if num <= 1:\n",
    "        return False\n",
    "    # Check divisibility from 2 up to the square root of num\n",
    "    for i in range(2, int(num**0.5) + 1):\n",
    "        if num % i == 0:\n",
    "            return False\n",
    "    return True\n",
    "\n",
    "# Create an empty list to store prime numbers\n",
    "prime_numbers = []\n",
    "\n",
    "# Variable to keep track of the current number to be checked\n",
    "current_number = 2\n",
    "\n",
    "# Loop until we have 10 prime numbers in the list\n",
    "while len(prime_numbers) < 10:\n",
    "    if is_prime(current_number):\n",
    "        prime_numbers.append(current_number)\n",
    "    current_number += 1\n",
    "\n",
    "# Print the list of the first 10 prime numbers\n",
    "print(\"The first 10 prime numbers are:\", prime_numbers)"
   ]
  },
  {
   "cell_type": "code",
   "execution_count": 3,
   "metadata": {},
   "outputs": [
    {
     "name": "stdout",
     "output_type": "stream",
     "text": [
      "[2, 3, 5, 7, 11, 13, 17, 19, 23, 29]\n"
     ]
    }
   ],
   "source": [
    "def is_prime(num):\n",
    "    \"\"\"Check if a number is prime.\"\"\"\n",
    "    if num <= 1:\n",
    "        return False\n",
    "    for i in range(2, int(num**0.5) + 1):\n",
    "        if num % i == 0:\n",
    "            return False\n",
    "    return True\n",
    "\n",
    "# Create an empty list\n",
    "prime_numbers = []\n",
    "\n",
    "# Variable to keep track of the current number\n",
    "current_number = 2\n",
    "\n",
    "# Loop until we have 10 prime numbers\n",
    "while len(prime_numbers) < 10:\n",
    "    if is_prime(current_number):\n",
    "        prime_numbers.append(current_number)\n",
    "    current_number += 1\n",
    "\n",
    "# Print the list of prime numbers\n",
    "print(prime_numbers)\n"
   ]
  },
  {
   "cell_type": "markdown",
   "metadata": {},
   "source": [
    "#utilities\n"
   ]
  },
  {
   "cell_type": "code",
   "execution_count": 1,
   "metadata": {},
   "outputs": [
    {
     "data": {
      "text/plain": [
       "[2, 67, 5, 23, 78, 6, 2, 1, 67, 3, 12]"
      ]
     },
     "execution_count": 1,
     "metadata": {},
     "output_type": "execute_result"
    }
   ],
   "source": [
    "numbers=[12,3,67,1,2,6,78,23,5,67,2]\n",
    "#reverse\n",
    "numbers[::-1]#gives the result but doesn't change the original list"
   ]
  },
  {
   "cell_type": "code",
   "execution_count": 2,
   "metadata": {},
   "outputs": [],
   "source": [
    "numbers.reverse()  #changes the original list"
   ]
  },
  {
   "cell_type": "code",
   "execution_count": 3,
   "metadata": {},
   "outputs": [
    {
     "name": "stdout",
     "output_type": "stream",
     "text": [
      "[1, 2, 2, 3, 5, 6, 12, 23, 67, 67, 78]\n",
      "[78, 67, 67, 23, 12, 6, 5, 3, 2, 2, 1]\n"
     ]
    }
   ],
   "source": [
    "numbers.sort()#ascending order,,changes the original list\n",
    "print(numbers)\n",
    "numbers.sort(reverse=True)  #descending order\n",
    "print(numbers)"
   ]
  },
  {
   "cell_type": "code",
   "execution_count": 7,
   "metadata": {},
   "outputs": [
    {
     "name": "stdout",
     "output_type": "stream",
     "text": [
      "[[1, 12], [2, 5], [4, 15], [5, 10]]\n"
     ]
    }
   ],
   "source": [
    "x = [[1, 12],[2, 5],[5, 10],[4, 15]]\n",
    "x.sort()#sort by first element of each sublist\n",
    "print(x)"
   ]
  },
  {
   "cell_type": "code",
   "execution_count": 8,
   "metadata": {},
   "outputs": [
    {
     "name": "stdout",
     "output_type": "stream",
     "text": [
      "[[2, 5], [5, 10], [1, 12], [4, 15]]\n"
     ]
    }
   ],
   "source": [
    "x.sort(key=lambda e:e[1])\n",
    "print(x)"
   ]
  },
  {
   "cell_type": "code",
   "execution_count": 9,
   "metadata": {},
   "outputs": [
    {
     "name": "stdout",
     "output_type": "stream",
     "text": [
      "[[2, 5], [1, 12], [5, 10], [4, 15]]\n"
     ]
    }
   ],
   "source": [
    "x.sort(key=lambda i:sum(i))\n",
    "print(x)"
   ]
  },
  {
   "cell_type": "code",
   "execution_count": 10,
   "metadata": {},
   "outputs": [
    {
     "name": "stdout",
     "output_type": "stream",
     "text": [
      "[('Alex', 35), ('Alice', 25), ('Bob', 19)]\n"
     ]
    }
   ],
   "source": [
    "users = [('Alice',25),('Bob',19),('Alex',35)]\n",
    "users.sort()\n",
    "print(users)"
   ]
  },
  {
   "cell_type": "code",
   "execution_count": 12,
   "metadata": {},
   "outputs": [
    {
     "name": "stdout",
     "output_type": "stream",
     "text": [
      "[('Bob', 19), ('Alice', 25), ('Alex', 35)]\n"
     ]
    }
   ],
   "source": [
    "users.sort(key=lambda e:e[1])\n",
    "print(users)"
   ]
  },
  {
   "cell_type": "code",
   "execution_count": 17,
   "metadata": {},
   "outputs": [
    {
     "name": "stdout",
     "output_type": "stream",
     "text": [
      "[['Laptop', 60000, 1], ['Mobile', 25000, 2], ['headphones', 1500, 2], ['Watch', 3000, 3]]\n"
     ]
    }
   ],
   "source": [
    "cart = [\n",
    "    ['Mobile',25000,2],\n",
    "    ['Laptop',60000,1],\n",
    "    ['Watch',3000,3],\n",
    "    ['headphones',1500,2],\n",
    "]\n",
    "cart.sort(key=lambda e:e[2])\n",
    "print(cart)"
   ]
  },
  {
   "cell_type": "code",
   "execution_count": 18,
   "metadata": {},
   "outputs": [
    {
     "name": "stdout",
     "output_type": "stream",
     "text": [
      "[['headphones', 1500, 2], ['Watch', 3000, 3], ['Mobile', 25000, 2], ['Laptop', 60000, 1]]\n"
     ]
    }
   ],
   "source": [
    "cart.sort(key=lambda i:i[1]*i[2])  #according to toatal price\n",
    "print(cart)"
   ]
  },
  {
   "cell_type": "code",
   "execution_count": 19,
   "metadata": {},
   "outputs": [
    {
     "name": "stdout",
     "output_type": "stream",
     "text": [
      "1 occurs: 8\n",
      "5 occurs: 2\n"
     ]
    }
   ],
   "source": [
    "a = [1,2,3,1,1,2,2,3,4,4,5,5,1,1,1,1,1,0]\n",
    "print(\"1 occurs:\",a.count(1))\n",
    "print(\"5 occurs:\",a.count(5))"
   ]
  },
  {
   "cell_type": "code",
   "execution_count": 21,
   "metadata": {},
   "outputs": [
    {
     "data": {
      "text/plain": [
       "4"
      ]
     },
     "execution_count": 21,
     "metadata": {},
     "output_type": "execute_result"
    }
   ],
   "source": [
    "numbers.index(12) #gives the index of 12(first occurence)"
   ]
  },
  {
   "cell_type": "code",
   "execution_count": 24,
   "metadata": {},
   "outputs": [
    {
     "name": "stdout",
     "output_type": "stream",
     "text": [
      "[1, 2, 3, 4, 5]\n",
      "[1, 2, 3, 4, 5]\n",
      "[1, 2, 3, 4, 5]\n",
      "[1, 2, 3, 4, 5, 6, 20]\n",
      "[1, 2, 3, 4, 5, 10]\n",
      "[1, 2, 3, 4, 5, 6, 20]\n"
     ]
    }
   ],
   "source": [
    "a = [1,2,3,4,5]\n",
    "b=a.copy()#shallow copy\n",
    "c=a #reference copy\n",
    "print(a)\n",
    "print(b)\n",
    "print(c)\n",
    "a.append(6)\n",
    "b.append(10)\n",
    "c.append(20)\n",
    "print(a)\n",
    "print(b)\n",
    "print(c)\n"
   ]
  },
  {
   "cell_type": "markdown",
   "metadata": {},
   "source": [
    "#comprehension"
   ]
  },
  {
   "cell_type": "code",
   "execution_count": 27,
   "metadata": {},
   "outputs": [
    {
     "name": "stdout",
     "output_type": "stream",
     "text": [
      "[1, 2, 3, 4, 5]\n",
      "[1, 8, 27, 64, 125]\n",
      "[-4, -3, -2, -1, 0]\n",
      "[4, 16]\n"
     ]
    }
   ],
   "source": [
    "a = [1,2,3,4,5]\n",
    "a3 = [i**3 for i in a]\n",
    "print(a)\n",
    "print(a3)\n",
    "a5 = [i-5 for i in a]\n",
    "print(a5)\n",
    "aeven2  = [i**2 for i in a if i%2==0]\n",
    "print(aeven2)"
   ]
  },
  {
   "cell_type": "markdown",
   "metadata": {},
   "source": [
    "#rookie way"
   ]
  },
  {
   "cell_type": "code",
   "execution_count": null,
   "metadata": {},
   "outputs": [],
   "source": [
    "aodd2 =[]\n",
    "for i in a:\n",
    "    if i%2!=0:\n",
    "        aodd2.append(i**2)\n",
    "#pythonic way\n",
    "aeven2 = [i**2 for i in a if i%2==0]\n",
    "print(aeven2)\n",
    "#map and filters\n",
    "#aodd2 = list(map(lambda i: i**2,filter(lambda i:i%2!=0,a))) #not good\n"
   ]
  },
  {
   "cell_type": "code",
   "execution_count": 34,
   "metadata": {},
   "outputs": [
    {
     "name": "stdout",
     "output_type": "stream",
     "text": [
      "['AS]', 'BB]', 'CG]', 'DW]']\n",
      "['AS', 'BB', 'CG', 'DW']\n"
     ]
    }
   ],
   "source": [
    "names = ['Alice Smith','Bob Brown','Charlie Green','David White']\n",
    "initials=[]\n",
    "for n in names:\n",
    "    parts=n.split()\n",
    "    initials.append(f\"{n.split()[0][0]}{n.split()[-1][0]}]\")\n",
    "print(initials)\n",
    "#comprehension\n",
    "initials = [f\"{n.split()[0][0]}{n.split()[-1][0]}\" for n in names]\n",
    "print(initials)\n"
   ]
  },
  {
   "cell_type": "code",
   "execution_count": null,
   "metadata": {},
   "outputs": [],
   "source": []
  }
 ],
 "metadata": {
  "kernelspec": {
   "display_name": "Python 3",
   "language": "python",
   "name": "python3"
  },
  "language_info": {
   "codemirror_mode": {
    "name": "ipython",
    "version": 3
   },
   "file_extension": ".py",
   "mimetype": "text/x-python",
   "name": "python",
   "nbconvert_exporter": "python",
   "pygments_lexer": "ipython3",
   "version": "3.11.3"
  }
 },
 "nbformat": 4,
 "nbformat_minor": 2
}
