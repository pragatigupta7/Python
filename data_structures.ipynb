{
 "cells": [
  {
   "cell_type": "code",
   "execution_count": null,
   "metadata": {},
   "outputs": [],
   "source": []
  },
  {
   "cell_type": "markdown",
   "metadata": {},
   "source": [
    "# list\n",
    "- creating\n",
    "- indexing n slicing\n",
    "- method\n",
    "- comprehension"
   ]
  },
  {
   "cell_type": "code",
   "execution_count": 1,
   "metadata": {},
   "outputs": [
    {
     "name": "stdout",
     "output_type": "stream",
     "text": [
      "[]\n",
      "[1, 2, 3, 4]\n",
      "['apple', 'banana', 'cherry']\n",
      "['apple', 1, 'banana', 2, 'cherry', 3]\n",
      "[[1, 2, 3], [4, 5, 6], [7, 8, 9]]\n",
      "[['apple', 1], ['banana', 2], ['cherry', 3, 120]]\n"
     ]
    }
   ],
   "source": [
    "a = [] #empty list\n",
    "b=[1,2,3,4]#numerical list\n",
    "c= ['apple','banana','cherry',]#stringlist\n",
    "d=['apple',1,'banana',2,'cherry',3] #mixed list\n",
    "e=[[1,2,3],[4,5,6],[7,8,9]]   #list of list\n",
    "f=[['apple',1],['banana',2],['cherry',3,120]]\n",
    "print(a)\n",
    "print(b)\n",
    "print(c)\n",
    "print(d)\n",
    "print(e)\n",
    "print(f)"
   ]
  },
  {
   "cell_type": "code",
   "execution_count": 1,
   "metadata": {},
   "outputs": [
    {
     "ename": "NameError",
     "evalue": "name 'a' is not defined",
     "output_type": "error",
     "traceback": [
      "\u001b[1;31m---------------------------------------------------------------------------\u001b[0m",
      "\u001b[1;31mNameError\u001b[0m                                 Traceback (most recent call last)",
      "Cell \u001b[1;32mIn[1], line 1\u001b[0m\n\u001b[1;32m----> 1\u001b[0m \u001b[38;5;28;01mfor\u001b[39;00m i \u001b[38;5;129;01min\u001b[39;00m \u001b[43ma\u001b[49m:\n\u001b[0;32m      2\u001b[0m     \u001b[38;5;28mprint\u001b[39m(i)\n",
      "\u001b[1;31mNameError\u001b[0m: name 'a' is not defined"
     ]
    }
   ],
   "source": [
    "for i in a:\n",
    "    print(i)"
   ]
  },
  {
   "cell_type": "code",
   "execution_count": 4,
   "metadata": {},
   "outputs": [
    {
     "name": "stdout",
     "output_type": "stream",
     "text": [
      "1\n",
      "2\n",
      "3\n",
      "4\n"
     ]
    }
   ],
   "source": [
    "for i in b:\n",
    "    print(i)"
   ]
  },
  {
   "cell_type": "code",
   "execution_count": 5,
   "metadata": {},
   "outputs": [
    {
     "name": "stdout",
     "output_type": "stream",
     "text": [
      "apple\n",
      "banana\n",
      "cherry\n"
     ]
    }
   ],
   "source": [
    "for i in c:\n",
    "    print(i)"
   ]
  },
  {
   "cell_type": "code",
   "execution_count": 8,
   "metadata": {},
   "outputs": [
    {
     "name": "stdout",
     "output_type": "stream",
     "text": [
      "['h', 'e', 'l', 'l', 'o']\n",
      "[0, 1, 2, 3, 4, 5, 6, 7, 8, 9]\n",
      "[1, 2, 3, 4, 5]\n",
      "[1, 2, 3, 1, 2, 3, 1, 2, 3, 1, 2, 3, 1, 2, 3]\n"
     ]
    }
   ],
   "source": [
    "g= list('hello')\n",
    "h = list(range(10))\n",
    "i = list((1,2,3,4,5))\n",
    "j = [1,2,3]* 5\n",
    "print(g)\n",
    "print(h)\n",
    "print(i)\n",
    "print(j)\n"
   ]
  },
  {
   "cell_type": "code",
   "execution_count": 17,
   "metadata": {},
   "outputs": [
    {
     "name": "stdout",
     "output_type": "stream",
     "text": [
      "sita Raman\n",
      "shershah\n",
      "Major\n",
      "Devdas\n",
      "Yodha\n",
      "['sita Raman', 'shershah', 'Major', 'Devdas', 'Yodha']\n",
      "5\n",
      "first movie: sita Raman\n",
      "last movie: Yodha\n",
      "second movie: shershah\n",
      "third movie: Major\n"
     ]
    }
   ],
   "source": [
    "movies = ['sita Raman','shershah','Major','Devdas','Yodha']\n",
    "for i in movies:\n",
    "    print(i)\n",
    "print(movies)\n",
    "print(len(movies))\n",
    "print(\"first movie:\",movies[0])\n",
    "print(\"last movie:\",movies[-1])\n",
    "print(\"second movie:\",movies[1])\n",
    "print(\"third movie:\",movies[2])"
   ]
  },
  {
   "cell_type": "code",
   "execution_count": 26,
   "metadata": {},
   "outputs": [
    {
     "name": "stdout",
     "output_type": "stream",
     "text": [
      "[3, 4, 5, 6, 7, 8]\n",
      "[10, 9, 8, 7, 6, 5, 4, 3, 2, 1]\n",
      "[1, 2, 3]\n",
      "[1, 3, 5, 7, 9]\n"
     ]
    }
   ],
   "source": [
    "numbers = [1,2,3,4,5,6,7,8,9,10]\n",
    "print(numbers[2:-2]) #first two and last two removes\n",
    "print(numbers[::-1]) #reverse\n",
    "print(numbers[:3]) #0,1,2\n",
    "print(numbers[::2]) #8,9,10"
   ]
  },
  {
   "cell_type": "markdown",
   "metadata": {},
   "source": [
    "### list methods(11)\n",
    " - adding/updating\n",
    "   - `append()`   #add only one\n",
    "   - `extend()`  #add  multiple \n",
    "   - `insert()`\n",
    " - removing/deleting\n",
    "  - `remove()`\n",
    "  - `pop()`\n",
    "  - `clear()`\n",
    " - utility\n",
    "  - sort()\n",
    "  - reverse()\n",
    "  - index()\n",
    "  - count()\n",
    "  - copy()"
   ]
  },
  {
   "cell_type": "code",
   "execution_count": 27,
   "metadata": {},
   "outputs": [
    {
     "name": "stdout",
     "output_type": "stream",
     "text": [
      "fav_books:  ['harry potter ,hero of ages,the final empire,oathbringer,way of the king', 'new moon ,harddy boys,hhhhhhhh', '', '', '']\n",
      "hated books: ['', '', 'hhhhhh,ghghhgh,gjgjgj']\n"
     ]
    }
   ],
   "source": [
    "fav_books = []\n",
    "hated_books = []\n",
    "for i in range(5):\n",
    "    book = input(\"enter your fav book:\")\n",
    "    fav_books.append(book)\n",
    "for i in range(3):\n",
    "    book= input(\"enter your hated book: \")\n",
    "    hated_books.append(book)\n",
    "\n",
    "print(\"fav_books: \",fav_books)\n",
    "print(\"hated books:\",hated_books)"
   ]
  },
  {
   "cell_type": "code",
   "execution_count": 28,
   "metadata": {},
   "outputs": [
    {
     "name": "stdout",
     "output_type": "stream",
     "text": [
      "['', '', 'hhhhhh,ghghhgh,gjgjgj', 'julius caesar']\n"
     ]
    }
   ],
   "source": [
    "hated_books.append(\"julius caesar\")#add to the ebd\n",
    "print(hated_books)"
   ]
  },
  {
   "cell_type": "code",
   "execution_count": 29,
   "metadata": {},
   "outputs": [
    {
     "name": "stdout",
     "output_type": "stream",
     "text": [
      "['harry potter ,hero of ages,the final empire,oathbringer,way of the king', 'new moon ,harddy boys,hhhhhhhh', '', '', '', '', '', 'hhhhhh,ghghhgh,gjgjgj', 'julius caesar']\n"
     ]
    }
   ],
   "source": [
    "#merge two lists and create a new list\n",
    "books=fav_books + hated_books\n",
    "print(books)"
   ]
  },
  {
   "cell_type": "code",
   "execution_count": 33,
   "metadata": {},
   "outputs": [
    {
     "name": "stdout",
     "output_type": "stream",
     "text": [
      "['harry potter ,hero of ages,the final empire,oathbringer,way of the king', 'new moon ,harddy boys,hhhhhhhh', '', '', '', '', '', 'hhhhhh,ghghhgh,gjgjgj', 'julius caesar', 'Legion', 'Rithmatist', 'Steelheart', 'Legion', 'Rithmatist', 'Steelheart', 'Legion', 'Rithmatist', 'Steelheart', 'Legion', 'Rithmatist', 'Steelheart']\n",
      "total book: 21\n"
     ]
    }
   ],
   "source": [
    "#adding a list to existing list\n",
    "books.extend(['Legion','Rithmatist','Steelheart'])\n",
    "print(books)\n",
    "print('total book:',len(books))"
   ]
  },
  {
   "cell_type": "code",
   "execution_count": 35,
   "metadata": {},
   "outputs": [
    {
     "ename": "TypeError",
     "evalue": "list.append() takes exactly one argument (2 given)",
     "output_type": "error",
     "traceback": [
      "\u001b[1;31m---------------------------------------------------------------------------\u001b[0m",
      "\u001b[1;31mTypeError\u001b[0m                                 Traceback (most recent call last)",
      "Cell \u001b[1;32mIn[35], line 1\u001b[0m\n\u001b[1;32m----> 1\u001b[0m \u001b[43mbooks\u001b[49m\u001b[38;5;241;43m.\u001b[39;49m\u001b[43mappend\u001b[49m\u001b[43m(\u001b[49m\u001b[38;5;124;43m'\u001b[39;49m\u001b[38;5;124;43mgfggfgfg\u001b[39;49m\u001b[38;5;124;43m'\u001b[39;49m\u001b[43m,\u001b[49m\u001b[38;5;124;43m'\u001b[39;49m\u001b[38;5;124;43mfhfhhfhf\u001b[39;49m\u001b[38;5;124;43m'\u001b[39;49m\u001b[43m)\u001b[49m\n\u001b[0;32m      2\u001b[0m \u001b[38;5;28mprint\u001b[39m(books)\n",
      "\u001b[1;31mTypeError\u001b[0m: list.append() takes exactly one argument (2 given)"
     ]
    }
   ],
   "source": [
    "books.append('gfggfgfg','fhfhhfhf')\n",
    "print(books)"
   ]
  },
  {
   "cell_type": "code",
   "execution_count": 37,
   "metadata": {},
   "outputs": [
    {
     "name": "stdout",
     "output_type": "stream",
     "text": [
      "['harry potter ,hero of ages,the final empire,oathbringer,way of the king', 'new moon ,harddy boys,hhhhhhhh', '', '', '', '', '', 'hhhhhh,ghghhgh,gjgjgj', 'julius caesar', 'Legion', 'Rithmatist', 'Steelheart', 'Legion', 'Rithmatist', 'Steelheart', 'Legion', 'Rithmatist', 'Steelheart', 'Legion', 'Rithmatist', 'Steelheart', ['ggggggg', 'fffffffff'], ['ggggggg', 'fffffffff']]\n"
     ]
    }
   ],
   "source": [
    "books.append(['ggggggg','fffffffff']) #nesting\n",
    "print(books)"
   ]
  },
  {
   "cell_type": "code",
   "execution_count": 42,
   "metadata": {},
   "outputs": [
    {
     "name": "stdout",
     "output_type": "stream",
     "text": [
      "['vvvvv', 'vvvvv', 'vvvvv', 'vvvvv', 'harry potter ,hero of ages,the final empire,oathbringer,way of the king', 'new moon ,harddy boys,hhhhhhhh', '', '', '', '', '', 'hhhhhh,ghghhgh,gjgjgj', 'julius caesar', 'Legion', 'Rithmatist', 'Steelheart', 'Legion', 'Rithmatist', 'Steelheart', 'Legion', 'Rithmatist', 'Steelheart', 'Legion', 'Rithmatist', 'Steelheart', ['ggggggg', 'fffffffff'], ['ggggggg', 'fffffffff']]\n"
     ]
    },
    {
     "data": {
      "text/plain": [
       "['vvvvv',\n",
       " 'vvvvv',\n",
       " 'vvvvv',\n",
       " 'Pygmalion ',\n",
       " 'harry potter ,hero of ages,the final empire,oathbringer,way of the king',\n",
       " 'new moon ,harddy boys,hhhhhhhh',\n",
       " '',\n",
       " '',\n",
       " '',\n",
       " '',\n",
       " '',\n",
       " 'hhhhhh,ghghhgh,gjgjgj',\n",
       " 'julius caesar',\n",
       " 'Legion',\n",
       " 'Rithmatist',\n",
       " 'Steelheart',\n",
       " 'Legion',\n",
       " 'Rithmatist',\n",
       " 'Steelheart',\n",
       " 'Legion',\n",
       " 'Rithmatist',\n",
       " 'Steelheart',\n",
       " 'Legion',\n",
       " 'Rithmatist',\n",
       " 'Steelheart',\n",
       " ['ggggggg', 'fffffffff'],\n",
       " ['ggggggg', 'fffffffff']]"
      ]
     },
     "execution_count": 42,
     "metadata": {},
     "output_type": "execute_result"
    }
   ],
   "source": [
    "books.insert(0,'vvvvv')\n",
    "print(books)\n",
    "books[3] = 'Pygmalion ' #replace at index 3\n",
    "books"
   ]
  },
  {
   "cell_type": "code",
   "execution_count": 47,
   "metadata": {},
   "outputs": [],
   "source": [
    "books.remove('vvvvv') # remove by value"
   ]
  },
  {
   "cell_type": "code",
   "execution_count": 48,
   "metadata": {},
   "outputs": [
    {
     "data": {
      "text/plain": [
       "''"
      ]
     },
     "execution_count": 48,
     "metadata": {},
     "output_type": "execute_result"
    }
   ],
   "source": [
    "books.pop(6)#remove by index (pop)"
   ]
  },
  {
   "cell_type": "code",
   "execution_count": 50,
   "metadata": {},
   "outputs": [
    {
     "ename": "IndexError",
     "evalue": "pop index out of range",
     "output_type": "error",
     "traceback": [
      "\u001b[1;31m---------------------------------------------------------------------------\u001b[0m",
      "\u001b[1;31mIndexError\u001b[0m                                Traceback (most recent call last)",
      "Cell \u001b[1;32mIn[50], line 1\u001b[0m\n\u001b[1;32m----> 1\u001b[0m \u001b[43mbooks\u001b[49m\u001b[38;5;241;43m.\u001b[39;49m\u001b[43mpop\u001b[49m\u001b[43m(\u001b[49m\u001b[38;5;241;43m25\u001b[39;49m\u001b[43m)\u001b[49m\n",
      "\u001b[1;31mIndexError\u001b[0m: pop index out of range"
     ]
    }
   ],
   "source": [
    "books.pop(25)"
   ]
  },
  {
   "cell_type": "code",
   "execution_count": 51,
   "metadata": {},
   "outputs": [
    {
     "data": {
      "text/plain": [
       "['ggggggg', 'fffffffff']"
      ]
     },
     "execution_count": 51,
     "metadata": {},
     "output_type": "execute_result"
    }
   ],
   "source": [
    "books.pop()#remove by lats"
   ]
  },
  {
   "cell_type": "code",
   "execution_count": 52,
   "metadata": {},
   "outputs": [
    {
     "data": {
      "text/plain": [
       "[]"
      ]
     },
     "execution_count": 52,
     "metadata": {},
     "output_type": "execute_result"
    }
   ],
   "source": [
    "hated_books.clear()#remove all elements\n",
    "hated_books"
   ]
  },
  {
   "cell_type": "code",
   "execution_count": null,
   "metadata": {},
   "outputs": [],
   "source": [
    "#wap to create an empty list,then fill the list with 10 prime numbers using,staring with 2"
   ]
  },
  {
   "cell_type": "code",
   "execution_count": 2,
   "metadata": {},
   "outputs": [
    {
     "name": "stdout",
     "output_type": "stream",
     "text": [
      "The first 10 prime numbers are: [2, 3, 5, 7, 11, 13, 17, 19, 23, 29]\n"
     ]
    }
   ],
   "source": [
    "def is_prime(num):\n",
    "    \"\"\"\n",
    "    Check if a number is prime.\n",
    "    A prime number is a natural number greater than 1 that has no positive divisors other than 1 and itself.\n",
    "    \"\"\"\n",
    "    if num <= 1:\n",
    "        return False\n",
    "    # Check divisibility from 2 up to the square root of num\n",
    "    for i in range(2, int(num**0.5) + 1):\n",
    "        if num % i == 0:\n",
    "            return False\n",
    "    return True\n",
    "\n",
    "# Create an empty list to store prime numbers\n",
    "prime_numbers = []\n",
    "\n",
    "# Variable to keep track of the current number to be checked\n",
    "current_number = 2\n",
    "\n",
    "# Loop until we have 10 prime numbers in the list\n",
    "while len(prime_numbers) < 10:\n",
    "    if is_prime(current_number):\n",
    "        prime_numbers.append(current_number)\n",
    "    current_number += 1\n",
    "\n",
    "# Print the list of the first 10 prime numbers\n",
    "print(\"The first 10 prime numbers are:\", prime_numbers)"
   ]
  },
  {
   "cell_type": "code",
   "execution_count": 3,
   "metadata": {},
   "outputs": [
    {
     "name": "stdout",
     "output_type": "stream",
     "text": [
      "[2, 3, 5, 7, 11, 13, 17, 19, 23, 29]\n"
     ]
    }
   ],
   "source": [
    "def is_prime(num):\n",
    "    \"\"\"Check if a number is prime.\"\"\"\n",
    "    if num <= 1:\n",
    "        return False\n",
    "    for i in range(2, int(num**0.5) + 1):\n",
    "        if num % i == 0:\n",
    "            return False\n",
    "    return True\n",
    "\n",
    "# Create an empty list\n",
    "prime_numbers = []\n",
    "\n",
    "# Variable to keep track of the current number\n",
    "current_number = 2\n",
    "\n",
    "# Loop until we have 10 prime numbers\n",
    "while len(prime_numbers) < 10:\n",
    "    if is_prime(current_number):\n",
    "        prime_numbers.append(current_number)\n",
    "    current_number += 1\n",
    "\n",
    "# Print the list of prime numbers\n",
    "print(prime_numbers)\n"
   ]
  },
  {
   "cell_type": "markdown",
   "metadata": {},
   "source": [
    "#utilities\n"
   ]
  },
  {
   "cell_type": "code",
   "execution_count": 1,
   "metadata": {},
   "outputs": [
    {
     "data": {
      "text/plain": [
       "[2, 67, 5, 23, 78, 6, 2, 1, 67, 3, 12]"
      ]
     },
     "execution_count": 1,
     "metadata": {},
     "output_type": "execute_result"
    }
   ],
   "source": [
    "numbers=[12,3,67,1,2,6,78,23,5,67,2]\n",
    "#reverse\n",
    "numbers[::-1]#gives the result but doesn't change the original list"
   ]
  },
  {
   "cell_type": "code",
   "execution_count": 2,
   "metadata": {},
   "outputs": [],
   "source": [
    "numbers.reverse()  #changes the original list"
   ]
  },
  {
   "cell_type": "code",
   "execution_count": 3,
   "metadata": {},
   "outputs": [
    {
     "name": "stdout",
     "output_type": "stream",
     "text": [
      "[1, 2, 2, 3, 5, 6, 12, 23, 67, 67, 78]\n",
      "[78, 67, 67, 23, 12, 6, 5, 3, 2, 2, 1]\n"
     ]
    }
   ],
   "source": [
    "numbers.sort()#ascending order,,changes the original list\n",
    "print(numbers)\n",
    "numbers.sort(reverse=True)  #descending order\n",
    "print(numbers)"
   ]
  },
  {
   "cell_type": "markdown",
   "metadata": {},
   "source": []
  },
  {
   "cell_type": "code",
   "execution_count": 7,
   "metadata": {},
   "outputs": [
    {
     "name": "stdout",
     "output_type": "stream",
     "text": [
      "[[1, 12], [2, 5], [4, 15], [5, 10]]\n"
     ]
    }
   ],
   "source": [
    "x = [[1, 12],[2, 5],[5, 10],[4, 15]]\n",
    "x.sort()#sort by first element of each sublist\n",
    "print(x)"
   ]
  },
  {
   "cell_type": "code",
   "execution_count": 8,
   "metadata": {},
   "outputs": [
    {
     "name": "stdout",
     "output_type": "stream",
     "text": [
      "[[2, 5], [5, 10], [1, 12], [4, 15]]\n"
     ]
    }
   ],
   "source": [
    "x.sort(key=lambda e:e[1])\n",
    "print(x)"
   ]
  },
  {
   "cell_type": "code",
   "execution_count": 9,
   "metadata": {},
   "outputs": [
    {
     "name": "stdout",
     "output_type": "stream",
     "text": [
      "[[2, 5], [1, 12], [5, 10], [4, 15]]\n"
     ]
    }
   ],
   "source": [
    "x.sort(key=lambda i:sum(i))\n",
    "print(x)"
   ]
  },
  {
   "cell_type": "code",
   "execution_count": 10,
   "metadata": {},
   "outputs": [
    {
     "name": "stdout",
     "output_type": "stream",
     "text": [
      "[('Alex', 35), ('Alice', 25), ('Bob', 19)]\n"
     ]
    }
   ],
   "source": [
    "users = [('Alice',25),('Bob',19),('Alex',35)]\n",
    "users.sort()\n",
    "print(users)"
   ]
  },
  {
   "cell_type": "code",
   "execution_count": 12,
   "metadata": {},
   "outputs": [
    {
     "name": "stdout",
     "output_type": "stream",
     "text": [
      "[('Bob', 19), ('Alice', 25), ('Alex', 35)]\n"
     ]
    }
   ],
   "source": [
    "users.sort(key=lambda e:e[1])\n",
    "print(users)"
   ]
  },
  {
   "cell_type": "code",
   "execution_count": 17,
   "metadata": {},
   "outputs": [
    {
     "name": "stdout",
     "output_type": "stream",
     "text": [
      "[['Laptop', 60000, 1], ['Mobile', 25000, 2], ['headphones', 1500, 2], ['Watch', 3000, 3]]\n"
     ]
    }
   ],
   "source": [
    "cart = [\n",
    "    ['Mobile',25000,2],\n",
    "    ['Laptop',60000,1],\n",
    "    ['Watch',3000,3],\n",
    "    ['headphones',1500,2],\n",
    "]\n",
    "cart.sort(key=lambda e:e[2])\n",
    "print(cart)"
   ]
  },
  {
   "cell_type": "code",
   "execution_count": 18,
   "metadata": {},
   "outputs": [
    {
     "name": "stdout",
     "output_type": "stream",
     "text": [
      "[['headphones', 1500, 2], ['Watch', 3000, 3], ['Mobile', 25000, 2], ['Laptop', 60000, 1]]\n"
     ]
    }
   ],
   "source": [
    "cart.sort(key=lambda i:i[1]*i[2])  #according to toatal price\n",
    "print(cart)"
   ]
  },
  {
   "cell_type": "code",
   "execution_count": 19,
   "metadata": {},
   "outputs": [
    {
     "name": "stdout",
     "output_type": "stream",
     "text": [
      "1 occurs: 8\n",
      "5 occurs: 2\n"
     ]
    }
   ],
   "source": [
    "a = [1,2,3,1,1,2,2,3,4,4,5,5,1,1,1,1,1,0]\n",
    "print(\"1 occurs:\",a.count(1))\n",
    "print(\"5 occurs:\",a.count(5))"
   ]
  },
  {
   "cell_type": "code",
   "execution_count": 21,
   "metadata": {},
   "outputs": [
    {
     "data": {
      "text/plain": [
       "4"
      ]
     },
     "execution_count": 21,
     "metadata": {},
     "output_type": "execute_result"
    }
   ],
   "source": [
    "numbers.index(12) #gives the index of 12(first occurence)"
   ]
  },
  {
   "cell_type": "code",
   "execution_count": 24,
   "metadata": {},
   "outputs": [
    {
     "name": "stdout",
     "output_type": "stream",
     "text": [
      "[1, 2, 3, 4, 5]\n",
      "[1, 2, 3, 4, 5]\n",
      "[1, 2, 3, 4, 5]\n",
      "[1, 2, 3, 4, 5, 6, 20]\n",
      "[1, 2, 3, 4, 5, 10]\n",
      "[1, 2, 3, 4, 5, 6, 20]\n"
     ]
    }
   ],
   "source": [
    "a = [1,2,3,4,5]\n",
    "b=a.copy()#shallow copy\n",
    "c=a #reference copy\n",
    "print(a)\n",
    "print(b)\n",
    "print(c)\n",
    "a.append(6)\n",
    "b.append(10)\n",
    "c.append(20)\n",
    "print(a)\n",
    "print(b)\n",
    "print(c)\n"
   ]
  },
  {
   "cell_type": "markdown",
   "metadata": {},
   "source": [
    "#### comprehension\n",
    "- List comprehension in Python is a concise and efficient way to create lists. It allows you to generate a new list by applying an expression to each element of an iterable, optionally including conditions to filter elements. \n",
    "- `[expression for item in iterable]`\n",
    "\n",
    "- expression: The value or operation applied to each item.\n",
    "- item: Each element in the iterable.\n",
    "- iterable: The sequence (e.g., list, tuple, string) you are iterating over."
   ]
  },
  {
   "cell_type": "code",
   "execution_count": 27,
   "metadata": {},
   "outputs": [
    {
     "name": "stdout",
     "output_type": "stream",
     "text": [
      "[1, 2, 3, 4, 5]\n",
      "[1, 8, 27, 64, 125]\n",
      "[-4, -3, -2, -1, 0]\n",
      "[4, 16]\n"
     ]
    }
   ],
   "source": [
    "a = [1,2,3,4,5]\n",
    "a3 = [i**3 for i in a]\n",
    "print(a)\n",
    "print(a3)\n",
    "a5 = [i-5 for i in a]\n",
    "print(a5)\n",
    "aeven2  = [i**2 for i in a if i%2==0]\n",
    "print(aeven2)"
   ]
  },
  {
   "cell_type": "markdown",
   "metadata": {},
   "source": [
    "#rookie way"
   ]
  },
  {
   "cell_type": "code",
   "execution_count": null,
   "metadata": {},
   "outputs": [],
   "source": [
    "aodd2 =[]\n",
    "for i in a:\n",
    "    if i%2!=0:\n",
    "        aodd2.append(i**2)\n",
    "#pythonic way\n",
    "aeven2 = [i**2 for i in a if i%2==0]\n",
    "print(aeven2)\n",
    "#map and filters\n",
    "#aodd2 = list(map(lambda i: i**2,filter(lambda i:i%2!=0,a))) #not good\n"
   ]
  },
  {
   "cell_type": "code",
   "execution_count": 34,
   "metadata": {},
   "outputs": [
    {
     "name": "stdout",
     "output_type": "stream",
     "text": [
      "['AS]', 'BB]', 'CG]', 'DW]']\n",
      "['AS', 'BB', 'CG', 'DW']\n"
     ]
    }
   ],
   "source": [
    "names = ['Alice Smith','Bob Brown','Charlie Green','David White']\n",
    "initials=[]\n",
    "for n in names:\n",
    "    parts=n.split()\n",
    "    initials.append(f\"{n.split()[0][0]}{n.split()[-1][0]}]\")\n",
    "print(initials)\n",
    "#comprehension\n",
    "initials = [f\"{n.split()[0][0]}{n.split()[-1][0]}\" for n in names]\n",
    "print(initials)\n"
   ]
  },
  {
   "cell_type": "markdown",
   "metadata": {},
   "source": [
    "# tuples\n",
    " - creating\n",
    " - indexing and slicing\n",
    " - methods\n",
    " - packing n unpacking"
   ]
  },
  {
   "cell_type": "code",
   "execution_count": 2,
   "metadata": {},
   "outputs": [
    {
     "name": "stdout",
     "output_type": "stream",
     "text": [
      "(1, 2, 3, 4, 56)\n",
      "(1,)\n",
      "() (1,) (1, 2, 3, 4, 56)\n",
      "((1, 2), (3, 4), (5, 6))\n",
      "('a', 1, 'b', 2, 'c', 3)\n",
      "(1, 1, 1, 1, 1)\n",
      "('s', 't', 'o', 'r', 'm', 'l', 'i', 'g', 'h', 't', ' ', 'a', 'r', 'c', 'h', 'i', 'v', 'e', 's')\n",
      "(0, 1, 2, 3, 4, 5, 6, 7, 8, 9)\n"
     ]
    }
   ],
   "source": [
    "x = () #empty tuple\n",
    "y = (1,) #single element tuple\n",
    "z = (1,2,3,4,56,) \n",
    "print(z)\n",
    "print(y)\n",
    "print(x,y,z)\n",
    "a=((1,2),(3,4),(5,6)) #nested tuple\n",
    "b= ('a',1,'b',2,'c',3 )#mixed tuple\n",
    "c =(1,)*5 #duplicated tuple\n",
    "d= tuple('stormlight archives') #tuple from string\n",
    "e = tuple(range(10))\n",
    "print(a)\n",
    "print(b)\n",
    "print(c)\n",
    "print(d)\n",
    "print(e)\n",
    "\n"
   ]
  },
  {
   "cell_type": "code",
   "execution_count": 8,
   "metadata": {},
   "outputs": [
    {
     "data": {
      "text/plain": [
       "(4, 3, 2, 1, 0)"
      ]
     },
     "execution_count": 8,
     "metadata": {},
     "output_type": "execute_result"
    }
   ],
   "source": [
    "e[4::-1]  #-1makes this go in reverse order"
   ]
  },
  {
   "cell_type": "markdown",
   "metadata": {},
   "source": [
    "# Method\n",
    "- index(search) and  count"
   ]
  },
  {
   "cell_type": "code",
   "execution_count": 19,
   "metadata": {},
   "outputs": [
    {
     "name": "stdout",
     "output_type": "stream",
     "text": [
      "0\n",
      "3\n",
      "2\n",
      "1\n",
      "0\n"
     ]
    }
   ],
   "source": [
    "fruits = ('apple','banana','cherry','apple','cherry')\n",
    "print(fruits.index('apple'))\n",
    "print(fruits.index('apple',1)) #search starts from idx 1\n",
    "print(fruits.count('apple'))\n",
    "print(fruits.count('banana'))\n",
    "print(fruits.count('mango'))\n"
   ]
  },
  {
   "cell_type": "markdown",
   "metadata": {},
   "source": [
    " ``packing``"
   ]
  },
  {
   "cell_type": "code",
   "execution_count": 20,
   "metadata": {},
   "outputs": [
    {
     "name": "stdout",
     "output_type": "stream",
     "text": [
      "(1, 2, 3)\n"
     ]
    }
   ],
   "source": [
    "x = 1,2,3   #tuple packing ...python uses the tuple mostly \n",
    "print(x)"
   ]
  },
  {
   "cell_type": "code",
   "execution_count": 13,
   "metadata": {},
   "outputs": [],
   "source": [
    "def stats(*data):\n",
    "    total = sum(data)\n",
    "   \n",
    "    avg = total/len(data)\n",
    "    print(data)\n",
    "    return total, round(avg,2)  #round method to round off to 2 decimal places"
   ]
  },
  {
   "cell_type": "code",
   "execution_count": 14,
   "metadata": {},
   "outputs": [
    {
     "name": "stdout",
     "output_type": "stream",
     "text": [
      "(1, 2, 354, 67, 34)\n",
      "(458, 91.6)\n"
     ]
    }
   ],
   "source": [
    "s = stats(1,2,354,67,34)\n",
    "print(s)\n"
   ]
  },
  {
   "cell_type": "code",
   "execution_count": 29,
   "metadata": {},
   "outputs": [
    {
     "name": "stdout",
     "output_type": "stream",
     "text": [
      "12 45\n"
     ]
    }
   ],
   "source": [
    "a,b = 12,45   #tuple unpacking\n",
    "print(a,b)\n"
   ]
  },
  {
   "cell_type": "code",
   "execution_count": 34,
   "metadata": {},
   "outputs": [
    {
     "ename": "ValueError",
     "evalue": "not enough values to unpack (expected 3, got 2)",
     "output_type": "error",
     "traceback": [
      "\u001b[1;31m---------------------------------------------------------------------------\u001b[0m",
      "\u001b[1;31mValueError\u001b[0m                                Traceback (most recent call last)",
      "Cell \u001b[1;32mIn[34], line 1\u001b[0m\n\u001b[1;32m----> 1\u001b[0m a,b,c \u001b[38;5;241m=\u001b[39m \u001b[38;5;241m12\u001b[39m,\u001b[38;5;241m45\u001b[39m\n\u001b[0;32m      2\u001b[0m a,b \u001b[38;5;241m=\u001b[39m \u001b[38;5;241m12\u001b[39m,\u001b[38;5;241m34\u001b[39m,\u001b[38;5;241m45\u001b[39m\n\u001b[0;32m      3\u001b[0m total,mean,\u001b[38;5;28mmax\u001b[39m \u001b[38;5;241m=\u001b[39m stats(\u001b[38;5;241m12\u001b[39m,\u001b[38;5;241m23\u001b[39m,\u001b[38;5;241m45\u001b[39m,\u001b[38;5;241m67\u001b[39m,\u001b[38;5;241m78\u001b[39m,)\n",
      "\u001b[1;31mValueError\u001b[0m: not enough values to unpack (expected 3, got 2)"
     ]
    }
   ],
   "source": [
    "#unpacking error (too many or not enough variables)\n",
    "\n",
    "a,b,c = 12,45    \n",
    "a,b = 12,34,45\n",
    "total,mean,max = stats(12,23,45,67,78,)\n",
    "print(a,b,c)\n",
    "print(a,b)"
   ]
  },
  {
   "cell_type": "code",
   "execution_count": 35,
   "metadata": {},
   "outputs": [
    {
     "ename": "ValueError",
     "evalue": "too many values to unpack (expected 3)",
     "output_type": "error",
     "traceback": [
      "\u001b[1;31m---------------------------------------------------------------------------\u001b[0m",
      "\u001b[1;31mValueError\u001b[0m                                Traceback (most recent call last)",
      "Cell \u001b[1;32mIn[35], line 1\u001b[0m\n\u001b[1;32m----> 1\u001b[0m a,b,c \u001b[38;5;241m=\u001b[39m (\u001b[38;5;241m1\u001b[39m,\u001b[38;5;241m2\u001b[39m,\u001b[38;5;241m3\u001b[39m,\u001b[38;5;241m4\u001b[39m,\u001b[38;5;241m5\u001b[39m,\u001b[38;5;241m5\u001b[39m,\u001b[38;5;241m5\u001b[39m,\u001b[38;5;241m5\u001b[39m)\n",
      "\u001b[1;31mValueError\u001b[0m: too many values to unpack (expected 3)"
     ]
    }
   ],
   "source": [
    "a,b,c = (1,2,3,4,5,5,5,5) #not possinble"
   ]
  },
  {
   "cell_type": "code",
   "execution_count": 36,
   "metadata": {},
   "outputs": [
    {
     "name": "stdout",
     "output_type": "stream",
     "text": [
      "1\n",
      "2\n",
      "[3, 4, 5, 5, 5]\n"
     ]
    }
   ],
   "source": [
    "a,b,*c = (1,2,3,4,5,5,5) #c is a list\n",
    "print(a)\n",
    "print(b)\n",
    "print(c)"
   ]
  },
  {
   "cell_type": "markdown",
   "metadata": {},
   "source": [
    "# Set\n",
    " - creating\n",
    " - methods\n",
    " - set operations\n",
    "   - union\n",
    "   - intersection\n",
    "   - difference\n",
    "   - symmetric difference\n",
    "   - issubset\n",
    "   - issuperset"
   ]
  },
  {
   "cell_type": "markdown",
   "metadata": {},
   "source": []
  },
  {
   "cell_type": "code",
   "execution_count": 39,
   "metadata": {},
   "outputs": [
    {
     "name": "stdout",
     "output_type": "stream",
     "text": [
      "set()\n",
      "{1, 2, 3, 4, 5}\n",
      "{1, 2, 3, 4, 5}\n"
     ]
    }
   ],
   "source": [
    "x= set()  #empty set\n",
    "y = {1,2,3,4,5 } #set with elements\n",
    "z = {1,2,2,3,3,4,4,5,5,5} #set removes duplicates\n",
    "print(x)\n",
    "print(y)\n",
    "print(z)"
   ]
  },
  {
   "cell_type": "code",
   "execution_count": 6,
   "metadata": {},
   "outputs": [
    {
     "name": "stdout",
     "output_type": "stream",
     "text": [
      "{'h', 'o', 'l', 'e'}\n"
     ]
    }
   ],
   "source": [
    "a = set('hello') #set from string\n",
    "print(a)"
   ]
  },
  {
   "cell_type": "code",
   "execution_count": 5,
   "metadata": {},
   "outputs": [
    {
     "name": "stdout",
     "output_type": "stream",
     "text": [
      "{65, 5, 6, 12, 45, 23}\n",
      "0 1 2 3 4 5 6 7 8 9 "
     ]
    }
   ],
   "source": [
    "b = set([23,5,45,65,45,12,45,6])\n",
    "print(b)\n",
    "c=set(range(10))\n",
    "for i in c:\n",
    "    \n",
    "    print(i ,end=' ')\n",
    "    "
   ]
  },
  {
   "cell_type": "code",
   "execution_count": 52,
   "metadata": {},
   "outputs": [
    {
     "name": "stdout",
     "output_type": "stream",
     "text": [
      "{2, 12, 5}\n"
     ]
    }
   ],
   "source": [
    "data = set()\n",
    "data.add(12)#add element\n",
    "data.add(2)#add element\n",
    "data.add(12)#add element\n",
    "data.add(5) #add element\n",
    "print(data)"
   ]
  },
  {
   "cell_type": "code",
   "execution_count": 61,
   "metadata": {},
   "outputs": [
    {
     "name": "stdout",
     "output_type": "stream",
     "text": [
      "{67, 76, 45, 23}\n"
     ]
    }
   ],
   "source": [
    "data.update([23,45,76,67,])#add multiple elements\n",
    "print(data)"
   ]
  },
  {
   "cell_type": "code",
   "execution_count": 62,
   "metadata": {},
   "outputs": [
    {
     "ename": "KeyError",
     "evalue": "98",
     "output_type": "error",
     "traceback": [
      "\u001b[1;31m---------------------------------------------------------------------------\u001b[0m",
      "\u001b[1;31mKeyError\u001b[0m                                  Traceback (most recent call last)",
      "Cell \u001b[1;32mIn[62], line 2\u001b[0m\n\u001b[0;32m      1\u001b[0m data\u001b[38;5;241m.\u001b[39mdiscard(\u001b[38;5;241m23\u001b[39m)  \u001b[38;5;66;03m#remove element\u001b[39;00m\n\u001b[1;32m----> 2\u001b[0m \u001b[43mdata\u001b[49m\u001b[38;5;241;43m.\u001b[39;49m\u001b[43mremove\u001b[49m\u001b[43m(\u001b[49m\u001b[38;5;241;43m98\u001b[39;49m\u001b[43m)\u001b[49m  \u001b[38;5;66;03m#remove element (error if not present)\u001b[39;00m\n\u001b[0;32m      3\u001b[0m \u001b[38;5;28mprint\u001b[39m(data)\n",
      "\u001b[1;31mKeyError\u001b[0m: 98"
     ]
    }
   ],
   "source": [
    "data.discard(23)  #remove element\n",
    "data.remove(98)  #remove element (error if not present)\n",
    "print(data)"
   ]
  },
  {
   "cell_type": "code",
   "execution_count": 63,
   "metadata": {},
   "outputs": [
    {
     "name": "stdout",
     "output_type": "stream",
     "text": [
      "{76, 45}\n",
      "set()\n"
     ]
    }
   ],
   "source": [
    "data.pop()#remove random element\n",
    "print(data)\n",
    "data.clear() #remove all elemts\n",
    "print(data)"
   ]
  },
  {
   "cell_type": "markdown",
   "metadata": {},
   "source": [
    "# operation\n"
   ]
  },
  {
   "cell_type": "code",
   "execution_count": 65,
   "metadata": {},
   "outputs": [
    {
     "name": "stdout",
     "output_type": "stream",
     "text": [
      "{1, 2, 3, 4, 5, 6, 7, 8}\n",
      "{1, 2, 3, 4, 5, 6, 7, 8}\n"
     ]
    }
   ],
   "source": [
    "a = {1,2,3,4,5}\n",
    "b = {4,5,6,7,8}\n",
    "c = {11,12,13}\n",
    "print(a.union(b))\n",
    "print(a|b)#| is use for union"
   ]
  },
  {
   "cell_type": "code",
   "execution_count": 68,
   "metadata": {},
   "outputs": [
    {
     "name": "stdout",
     "output_type": "stream",
     "text": [
      "{4, 5}\n",
      "{4, 5}\n",
      "{1, 2, 3}\n",
      "{1, 2, 3}\n",
      "{8, 6, 7}\n",
      "{8, 6, 7}\n"
     ]
    }
   ],
   "source": [
    "print(a.intersection(b))\n",
    "print(a&b)  #& is intersection operator\n",
    "print(a.difference(b))\n",
    "print(a-b)  #-is difference operator\n",
    "print(b-a)\n",
    "print(b.difference(a))\n"
   ]
  },
  {
   "cell_type": "code",
   "execution_count": 69,
   "metadata": {},
   "outputs": [
    {
     "name": "stdout",
     "output_type": "stream",
     "text": [
      "{1, 2, 3, 4, 5, 11, 12, 13}\n",
      "set()\n",
      "{1, 2, 3, 4, 5}\n",
      "{1, 2, 3, 4, 5, 11, 12, 13}\n"
     ]
    }
   ],
   "source": [
    "print(a|c)\n",
    "print(a&c)\n",
    "print(a-c)\n",
    "print(a^c)"
   ]
  },
  {
   "cell_type": "code",
   "execution_count": 72,
   "metadata": {},
   "outputs": [
    {
     "name": "stdout",
     "output_type": "stream",
     "text": [
      "False\n",
      "False\n",
      "True\n"
     ]
    }
   ],
   "source": [
    "d= {1,2,3,}\n",
    "print(a.issuperset(b))\n",
    "print(a.issuperset(c))\n",
    "print(a.issuperset(d))"
   ]
  },
  {
   "cell_type": "code",
   "execution_count": 74,
   "metadata": {},
   "outputs": [
    {
     "name": "stdout",
     "output_type": "stream",
     "text": [
      "True\n",
      "False\n",
      "False\n"
     ]
    }
   ],
   "source": [
    "print(d.issubset(a))\n",
    "print(d.issubset(b))\n",
    "print(d.issubset(c))"
   ]
  },
  {
   "cell_type": "code",
   "execution_count": 76,
   "metadata": {},
   "outputs": [
    {
     "name": "stdout",
     "output_type": "stream",
     "text": [
      "False\n",
      "True\n",
      "False\n"
     ]
    }
   ],
   "source": [
    "print(a.isdisjoint(b))\n",
    "print(a.isdisjoint(c))\n",
    "print(a.isdisjoint(d))"
   ]
  },
  {
   "cell_type": "code",
   "execution_count": null,
   "metadata": {},
   "outputs": [],
   "source": []
  },
  {
   "cell_type": "markdown",
   "metadata": {},
   "source": [
    "# conversion"
   ]
  },
  {
   "cell_type": "code",
   "execution_count": 78,
   "metadata": {},
   "outputs": [
    {
     "name": "stdout",
     "output_type": "stream",
     "text": [
      "[1, 2, 3, 4, 5]\n",
      "{1, 2, 3, 4, 5}\n",
      "(1, 2, 3, 4, 5)\n"
     ]
    }
   ],
   "source": [
    "a = [1,2,3,4 ,5,]\n",
    "a_set = set(a)\n",
    "a_tuple = tuple(a)\n",
    "print(a)\n",
    "print(a_set)\n",
    "print(a_tuple)"
   ]
  },
  {
   "cell_type": "code",
   "execution_count": 79,
   "metadata": {},
   "outputs": [
    {
     "name": "stdout",
     "output_type": "stream",
     "text": [
      "[1, 2, 3, 4, 5]\n"
     ]
    }
   ],
   "source": [
    "a_list = list(a_set)\n",
    "print(a_list)"
   ]
  },
  {
   "cell_type": "code",
   "execution_count": 80,
   "metadata": {},
   "outputs": [
    {
     "name": "stdout",
     "output_type": "stream",
     "text": [
      "[1, 2, 3, 3, 4, 5, 5, 6, 5, 1, 1, 1, 1, 1, 1]\n",
      "[1, 2, 3, 4, 5, 6]\n"
     ]
    }
   ],
   "source": [
    "x = [1,2,3,3,4,5,5,6,5,1,1,1,1 ,1 ,1,]\n",
    "print(x)\n",
    "x =list(set(x))  #set - > remove duplicates->list->x\n",
    "print(x)"
   ]
  },
  {
   "cell_type": "code",
   "execution_count": null,
   "metadata": {},
   "outputs": [],
   "source": []
  },
  {
   "cell_type": "markdown",
   "metadata": {},
   "source": [
    "# dictionary\n",
    "- creation\n",
    "- traversal\n",
    "- method\n",
    "- sorting\n",
    "- comprehension\n"
   ]
  },
  {
   "cell_type": "markdown",
   "metadata": {},
   "source": [
    "syntax:\n",
    "\n",
    "{\n",
    "    key: value,\n",
    "    key: value,\n",
    "    key: value,\n",
    "    \n",
    "}"
   ]
  },
  {
   "cell_type": "code",
   "execution_count": 5,
   "metadata": {},
   "outputs": [
    {
     "name": "stdout",
     "output_type": "stream",
     "text": [
      "{'apple': 'red', 'banana': 'yellow', 'cherry': 'red', 'orange': 'orange'}\n"
     ]
    }
   ],
   "source": [
    "fruits = {\n",
    "    'apple':'red',\n",
    "    'banana': 'yellow',\n",
    "    'cherry': 'red',\n",
    "    'orange':'orange',\n",
    "}\n",
    "print(fruits)"
   ]
  },
  {
   "cell_type": "code",
   "execution_count": 6,
   "metadata": {},
   "outputs": [
    {
     "name": "stdout",
     "output_type": "stream",
     "text": [
      "{'lucknow': [25, 30, 35], 'delhi': [30, 35, 40], 'chennai': [24, 23, 22]}\n"
     ]
    }
   ],
   "source": [
    "temp = {\n",
    "    'lucknow' : [25,30,35],\n",
    "    'delhi':[30,35,40],\n",
    "    'chennai' :[24,23,22]\n",
    "}\n",
    "print(temp)"
   ]
  },
  {
   "cell_type": "code",
   "execution_count": 7,
   "metadata": {},
   "outputs": [
    {
     "name": "stdout",
     "output_type": "stream",
     "text": [
      "{1: 'ichi', 10: 'ju', 100: 'hyaku'}\n"
     ]
    }
   ],
   "source": [
    "nums = {\n",
    "    1:'ichi',\n",
    "    10:'ju',\n",
    "    100:'hyaku'\n",
    "\n",
    "}\n",
    "print(nums)"
   ]
  },
  {
   "cell_type": "code",
   "execution_count": 8,
   "metadata": {},
   "outputs": [
    {
     "name": "stdout",
     "output_type": "stream",
     "text": [
      "{(1, 2): 'double', (1, 3, 4): 'triple', (1, 2, 3, 4): 'quadruple'}\n"
     ]
    }
   ],
   "source": [
    "complicated = {\n",
    "    (1,2) : 'double',\n",
    "    (1,3,4):'triple',\n",
    "    (1,2,3,4):'quadruple',\n",
    "}\n",
    "print(complicated)"
   ]
  },
  {
   "cell_type": "code",
   "execution_count": 9,
   "metadata": {},
   "outputs": [
    {
     "name": "stdout",
     "output_type": "stream",
     "text": [
      "{'name': 'raju', 'age': 25, 'marks': [56, 73, 76]}\n"
     ]
    }
   ],
   "source": [
    "info = dict(name='raju',age=25,marks=[56,73,76])\n",
    "print(info)"
   ]
  },
  {
   "cell_type": "code",
   "execution_count": null,
   "metadata": {},
   "outputs": [],
   "source": [
    "info2 = dict(name=input(),age=int(input()))"
   ]
  },
  {
   "cell_type": "code",
   "execution_count": 11,
   "metadata": {},
   "outputs": [
    {
     "name": "stdout",
     "output_type": "stream",
     "text": [
      "{'alex': {'english': 85, 'maths': 90, 'science': 78}, 'rahul': {'english': 80, 'maths': 85, 'science': 90}}\n"
     ]
    }
   ],
   "source": [
    "#nested dictionary\n",
    "report={\n",
    "    'alex':{\n",
    "        'english':85,\n",
    "        'maths': 90,\n",
    "        'science': 78,\n",
    "    },\n",
    "    'rahul':{\n",
    "        'english':80,\n",
    "        'maths':85,\n",
    "        'science':90,\n",
    "    },\n",
    "}\n",
    "print(report)"
   ]
  },
  {
   "cell_type": "code",
   "execution_count": 12,
   "metadata": {},
   "outputs": [],
   "source": [
    "\n",
    "from pprint import pp #prettyprint   # for making th e dictionary in a better format"
   ]
  },
  {
   "cell_type": "code",
   "execution_count": 13,
   "metadata": {},
   "outputs": [
    {
     "name": "stdout",
     "output_type": "stream",
     "text": [
      "{'alex': {'english': 85, 'maths': 90, 'science': 78},\n",
      " 'rahul': {'english': 80, 'maths': 85, 'science': 90}}\n"
     ]
    }
   ],
   "source": [
    "pp(report)"
   ]
  },
  {
   "cell_type": "code",
   "execution_count": 15,
   "metadata": {},
   "outputs": [
    {
     "data": {
      "text/plain": [
       "'orange'"
      ]
     },
     "execution_count": 15,
     "metadata": {},
     "output_type": "execute_result"
    }
   ],
   "source": [
    "fruits['orange']"
   ]
  },
  {
   "cell_type": "code",
   "execution_count": 16,
   "metadata": {},
   "outputs": [
    {
     "data": {
      "text/plain": [
       "'red'"
      ]
     },
     "execution_count": 16,
     "metadata": {},
     "output_type": "execute_result"
    }
   ],
   "source": [
    "fruits['apple']"
   ]
  },
  {
   "cell_type": "code",
   "execution_count": 17,
   "metadata": {},
   "outputs": [
    {
     "data": {
      "text/plain": [
       "'yellow'"
      ]
     },
     "execution_count": 17,
     "metadata": {},
     "output_type": "execute_result"
    }
   ],
   "source": [
    "fruits['banana']"
   ]
  },
  {
   "cell_type": "code",
   "execution_count": 18,
   "metadata": {},
   "outputs": [
    {
     "data": {
      "text/plain": [
       "{'english': 85, 'maths': 90, 'science': 78}"
      ]
     },
     "execution_count": 18,
     "metadata": {},
     "output_type": "execute_result"
    }
   ],
   "source": [
    "report['alex']"
   ]
  },
  {
   "cell_type": "code",
   "execution_count": 19,
   "metadata": {},
   "outputs": [
    {
     "data": {
      "text/plain": [
       "[25, 30, 35]"
      ]
     },
     "execution_count": 19,
     "metadata": {},
     "output_type": "execute_result"
    }
   ],
   "source": [
    "temp['lucknow']"
   ]
  },
  {
   "cell_type": "code",
   "execution_count": 20,
   "metadata": {},
   "outputs": [
    {
     "data": {
      "text/plain": [
       "90"
      ]
     },
     "execution_count": 20,
     "metadata": {},
     "output_type": "execute_result"
    }
   ],
   "source": [
    "report['alex']['maths']"
   ]
  },
  {
   "cell_type": "code",
   "execution_count": 26,
   "metadata": {},
   "outputs": [
    {
     "name": "stdout",
     "output_type": "stream",
     "text": [
      "30\n",
      "40\n",
      "avg temp of delhi 35.0\n"
     ]
    }
   ],
   "source": [
    "print(temp['delhi'][0])\n",
    "print(temp['delhi'][-1])\n",
    "print('avg temp of delhi',sum(temp['delhi'])/len(temp['delhi']))"
   ]
  },
  {
   "cell_type": "code",
   "execution_count": 27,
   "metadata": {},
   "outputs": [
    {
     "name": "stdout",
     "output_type": "stream",
     "text": [
      "dict_keys(['apple', 'banana', 'cherry', 'orange'])\n"
     ]
    }
   ],
   "source": [
    "#all keys of a dictionary\n",
    "print(fruits.keys())\n",
    "print(temp.keys())\n"
   ]
  },
  {
   "cell_type": "code",
   "execution_count": 28,
   "metadata": {},
   "outputs": [
    {
     "name": "stdout",
     "output_type": "stream",
     "text": [
      "['apple', 'banana', 'cherry', 'orange']\n"
     ]
    }
   ],
   "source": [
    "fruits_names = list(fruits.keys())\n",
    "print(fruits_names)"
   ]
  },
  {
   "cell_type": "code",
   "execution_count": 30,
   "metadata": {},
   "outputs": [
    {
     "name": "stdout",
     "output_type": "stream",
     "text": [
      "dict_values(['red', 'yellow', 'red', 'orange'])\n",
      "dict_values([[25, 30, 35], [30, 35, 40], [24, 23, 22]])\n",
      "dict_values([{'english': 85, 'maths': 90, 'science': 78}, {'english': 80, 'maths': 85, 'science': 90}])\n"
     ]
    }
   ],
   "source": [
    "print(fruits.values())\n",
    "print(temp.values())\n",
    "print(report.values())"
   ]
  },
  {
   "cell_type": "code",
   "execution_count": 31,
   "metadata": {},
   "outputs": [
    {
     "name": "stdout",
     "output_type": "stream",
     "text": [
      "apple\n",
      "banana\n",
      "cherry\n",
      "orange\n"
     ]
    }
   ],
   "source": [
    "for item in fruits:\n",
    "    print(item)"
   ]
  },
  {
   "cell_type": "code",
   "execution_count": 35,
   "metadata": {},
   "outputs": [
    {
     "name": "stdout",
     "output_type": "stream",
     "text": [
      "apple\n",
      "banana\n",
      "cherry\n",
      "orange\n"
     ]
    }
   ],
   "source": [
    "for item in fruits:\n",
    "    print(item)"
   ]
  },
  {
   "cell_type": "code",
   "execution_count": 36,
   "metadata": {},
   "outputs": [
    {
     "name": "stdout",
     "output_type": "stream",
     "text": [
      "apple red\n",
      "banana yellow\n",
      "cherry red\n",
      "orange orange\n"
     ]
    }
   ],
   "source": [
    "for key in fruits:\n",
    "    print(key,fruits[key])"
   ]
  },
  {
   "cell_type": "code",
   "execution_count": 40,
   "metadata": {},
   "outputs": [
    {
     "name": "stdout",
     "output_type": "stream",
     "text": [
      "apple red\n",
      "banana yellow\n",
      "cherry red\n",
      "orange orange\n"
     ]
    }
   ],
   "source": [
    "#traverse using . items() method\n",
    "for k,v in fruits.items():\n",
    "    print(k,v)"
   ]
  },
  {
   "cell_type": "code",
   "execution_count": 41,
   "metadata": {},
   "outputs": [
    {
     "name": "stdout",
     "output_type": "stream",
     "text": [
      "red\n",
      "yellow\n",
      "red\n",
      "orange\n"
     ]
    }
   ],
   "source": [
    "#traverse only value\n",
    "for v in fruits.values():\n",
    "    print(v)"
   ]
  },
  {
   "cell_type": "code",
   "execution_count": 46,
   "metadata": {},
   "outputs": [
    {
     "name": "stdout",
     "output_type": "stream",
     "text": [
      "alex\n",
      "-> english 85\n",
      "-> maths 90\n",
      "-> science 78\n",
      "->\t total marks 253\n",
      "rahul\n",
      "-> english 80\n",
      "-> maths 85\n",
      "-> science 90\n",
      "->\t total marks 255\n"
     ]
    }
   ],
   "source": [
    "#total marks of all students\n",
    "for student, marks in report.items():\n",
    "    print(student)\n",
    "    for subject, mark in marks.items():\n",
    "        print(\"->\",subject,mark)\n",
    "    print(\"->\\t total marks\",sum(marks.values()))"
   ]
  },
  {
   "cell_type": "code",
   "execution_count": 47,
   "metadata": {},
   "outputs": [
    {
     "name": "stdout",
     "output_type": "stream",
     "text": [
      "{'apple': 'green',\n",
      " 'banana': 'yellow',\n",
      " 'cherry': 'red',\n",
      " 'orange': 'orange',\n",
      " 'mango': 'yellow',\n",
      " 'grapes': 'green'}\n"
     ]
    }
   ],
   "source": [
    "#there is no method to add a single value to a dictionary (just a simple assignment)\n",
    "fruits['mango'] = 'yellow'#add\n",
    "fruits['grapes' ] = 'green' #add\n",
    "fruits['apple'] = 'green'#update\n",
    "pp(fruits)"
   ]
  },
  {
   "cell_type": "code",
   "execution_count": 48,
   "metadata": {},
   "outputs": [
    {
     "name": "stdout",
     "output_type": "stream",
     "text": [
      "{'apple': 'green',\n",
      " 'banana': 'yellow',\n",
      " 'cherry': 'red',\n",
      " 'orange': 'orange',\n",
      " 'mango': 'yellow',\n",
      " 'grapes': 'green',\n",
      " 'Date': 'Brown',\n",
      " 'Almond': 'Brown',\n",
      " 'Cashew': 'white'}\n"
     ]
    }
   ],
   "source": [
    "#adding small dictionary to a big dictionary\n",
    "dry_fruits = {'Date':'Brown','Almond':'Brown','Cashew':'white'}\n",
    "fruits.update(dry_fruits)#merge the dry_fruits dictionary to fruits\n",
    "pp(fruits)"
   ]
  },
  {
   "cell_type": "code",
   "execution_count": 52,
   "metadata": {},
   "outputs": [
    {
     "name": "stdout",
     "output_type": "stream",
     "text": [
      "None\n",
      "None\n",
      "green\n",
      "no value ffound\n"
     ]
    }
   ],
   "source": [
    "#get method -> error free way to access dictionary values \n",
    "#fruits['raisin']  #error if key not present\n",
    "print(fruits.get('raisin') ) #it means that the data is none when not present raisin\n",
    "print(fruits.get('date') )  #error free way to get a data\n",
    "print(fruits.get('apple','no valuve found') )\n",
    "print(fruits.get('gauva', 'no value ffound') )  \n"
   ]
  },
  {
   "cell_type": "code",
   "execution_count": 53,
   "metadata": {},
   "outputs": [
    {
     "data": {
      "text/plain": [
       "'yellow'"
      ]
     },
     "execution_count": 53,
     "metadata": {},
     "output_type": "execute_result"
    }
   ],
   "source": [
    "#remove \n",
    "fruits.pop('banana') #remove by key =>returns the value"
   ]
  },
  {
   "cell_type": "code",
   "execution_count": 54,
   "metadata": {},
   "outputs": [
    {
     "name": "stdout",
     "output_type": "stream",
     "text": [
      "{'apple': 'green',\n",
      " 'cherry': 'red',\n",
      " 'orange': 'orange',\n",
      " 'mango': 'yellow',\n",
      " 'grapes': 'green',\n",
      " 'Date': 'Brown',\n",
      " 'Almond': 'Brown',\n",
      " 'Cashew': 'white'}\n"
     ]
    }
   ],
   "source": [
    "pp(fruits)"
   ]
  },
  {
   "cell_type": "code",
   "execution_count": 55,
   "metadata": {},
   "outputs": [
    {
     "data": {
      "text/plain": [
       "<function sorted(iterable, /, *, key=None, reverse=False)>"
      ]
     },
     "execution_count": 55,
     "metadata": {},
     "output_type": "execute_result"
    }
   ],
   "source": [
    "#sorting\n",
    "sorted"
   ]
  },
  {
   "cell_type": "code",
   "execution_count": 58,
   "metadata": {},
   "outputs": [
    {
     "data": {
      "text/plain": [
       "[('Almond', 'Brown'),\n",
       " ('Cashew', 'white'),\n",
       " ('Date', 'Brown'),\n",
       " ('apple', 'green'),\n",
       " ('cherry', 'red'),\n",
       " ('grapes', 'green'),\n",
       " ('mango', 'yellow'),\n",
       " ('orange', 'orange')]"
      ]
     },
     "execution_count": 58,
     "metadata": {},
     "output_type": "execute_result"
    }
   ],
   "source": [
    "#sortingonkeys\n",
    "sorted(fruits.items())"
   ]
  },
  {
   "cell_type": "code",
   "execution_count": 59,
   "metadata": {},
   "outputs": [
    {
     "data": {
      "text/plain": [
       "[('Date', 'Brown'),\n",
       " ('Almond', 'Brown'),\n",
       " ('apple', 'green'),\n",
       " ('grapes', 'green'),\n",
       " ('orange', 'orange'),\n",
       " ('cherry', 'red'),\n",
       " ('Cashew', 'white'),\n",
       " ('mango', 'yellow')]"
      ]
     },
     "execution_count": 59,
     "metadata": {},
     "output_type": "execute_result"
    }
   ],
   "source": [
    "sorted(fruits.items(),key=lambda i: i[1])"
   ]
  },
  {
   "cell_type": "code",
   "execution_count": 60,
   "metadata": {},
   "outputs": [
    {
     "data": {
      "text/plain": [
       "{'Date': 'Brown',\n",
       " 'Almond': 'Brown',\n",
       " 'apple': 'green',\n",
       " 'grapes': 'green',\n",
       " 'orange': 'orange',\n",
       " 'cherry': 'red',\n",
       " 'Cashew': 'white',\n",
       " 'mango': 'yellow'}"
      ]
     },
     "execution_count": 60,
     "metadata": {},
     "output_type": "execute_result"
    }
   ],
   "source": [
    "dict(sorted(fruits.items(),key=lambda i: i[1]))"
   ]
  },
  {
   "cell_type": "code",
   "execution_count": 62,
   "metadata": {},
   "outputs": [
    {
     "data": {
      "text/plain": [
       "[('mango', 'yellow'),\n",
       " ('Cashew', 'white'),\n",
       " ('cherry', 'red'),\n",
       " ('orange', 'orange'),\n",
       " ('apple', 'green'),\n",
       " ('grapes', 'green'),\n",
       " ('Date', 'Brown'),\n",
       " ('Almond', 'Brown')]"
      ]
     },
     "execution_count": 62,
     "metadata": {},
     "output_type": "execute_result"
    }
   ],
   "source": [
    "sorted(fruits.items(),key=lambda i: i[1],reverse=True)"
   ]
  },
  {
   "cell_type": "code",
   "execution_count": 64,
   "metadata": {},
   "outputs": [
    {
     "name": "stdout",
     "output_type": "stream",
     "text": [
      "{'apple': 'GREEN',\n",
      " 'cherry': 'RED',\n",
      " 'orange': 'ORANGE',\n",
      " 'mango': 'YELLOW',\n",
      " 'grapes': 'GREEN',\n",
      " 'date': 'BROWN',\n",
      " 'almond': 'BROWN',\n",
      " 'cashew': 'WHITE'}\n"
     ]
    }
   ],
   "source": [
    "clean_fruits ={}\n",
    "for k,v in fruits.items():\n",
    "    clean_fruits[k.lower()]=v.upper()\n",
    "pp(clean_fruits)"
   ]
  },
  {
   "cell_type": "code",
   "execution_count": 65,
   "metadata": {},
   "outputs": [
    {
     "name": "stdout",
     "output_type": "stream",
     "text": [
      "{'apple': 'GREEN',\n",
      " 'cherry': 'RED',\n",
      " 'orange': 'ORANGE',\n",
      " 'mango': 'YELLOW',\n",
      " 'grapes': 'GREEN',\n",
      " 'date': 'BROWN',\n",
      " 'almond': 'BROWN',\n",
      " 'cashew': 'WHITE'}\n"
     ]
    }
   ],
   "source": [
    "#the comprehension way\n",
    "clean_fruits={k.lower():v.upper()for k,v in fruits.items()}\n",
    "pp(clean_fruits)"
   ]
  },
  {
   "cell_type": "code",
   "execution_count": 67,
   "metadata": {},
   "outputs": [
    {
     "name": "stdout",
     "output_type": "stream",
     "text": [
      "{'lucknow': 30.0, 'delhi': 35.0, 'chennai': 23.0}\n"
     ]
    }
   ],
   "source": [
    "avg_temps = {city:sum(data)/len(data) for city,data in temp.items()}\n",
    "pp(avg_temps)"
   ]
  },
  {
   "cell_type": "code",
   "execution_count": null,
   "metadata": {},
   "outputs": [],
   "source": []
  }
 ],
 "metadata": {
  "kernelspec": {
   "display_name": "Python 3",
   "language": "python",
   "name": "python3"
  },
  "language_info": {
   "codemirror_mode": {
    "name": "ipython",
    "version": 3
   },
   "file_extension": ".py",
   "mimetype": "text/x-python",
   "name": "python",
   "nbconvert_exporter": "python",
   "pygments_lexer": "ipython3",
   "version": "3.12.0"
  }
 },
 "nbformat": 4,
 "nbformat_minor": 2
}
