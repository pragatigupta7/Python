{
 "cells": [
  {
   "cell_type": "code",
   "execution_count": null,
   "metadata": {},
   "outputs": [],
   "source": []
  },
  {
   "cell_type": "markdown",
   "metadata": {},
   "source": [
    "#list\n",
    " creating\n",
    " indexing n slicing\n",
    " method\n",
    " comprehension"
   ]
  },
  {
   "cell_type": "code",
   "execution_count": 1,
   "metadata": {},
   "outputs": [
    {
     "name": "stdout",
     "output_type": "stream",
     "text": [
      "[]\n",
      "[1, 2, 3, 4]\n",
      "['apple', 'banana', 'cherry']\n",
      "['apple', 1, 'banana', 2, 'cherry', 3]\n",
      "[[1, 2, 3], [4, 5, 6], [7, 8, 9]]\n",
      "[['apple', 1], ['banana', 2], ['cherry', 3, 120]]\n"
     ]
    }
   ],
   "source": [
    "a = [] #empty list\n",
    "b=[1,2,3,4]#numerical list\n",
    "c= ['apple','banana','cherry',]#stringlist\n",
    "d=['apple',1,'banana',2,'cherry',3] #mixed list\n",
    "e=[[1,2,3],[4,5,6],[7,8,9]]   #list of list\n",
    "f=[['apple',1],['banana',2],['cherry',3,120]]\n",
    "print(a)\n",
    "print(b)\n",
    "print(c)\n",
    "print(d)\n",
    "print(e)\n",
    "print(f)"
   ]
  },
  {
   "cell_type": "code",
   "execution_count": 2,
   "metadata": {},
   "outputs": [],
   "source": [
    "for i in a:\n",
    "    print(i)"
   ]
  },
  {
   "cell_type": "code",
   "execution_count": 4,
   "metadata": {},
   "outputs": [
    {
     "name": "stdout",
     "output_type": "stream",
     "text": [
      "1\n",
      "2\n",
      "3\n",
      "4\n"
     ]
    }
   ],
   "source": [
    "for i in b:\n",
    "    print(i)"
   ]
  },
  {
   "cell_type": "code",
   "execution_count": 5,
   "metadata": {},
   "outputs": [
    {
     "name": "stdout",
     "output_type": "stream",
     "text": [
      "apple\n",
      "banana\n",
      "cherry\n"
     ]
    }
   ],
   "source": [
    "for i in c:\n",
    "    print(i)"
   ]
  },
  {
   "cell_type": "code",
   "execution_count": 8,
   "metadata": {},
   "outputs": [
    {
     "name": "stdout",
     "output_type": "stream",
     "text": [
      "['h', 'e', 'l', 'l', 'o']\n",
      "[0, 1, 2, 3, 4, 5, 6, 7, 8, 9]\n",
      "[1, 2, 3, 4, 5]\n",
      "[1, 2, 3, 1, 2, 3, 1, 2, 3, 1, 2, 3, 1, 2, 3]\n"
     ]
    }
   ],
   "source": [
    "g= list('hello')\n",
    "h = list(range(10))\n",
    "i = list((1,2,3,4,5))\n",
    "j = [1,2,3]* 5\n",
    "print(g)\n",
    "print(h)\n",
    "print(i)\n",
    "print(j)\n"
   ]
  },
  {
   "cell_type": "code",
   "execution_count": 17,
   "metadata": {},
   "outputs": [
    {
     "name": "stdout",
     "output_type": "stream",
     "text": [
      "sita Raman\n",
      "shershah\n",
      "Major\n",
      "Devdas\n",
      "Yodha\n",
      "['sita Raman', 'shershah', 'Major', 'Devdas', 'Yodha']\n",
      "5\n",
      "first movie: sita Raman\n",
      "last movie: Yodha\n",
      "second movie: shershah\n",
      "third movie: Major\n"
     ]
    }
   ],
   "source": [
    "movies = ['sita Raman','shershah','Major','Devdas','Yodha']\n",
    "for i in movies:\n",
    "    print(i)\n",
    "print(movies)\n",
    "print(len(movies))\n",
    "print(\"first movie:\",movies[0])\n",
    "print(\"last movie:\",movies[-1])\n",
    "print(\"second movie:\",movies[1])\n",
    "print(\"third movie:\",movies[2])"
   ]
  },
  {
   "cell_type": "code",
   "execution_count": 26,
   "metadata": {},
   "outputs": [
    {
     "name": "stdout",
     "output_type": "stream",
     "text": [
      "[3, 4, 5, 6, 7, 8]\n",
      "[10, 9, 8, 7, 6, 5, 4, 3, 2, 1]\n",
      "[1, 2, 3]\n",
      "[1, 3, 5, 7, 9]\n"
     ]
    }
   ],
   "source": [
    "numbers = [1,2,3,4,5,6,7,8,9,10]\n",
    "print(numbers[2:-2]) #first two and last two removes\n",
    "print(numbers[::-1]) #reverse\n",
    "print(numbers[:3]) #0,1,2\n",
    "print(numbers[::2]) #8,9,10"
   ]
  },
  {
   "cell_type": "markdown",
   "metadata": {},
   "source": [
    "#list methods(11)\n",
    " -adding/updating\n",
    "   -`append()`   #add only one\n",
    "   -`extend()`  #add  multiple \n",
    "   -`insert()`\n",
    " -removing/deleting\n",
    "  -`remove()`\n",
    "  -`pop()`\n",
    "  -`clear()`\n",
    " -utility\n",
    "  - sort()\n",
    "  - reverse()\n",
    "  - index()\n",
    "  - count()\n",
    "  - copy()"
   ]
  },
  {
   "cell_type": "code",
   "execution_count": 27,
   "metadata": {},
   "outputs": [
    {
     "name": "stdout",
     "output_type": "stream",
     "text": [
      "fav_books:  ['harry potter ,hero of ages,the final empire,oathbringer,way of the king', 'new moon ,harddy boys,hhhhhhhh', '', '', '']\n",
      "hated books: ['', '', 'hhhhhh,ghghhgh,gjgjgj']\n"
     ]
    }
   ],
   "source": [
    "fav_books = []\n",
    "hated_books = []\n",
    "for i in range(5):\n",
    "    book = input(\"enter your fav book:\")\n",
    "    fav_books.append(book)\n",
    "for i in range(3):\n",
    "    book= input(\"enter your hated book: \")\n",
    "    hated_books.append(book)\n",
    "\n",
    "print(\"fav_books: \",fav_books)\n",
    "print(\"hated books:\",hated_books)"
   ]
  },
  {
   "cell_type": "code",
   "execution_count": 28,
   "metadata": {},
   "outputs": [
    {
     "name": "stdout",
     "output_type": "stream",
     "text": [
      "['', '', 'hhhhhh,ghghhgh,gjgjgj', 'julius caesar']\n"
     ]
    }
   ],
   "source": [
    "hated_books.append(\"julius caesar\")#add to the ebd\n",
    "print(hated_books)"
   ]
  },
  {
   "cell_type": "code",
   "execution_count": 29,
   "metadata": {},
   "outputs": [
    {
     "name": "stdout",
     "output_type": "stream",
     "text": [
      "['harry potter ,hero of ages,the final empire,oathbringer,way of the king', 'new moon ,harddy boys,hhhhhhhh', '', '', '', '', '', 'hhhhhh,ghghhgh,gjgjgj', 'julius caesar']\n"
     ]
    }
   ],
   "source": [
    "#merge two lists and create a new list\n",
    "books=fav_books + hated_books\n",
    "print(books)"
   ]
  },
  {
   "cell_type": "code",
   "execution_count": 33,
   "metadata": {},
   "outputs": [
    {
     "name": "stdout",
     "output_type": "stream",
     "text": [
      "['harry potter ,hero of ages,the final empire,oathbringer,way of the king', 'new moon ,harddy boys,hhhhhhhh', '', '', '', '', '', 'hhhhhh,ghghhgh,gjgjgj', 'julius caesar', 'Legion', 'Rithmatist', 'Steelheart', 'Legion', 'Rithmatist', 'Steelheart', 'Legion', 'Rithmatist', 'Steelheart', 'Legion', 'Rithmatist', 'Steelheart']\n",
      "total book: 21\n"
     ]
    }
   ],
   "source": [
    "#adding a list to existing list\n",
    "books.extend(['Legion','Rithmatist','Steelheart'])\n",
    "print(books)\n",
    "print('total book:',len(books))"
   ]
  },
  {
   "cell_type": "code",
   "execution_count": 35,
   "metadata": {},
   "outputs": [
    {
     "ename": "TypeError",
     "evalue": "list.append() takes exactly one argument (2 given)",
     "output_type": "error",
     "traceback": [
      "\u001b[1;31m---------------------------------------------------------------------------\u001b[0m",
      "\u001b[1;31mTypeError\u001b[0m                                 Traceback (most recent call last)",
      "Cell \u001b[1;32mIn[35], line 1\u001b[0m\n\u001b[1;32m----> 1\u001b[0m \u001b[43mbooks\u001b[49m\u001b[38;5;241;43m.\u001b[39;49m\u001b[43mappend\u001b[49m\u001b[43m(\u001b[49m\u001b[38;5;124;43m'\u001b[39;49m\u001b[38;5;124;43mgfggfgfg\u001b[39;49m\u001b[38;5;124;43m'\u001b[39;49m\u001b[43m,\u001b[49m\u001b[38;5;124;43m'\u001b[39;49m\u001b[38;5;124;43mfhfhhfhf\u001b[39;49m\u001b[38;5;124;43m'\u001b[39;49m\u001b[43m)\u001b[49m\n\u001b[0;32m      2\u001b[0m \u001b[38;5;28mprint\u001b[39m(books)\n",
      "\u001b[1;31mTypeError\u001b[0m: list.append() takes exactly one argument (2 given)"
     ]
    }
   ],
   "source": [
    "books.append('gfggfgfg','fhfhhfhf')\n",
    "print(books)"
   ]
  },
  {
   "cell_type": "code",
   "execution_count": 37,
   "metadata": {},
   "outputs": [
    {
     "name": "stdout",
     "output_type": "stream",
     "text": [
      "['harry potter ,hero of ages,the final empire,oathbringer,way of the king', 'new moon ,harddy boys,hhhhhhhh', '', '', '', '', '', 'hhhhhh,ghghhgh,gjgjgj', 'julius caesar', 'Legion', 'Rithmatist', 'Steelheart', 'Legion', 'Rithmatist', 'Steelheart', 'Legion', 'Rithmatist', 'Steelheart', 'Legion', 'Rithmatist', 'Steelheart', ['ggggggg', 'fffffffff'], ['ggggggg', 'fffffffff']]\n"
     ]
    }
   ],
   "source": [
    "books.append(['ggggggg','fffffffff']) #nesting\n",
    "print(books)"
   ]
  },
  {
   "cell_type": "code",
   "execution_count": 42,
   "metadata": {},
   "outputs": [
    {
     "name": "stdout",
     "output_type": "stream",
     "text": [
      "['vvvvv', 'vvvvv', 'vvvvv', 'vvvvv', 'harry potter ,hero of ages,the final empire,oathbringer,way of the king', 'new moon ,harddy boys,hhhhhhhh', '', '', '', '', '', 'hhhhhh,ghghhgh,gjgjgj', 'julius caesar', 'Legion', 'Rithmatist', 'Steelheart', 'Legion', 'Rithmatist', 'Steelheart', 'Legion', 'Rithmatist', 'Steelheart', 'Legion', 'Rithmatist', 'Steelheart', ['ggggggg', 'fffffffff'], ['ggggggg', 'fffffffff']]\n"
     ]
    },
    {
     "data": {
      "text/plain": [
       "['vvvvv',\n",
       " 'vvvvv',\n",
       " 'vvvvv',\n",
       " 'Pygmalion ',\n",
       " 'harry potter ,hero of ages,the final empire,oathbringer,way of the king',\n",
       " 'new moon ,harddy boys,hhhhhhhh',\n",
       " '',\n",
       " '',\n",
       " '',\n",
       " '',\n",
       " '',\n",
       " 'hhhhhh,ghghhgh,gjgjgj',\n",
       " 'julius caesar',\n",
       " 'Legion',\n",
       " 'Rithmatist',\n",
       " 'Steelheart',\n",
       " 'Legion',\n",
       " 'Rithmatist',\n",
       " 'Steelheart',\n",
       " 'Legion',\n",
       " 'Rithmatist',\n",
       " 'Steelheart',\n",
       " 'Legion',\n",
       " 'Rithmatist',\n",
       " 'Steelheart',\n",
       " ['ggggggg', 'fffffffff'],\n",
       " ['ggggggg', 'fffffffff']]"
      ]
     },
     "execution_count": 42,
     "metadata": {},
     "output_type": "execute_result"
    }
   ],
   "source": [
    "books.insert(0,'vvvvv')\n",
    "print(books)\n",
    "books[3] = 'Pygmalion ' #replace at index 3\n",
    "books"
   ]
  },
  {
   "cell_type": "code",
   "execution_count": 47,
   "metadata": {},
   "outputs": [],
   "source": [
    "books.remove('vvvvv') # remove by value"
   ]
  },
  {
   "cell_type": "code",
   "execution_count": 48,
   "metadata": {},
   "outputs": [
    {
     "data": {
      "text/plain": [
       "''"
      ]
     },
     "execution_count": 48,
     "metadata": {},
     "output_type": "execute_result"
    }
   ],
   "source": [
    "books.pop(6)#remove by index (pop)"
   ]
  },
  {
   "cell_type": "code",
   "execution_count": 50,
   "metadata": {},
   "outputs": [
    {
     "ename": "IndexError",
     "evalue": "pop index out of range",
     "output_type": "error",
     "traceback": [
      "\u001b[1;31m---------------------------------------------------------------------------\u001b[0m",
      "\u001b[1;31mIndexError\u001b[0m                                Traceback (most recent call last)",
      "Cell \u001b[1;32mIn[50], line 1\u001b[0m\n\u001b[1;32m----> 1\u001b[0m \u001b[43mbooks\u001b[49m\u001b[38;5;241;43m.\u001b[39;49m\u001b[43mpop\u001b[49m\u001b[43m(\u001b[49m\u001b[38;5;241;43m25\u001b[39;49m\u001b[43m)\u001b[49m\n",
      "\u001b[1;31mIndexError\u001b[0m: pop index out of range"
     ]
    }
   ],
   "source": [
    "books.pop(25)"
   ]
  },
  {
   "cell_type": "code",
   "execution_count": 51,
   "metadata": {},
   "outputs": [
    {
     "data": {
      "text/plain": [
       "['ggggggg', 'fffffffff']"
      ]
     },
     "execution_count": 51,
     "metadata": {},
     "output_type": "execute_result"
    }
   ],
   "source": [
    "books.pop()#remove by lats"
   ]
  },
  {
   "cell_type": "code",
   "execution_count": 52,
   "metadata": {},
   "outputs": [
    {
     "data": {
      "text/plain": [
       "[]"
      ]
     },
     "execution_count": 52,
     "metadata": {},
     "output_type": "execute_result"
    }
   ],
   "source": [
    "hated_books.clear()#remove all elements\n",
    "hated_books"
   ]
  },
  {
   "cell_type": "code",
   "execution_count": null,
   "metadata": {},
   "outputs": [],
   "source": [
    "#wap to create an empty list,then fill the list with 10 prime numbers using,staring with 2"
   ]
  }
 ],
 "metadata": {
  "kernelspec": {
   "display_name": "Python 3",
   "language": "python",
   "name": "python3"
  },
  "language_info": {
   "codemirror_mode": {
    "name": "ipython",
    "version": 3
   },
   "file_extension": ".py",
   "mimetype": "text/x-python",
   "name": "python",
   "nbconvert_exporter": "python",
   "pygments_lexer": "ipython3",
   "version": "3.11.3"
  }
 },
 "nbformat": 4,
 "nbformat_minor": 2
}
