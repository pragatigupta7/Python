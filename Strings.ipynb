{
 "cells": [
  {
   "cell_type": "code",
   "execution_count": null,
   "metadata": {},
   "outputs": [],
   "source": []
  },
  {
   "cell_type": "markdown",
   "metadata": {},
   "source": [
    "creating\n",
    "indexing and slicing\n",
    "methods\n",
    "tips n tricks"
   ]
  },
  {
   "cell_type": "code",
   "execution_count": 1,
   "metadata": {},
   "outputs": [],
   "source": [
    "a = 'apple'\n",
    "b = \"apple\"\n",
    "c = '''this is \n",
    "very useful\n",
    "in multiline messages\n",
    "'''\n",
    "d = str(8329)"
   ]
  },
  {
   "cell_type": "code",
   "execution_count": 2,
   "metadata": {},
   "outputs": [
    {
     "name": "stdout",
     "output_type": "stream",
     "text": [
      "apple is a fruit\n",
      "c:\\users\\pragati\\desktop\n",
      "hello\n",
      "b'hello'\n"
     ]
    }
   ],
   "source": [
    "# types of strings\n",
    "# f-string\n",
    "x = f'{a} is a fruit'\n",
    "print(x)\n",
    "# raw string\n",
    "addr = r'c:\\users\\pragati\\desktop'\n",
    "print(addr)\n",
    "# unicode string\n",
    "uni = u'hello'\n",
    "print(uni)\n",
    "# byte string\n",
    "byt = b'hello'\n",
    "print(byt)"
   ]
  },
  {
   "cell_type": "code",
   "execution_count": 3,
   "metadata": {},
   "outputs": [
    {
     "name": "stdout",
     "output_type": "stream",
     "text": [
      "e\n",
      "n\n",
      "c\n",
      "a\n",
      "a\n",
      "e\n",
      "second last i\n",
      "sixth last o\n"
     ]
    }
   ],
   "source": [
    "v = 'encyclopedia'\n",
    "print(v[0]) # first index\n",
    "print(v[1]) # second index\n",
    "print(v[2]) # third index\n",
    "print(v[11]) # last index\n",
    "print(v[-1]) # last index\n",
    "print(v[-12]) # first index\n",
    "print('second last', v[-2])\n",
    "print('sixth last', v[-6])"
   ]
  },
  {
   "cell_type": "code",
   "execution_count": null,
   "metadata": {},
   "outputs": [],
   "source": []
  },
  {
   "cell_type": "markdown",
   "metadata": {},
   "source": [
    "Slicing in python\n",
    "x[Start:stop\n",
    "]"
   ]
  },
  {
   "cell_type": "code",
   "execution_count": 1,
   "metadata": {},
   "outputs": [
    {
     "name": "stdout",
     "output_type": "stream",
     "text": [
      "12\n",
      "clycop\n"
     ]
    }
   ],
   "source": [
    "a='Enclycopedia'\n",
    "print(len(a))\n",
    "print(a[2:8])#last index is not included"
   ]
  },
  {
   "cell_type": "code",
   "execution_count": 4,
   "metadata": {},
   "outputs": [
    {
     "name": "stdout",
     "output_type": "stream",
     "text": [
      "Vijay\n",
      "deenanath\n",
      "chauhan\n"
     ]
    }
   ],
   "source": [
    "name='Vijay deenanath chauhan'\n",
    "firstname=name[0:5]\n",
    "print(firstname)\n",
    "middlename = name[6:15]\n",
    "print(middlename)\n",
    "lastname=name[16:23]\n",
    "print(lastname)"
   ]
  },
  {
   "cell_type": "code",
   "execution_count": 5,
   "metadata": {},
   "outputs": [
    {
     "data": {
      "text/plain": [
       "'Vijay'"
      ]
     },
     "execution_count": 5,
     "metadata": {},
     "output_type": "execute_result"
    }
   ],
   "source": [
    "name[:5] #first 5 character"
   ]
  },
  {
   "cell_type": "code",
   "execution_count": 6,
   "metadata": {},
   "outputs": [
    {
     "data": {
      "text/plain": [
       "'deenanath chauhan'"
      ]
     },
     "execution_count": 6,
     "metadata": {},
     "output_type": "execute_result"
    }
   ],
   "source": [
    "name[6:]#from 6th character to end"
   ]
  },
  {
   "cell_type": "code",
   "execution_count": 7,
   "metadata": {},
   "outputs": [
    {
     "data": {
      "text/plain": [
       "'chauhan'"
      ]
     },
     "execution_count": 7,
     "metadata": {},
     "output_type": "execute_result"
    }
   ],
   "source": [
    "name[16:] #from 16th idx to end"
   ]
  },
  {
   "cell_type": "code",
   "execution_count": 10,
   "metadata": {},
   "outputs": [
    {
     "data": {
      "text/plain": [
       "'time'"
      ]
     },
     "execution_count": 10,
     "metadata": {},
     "output_type": "execute_result"
    }
   ],
   "source": [
    "msg='Once upon a time,there was a place called eternia'\n",
    "msg[-7:]\n",
    "msg[12:16]"
   ]
  },
  {
   "cell_type": "code",
   "execution_count": 11,
   "metadata": {},
   "outputs": [
    {
     "name": "stdout",
     "output_type": "stream",
     "text": [
      "800999\n"
     ]
    }
   ],
   "source": [
    "amt='$800999'\n",
    "amt=int(amt[1:])\n",
    "print(amt)"
   ]
  },
  {
   "cell_type": "code",
   "execution_count": 14,
   "metadata": {},
   "outputs": [
    {
     "data": {
      "text/plain": [
       "'Once upon a time,there was a place called eternia'"
      ]
     },
     "execution_count": 14,
     "metadata": {},
     "output_type": "execute_result"
    }
   ],
   "source": [
    "msg[:]#not define starting and ending   (print all)\n",
    "msg#it is also use to print all"
   ]
  },
  {
   "cell_type": "code",
   "execution_count": 15,
   "metadata": {},
   "outputs": [
    {
     "data": {
      "text/plain": [
       "'Oc pnatm,hr a  lc aldeena'"
      ]
     },
     "execution_count": 15,
     "metadata": {},
     "output_type": "execute_result"
    }
   ],
   "source": [
    "msg[::2]#every 2nd character(even index)"
   ]
  },
  {
   "cell_type": "code",
   "execution_count": 18,
   "metadata": {},
   "outputs": [
    {
     "data": {
      "text/plain": [
       "'Oc pnatm,hr a  lc aldeena'"
      ]
     },
     "execution_count": 18,
     "metadata": {},
     "output_type": "execute_result"
    }
   ],
   "source": [
    "msg[1::2] #every 2nd character (odd index)"
   ]
  },
  {
   "cell_type": "code",
   "execution_count": 19,
   "metadata": {},
   "outputs": [
    {
     "data": {
      "text/plain": [
       "'ainrete dellac ecalp a saw ereht,emit a nopu ecnO'"
      ]
     },
     "execution_count": 19,
     "metadata": {},
     "output_type": "execute_result"
    }
   ],
   "source": [
    "#most OP thing in slicing\n",
    "msg[::-1]#reverse the string"
   ]
  },
  {
   "cell_type": "code",
   "execution_count": 20,
   "metadata": {},
   "outputs": [
    {
     "data": {
      "text/plain": [
       "'ainre'"
      ]
     },
     "execution_count": 20,
     "metadata": {},
     "output_type": "execute_result"
    }
   ],
   "source": [
    "msg[::-1][:5]"
   ]
  },
  {
   "cell_type": "code",
   "execution_count": 21,
   "metadata": {},
   "outputs": [
    {
     "data": {
      "text/plain": [
       "'Vijay deenanath chauhan'"
      ]
     },
     "execution_count": 21,
     "metadata": {},
     "output_type": "execute_result"
    }
   ],
   "source": [
    "name"
   ]
  },
  {
   "cell_type": "code",
   "execution_count": 23,
   "metadata": {},
   "outputs": [
    {
     "data": {
      "text/plain": [
       "'htananeed'"
      ]
     },
     "execution_count": 23,
     "metadata": {},
     "output_type": "execute_result"
    }
   ],
   "source": [
    "name[6:15][::-1]"
   ]
  },
  {
   "cell_type": "markdown",
   "metadata": {},
   "source": [
    "String methods\n",
    "-formatting\n",
    "-validation\n",
    "-find & replace \n",
    "-etc."
   ]
  },
  {
   "cell_type": "code",
   "execution_count": 29,
   "metadata": {},
   "outputs": [
    {
     "name": "stdout",
     "output_type": "stream",
     "text": [
      "All the glitter is not Gold\n",
      "ALL THE GLITTER IS NOT GOLD\n",
      "all the glitter is not gold\n",
      "All the glitter is not gold\n",
      "All The Glitter Is Not Gold\n",
      "all the glitter is not gold\n"
     ]
    }
   ],
   "source": [
    "quote=\"All the glitter is not Gold\"\n",
    "quote_upper = quote.upper()\n",
    "print(quote)\n",
    "print(quote_upper)\n",
    "quote_lower = quote.lower()\n",
    "print(quote_lower)\n",
    "quote_capitalize = quote.capitalize()\n",
    "print(quote_capitalize)\n",
    "quote_title =quote.title()\n",
    "print(quote_title)\n",
    "quote_casefold = quote.casefold()\n",
    "print(quote_casefold)\n",
    "\n",
    "\n"
   ]
  },
  {
   "cell_type": "code",
   "execution_count": 33,
   "metadata": {},
   "outputs": [
    {
     "data": {
      "text/plain": [
       "'                       All the glitter is not Gold'"
      ]
     },
     "execution_count": 33,
     "metadata": {},
     "output_type": "execute_result"
    }
   ],
   "source": [
    "quote.rjust(50)"
   ]
  },
  {
   "cell_type": "code",
   "execution_count": 34,
   "metadata": {},
   "outputs": [
    {
     "data": {
      "text/plain": [
       "'_______________________All the glitter is not Gold'"
      ]
     },
     "execution_count": 34,
     "metadata": {},
     "output_type": "execute_result"
    }
   ],
   "source": [
    "quote.rjust(50,'_')   #\"_\"fill character is not neccessay it is optional\n",
    "#50 is length kitna right shift krna hai"
   ]
  },
  {
   "cell_type": "markdown",
   "metadata": {},
   "source": [
    "is type function   validation code"
   ]
  },
  {
   "cell_type": "code",
   "execution_count": 35,
   "metadata": {},
   "outputs": [
    {
     "data": {
      "text/plain": [
       "False"
      ]
     },
     "execution_count": 35,
     "metadata": {},
     "output_type": "execute_result"
    }
   ],
   "source": [
    "name.isnumeric()    # gives true or false"
   ]
  },
  {
   "cell_type": "code",
   "execution_count": 36,
   "metadata": {},
   "outputs": [
    {
     "name": "stdout",
     "output_type": "stream",
     "text": [
      "what kind of name is this?\n"
     ]
    }
   ],
   "source": [
    "fname=input(\"enter ur name:(dont use member)\")\n",
    "if fname.isalpha():       #no spaces valid\n",
    "    print(\"valid name,very good\")\n",
    "else:\n",
    "    print(\"what kind of name is this?\")"
   ]
  },
  {
   "cell_type": "code",
   "execution_count": 37,
   "metadata": {},
   "outputs": [
    {
     "data": {
      "text/plain": [
       "'Once upon a time,there was a place called eternia'"
      ]
     },
     "execution_count": 37,
     "metadata": {},
     "output_type": "execute_result"
    }
   ],
   "source": [
    "#find and index methods for searching in strings\n",
    "msg"
   ]
  },
  {
   "cell_type": "code",
   "execution_count": 38,
   "metadata": {},
   "outputs": [
    {
     "data": {
      "text/plain": [
       "29"
      ]
     },
     "execution_count": 38,
     "metadata": {},
     "output_type": "execute_result"
    }
   ],
   "source": [
    "msg.find('place')  #returns the index of the first occurence of the substring"
   ]
  },
  {
   "cell_type": "code",
   "execution_count": 43,
   "metadata": {},
   "outputs": [
    {
     "name": "stdout",
     "output_type": "stream",
     "text": [
      "12\n",
      "38\n",
      "-1\n",
      "12\n",
      "71\n"
     ]
    }
   ],
   "source": [
    "\n",
    "data='''Roshar is a place of magic and wonder,place of knights and kings.its a place of highstorms and shardblades'''\n",
    "print(data.find('place'))\n",
    "print(data.find('place',13)) # 13 is the starting index for searching\n",
    "print(data.find('Place'))#-1 means not found\n",
    "print(data.lower().find('place'))#-1means not found\n",
    "#reverse find\n",
    "print(data.rfind('place'))#returns the index of the last occurence of the substring"
   ]
  },
  {
   "cell_type": "code",
   "execution_count": 44,
   "metadata": {},
   "outputs": [
    {
     "data": {
      "text/plain": [
       "'Roshar is a world of magic and wonder,world of knights and kings.its a world of highstorms and shardblades'"
      ]
     },
     "execution_count": 44,
     "metadata": {},
     "output_type": "execute_result"
    }
   ],
   "source": [
    "#replace method\n",
    "data.replace('place','world')"
   ]
  },
  {
   "cell_type": "code",
   "execution_count": 45,
   "metadata": {},
   "outputs": [
    {
     "data": {
      "text/plain": [
       "'Rashar is a place af magic and wander,place af knights and kings.its a place af highstarms and shardblades'"
      ]
     },
     "execution_count": 45,
     "metadata": {},
     "output_type": "execute_result"
    }
   ],
   "source": [
    "data.replace('o','a')"
   ]
  },
  {
   "cell_type": "code",
   "execution_count": 46,
   "metadata": {},
   "outputs": [
    {
     "data": {
      "text/plain": [
       "'Roshbr es b plbce of mbgec bnd wonder,plbce of cneghts bnd cengs.ets b plbce of heghstorms bnd shbrdblbdes'"
      ]
     },
     "execution_count": 46,
     "metadata": {},
     "output_type": "execute_result"
    }
   ],
   "source": [
    "data.replace('i','e').replace('k','c').replace('a','b')"
   ]
  },
  {
   "cell_type": "code",
   "execution_count": 52,
   "metadata": {},
   "outputs": [
    {
     "data": {
      "text/plain": [
       "'Roshar_is_a_place of magic and wonder,place of knights and kings.its a place of highstorms and shardblades'"
      ]
     },
     "execution_count": 52,
     "metadata": {},
     "output_type": "execute_result"
    }
   ],
   "source": [
    "data.replace(' ','_',3)  #3=starting 3 (no.of replacement)"
   ]
  },
  {
   "cell_type": "code",
   "execution_count": 49,
   "metadata": {},
   "outputs": [
    {
     "name": "stdout",
     "output_type": "stream",
     "text": [
      "Roshar_is_a_place of magic and wonder,place of knights and kings.its a place of highstorms and shardblades\n"
     ]
    }
   ],
   "source": [
    "print(data.replace(' ','_',3) )"
   ]
  },
  {
   "cell_type": "code",
   "execution_count": null,
   "metadata": {},
   "outputs": [],
   "source": []
  }
 ],
 "metadata": {
  "kernelspec": {
   "display_name": "Python 3",
   "language": "python",
   "name": "python3"
  },
  "language_info": {
   "codemirror_mode": {
    "name": "ipython",
    "version": 3
   },
   "file_extension": ".py",
   "mimetype": "text/x-python",
   "name": "python",
   "nbconvert_exporter": "python",
   "pygments_lexer": "ipython3",
   "version": "3.11.3"
  }
 },
 "nbformat": 4,
 "nbformat_minor": 2
}
