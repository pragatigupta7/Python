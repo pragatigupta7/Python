{
 "cells": [
  {
   "cell_type": "code",
   "execution_count": null,
   "metadata": {},
   "outputs": [],
   "source": []
  },
  {
   "cell_type": "markdown",
   "metadata": {},
   "source": [
    "# programming flow\n",
    "\n",
    "- conditional flow\n",
    "- if\n",
    "- if else\n",
    "- if elif else\n",
    "- match case\n",
    "- iterative flow\n",
    "- for loop\n",
    "- while loop"
   ]
  },
  {
   "cell_type": "code",
   "execution_count": 1,
   "metadata": {},
   "outputs": [
    {
     "name": "stdout",
     "output_type": "stream",
     "text": [
      "hello everyone\n"
     ]
    }
   ],
   "source": [
    "if 'hello':\n",
    "    print('hello everyone')"
   ]
  },
  {
   "cell_type": "code",
   "execution_count": 2,
   "metadata": {},
   "outputs": [
    {
     "name": "stdout",
     "output_type": "stream",
     "text": [
      "hello everyone\n"
     ]
    }
   ],
   "source": [
    "x = 'hello'\n",
    "if len(x) >= 5: \n",
    "    print('hello everyone')"
   ]
  },
  {
   "cell_type": "code",
   "execution_count": 3,
   "metadata": {},
   "outputs": [
    {
     "name": "stdout",
     "output_type": "stream",
     "text": [
      "a * 2 is greater than 100\n",
      "a + 50 is greater than 150\n"
     ]
    }
   ],
   "source": [
    "a = int(input('Enter a number: '))\n",
    "if a * 2 > 100:\n",
    "    print('a * 2 is greater than 100')\n",
    "if a + 50 > 150:\n",
    "    print('a + 50 is greater than 150')"
   ]
  },
  {
   "cell_type": "code",
   "execution_count": 4,
   "metadata": {},
   "outputs": [
    {
     "name": "stdout",
     "output_type": "stream",
     "text": [
      "x is even\n"
     ]
    }
   ],
   "source": [
    "x = int(input('Enter a number: '))\n",
    "if x % 2 == 0:\n",
    "    print('x is even')\n",
    "else:\n",
    "    print('x is odd')"
   ]
  },
  {
   "cell_type": "markdown",
   "metadata": {},
   "source": [
    "### wap to find out the total salary of the employee based on the following data\n",
    "\n",
    "- salary : user inputted\n",
    "- hra = 5%\n",
    "- da = 3.3 %\n",
    "- ta = 2.61 %\n",
    "- total = salary + da + ta + hra\n",
    "\n",
    "- rule if hra is less than 1000 then dont add hra to total"
   ]
  },
  {
   "cell_type": "code",
   "execution_count": 5,
   "metadata": {},
   "outputs": [
    {
     "name": "stdout",
     "output_type": "stream",
     "text": [
      "Movie: bollywood\n",
      "⚠️ Invalid rating ⚠️\n"
     ]
    }
   ],
   "source": [
    "name = input(\"What movie did you watch?\")\n",
    "num_str = input('Enter movie rating')\n",
    "if num_str.isnumeric():\n",
    "    num = int(num_str)\n",
    "    print(f\"Movie: {name}\")\n",
    "    if num == 1:\n",
    "        print('⭐ (terrible)')\n",
    "    elif num == 2:\n",
    "        print('⭐⭐ (bad)')\n",
    "    elif num == 3:\n",
    "        print('⭐⭐⭐ (average)')\n",
    "    elif num == 4:\n",
    "        print('⭐⭐⭐⭐ (good)')\n",
    "    elif num == 5:\n",
    "        print('⭐⭐⭐⭐⭐ (excellent)')\n",
    "    else:\n",
    "        print('⚠️ Invalid rating ⚠️')\n",
    "else:\n",
    "    print('You are stupid, just watch movies')"
   ]
  },
  {
   "cell_type": "code",
   "execution_count": 6,
   "metadata": {},
   "outputs": [
    {
     "name": "stdout",
     "output_type": "stream",
     "text": [
      "Data science/Data analysis class\n"
     ]
    }
   ],
   "source": [
    "# match case - use this to match multiple values\n",
    "day = input('Enter a day of the week: ')\n",
    "match day.lower():\n",
    "    case 'monday'|'tuesday'|'wednesday'|'friday':\n",
    "        print('Data science/Data analysis class')\n",
    "    case 'thursday':\n",
    "        print('Class Off')\n",
    "    case 'saturday'|'sunday':\n",
    "        print('Weekend (no class)')\n",
    "    case _: # default case\n",
    "        print('Invalid day')"
   ]
  },
  {
   "cell_type": "markdown",
   "metadata": {},
   "source": [
    "#single line condition\n"
   ]
  },
  {
   "cell_type": "code",
   "execution_count": 7,
   "metadata": {},
   "outputs": [
    {
     "name": "stdout",
     "output_type": "stream",
     "text": [
      "below 100\n"
     ]
    }
   ],
   "source": [
    "x = int(input('Enter a number: '))\n",
    "print(\"above 100\") if x > 100 else print(\"below 100\" )"
   ]
  },
  {
   "cell_type": "markdown",
   "metadata": {},
   "source": [
    "#### Loop\n",
    "- step based\n",
    "- traversal\n",
    "- for var in iterable:\n",
    "-     statement..."
   ]
  },
  {
   "cell_type": "markdown",
   "metadata": {},
   "source": [
    "while loop\n",
    "condition based"
   ]
  },
  {
   "cell_type": "code",
   "execution_count": 1,
   "metadata": {},
   "outputs": [
    {
     "name": "stdout",
     "output_type": "stream",
     "text": [
      "h\n",
      "e\n",
      "l\n",
      "l\n",
      "o\n",
      "o\n",
      "o\n",
      "o\n"
     ]
    }
   ],
   "source": [
    "for v in 'helloooo':\n",
    "    print(v)  #v=value"
   ]
  },
  {
   "cell_type": "code",
   "execution_count": 2,
   "metadata": {},
   "outputs": [
    {
     "name": "stdout",
     "output_type": "stream",
     "text": [
      "red\n",
      "green\n",
      "blue\n"
     ]
    }
   ],
   "source": [
    "colors = ['red', 'green', 'blue']\n",
    "for i in colors:\n",
    "    print(i)   #i=index"
   ]
  },
  {
   "cell_type": "code",
   "execution_count": 3,
   "metadata": {},
   "outputs": [
    {
     "name": "stdout",
     "output_type": "stream",
     "text": [
      "0 red\n",
      "1 green\n",
      "2 blue\n"
     ]
    }
   ],
   "source": [
    "# index and value\n",
    "for i, v in enumerate(colors):\n",
    "    print(i, v)"
   ]
  },
  {
   "cell_type": "code",
   "execution_count": 4,
   "metadata": {},
   "outputs": [
    {
     "name": "stdout",
     "output_type": "stream",
     "text": [
      "12 => 120\n",
      "56 => 560\n",
      "7  => 70 \n",
      "2  => 20 \n",
      "6  => 60 \n",
      "10 => 100\n",
      "20 => 200\n"
     ]
    }
   ],
   "source": [
    "numlist = [12,56,7,2,6,10,20]\n",
    "for num in numlist:\n",
    "    print(f'{num:<2} => {num * 10:<3}')"
   ]
  },
  {
   "cell_type": "code",
   "execution_count": 5,
   "metadata": {},
   "outputs": [
    {
     "name": "stdout",
     "output_type": "stream",
     "text": [
      "13 * 1 = 13\n",
      "13 * 2 = 26\n",
      "13 * 3 = 39\n",
      "13 * 4 = 52\n",
      "13 * 5 = 65\n",
      "13 * 6 = 78\n",
      "13 * 7 = 91\n",
      "13 * 8 = 104\n",
      "13 * 9 = 117\n",
      "13 * 10 = 130\n"
     ]
    }
   ],
   "source": [
    "# rookie way\n",
    "seq = [1,2,3,4,5,6,7,8,9,10]\n",
    "num = 13\n",
    "for i in seq:\n",
    "    print(f'{num} * {i} = {num * i}')"
   ]
  },
  {
   "cell_type": "markdown",
   "metadata": {},
   "source": [
    "range(value) => start from 0 go till value - 1"
   ]
  },
  {
   "cell_type": "markdown",
   "metadata": {},
   "source": [
    "range(a, b) => start from a go till b-1"
   ]
  },
  {
   "cell_type": "markdown",
   "metadata": {},
   "source": [
    "range(a, b, c) => start from a go till b-1 with c as step (gap) "
   ]
  },
  {
   "cell_type": "code",
   "execution_count": 6,
   "metadata": {},
   "outputs": [
    {
     "name": "stdout",
     "output_type": "stream",
     "text": [
      "13 * 10 = 130\n",
      "13 * 15 = 195\n",
      "13 * 20 = 260\n",
      "13 * 25 = 325\n",
      "13 * 30 = 390\n",
      "13 * 35 = 455\n",
      "13 * 40 = 520\n",
      "13 * 45 = 585\n",
      "13 * 50 = 650\n",
      "13 * 55 = 715\n",
      "13 * 60 = 780\n",
      "13 * 65 = 845\n",
      "13 * 70 = 910\n",
      "13 * 75 = 975\n",
      "13 * 80 = 1040\n",
      "13 * 85 = 1105\n",
      "13 * 90 = 1170\n",
      "13 * 95 = 1235\n",
      "13 * 100 = 1300\n"
     ]
    }
   ],
   "source": [
    "num = 13\n",
    "for i in range(10,101, 5):\n",
    "    print(f'{num} * {i} = {num * i}')"
   ]
  },
  {
   "cell_type": "code",
   "execution_count": 7,
   "metadata": {},
   "outputs": [
    {
     "name": "stdout",
     "output_type": "stream",
     "text": [
      "0\n",
      "2\n",
      "4\n",
      "6\n",
      "8\n",
      "10\n",
      "12\n",
      "14\n",
      "16\n",
      "18\n",
      "20\n",
      "22\n",
      "24\n",
      "26\n",
      "28\n",
      "30\n",
      "32\n",
      "34\n",
      "36\n",
      "38\n",
      "40\n",
      "42\n",
      "44\n",
      "46\n",
      "48\n",
      "50\n",
      "52\n",
      "54\n",
      "56\n",
      "58\n",
      "60\n",
      "62\n",
      "64\n",
      "66\n",
      "68\n",
      "70\n",
      "72\n",
      "74\n",
      "76\n",
      "78\n",
      "80\n",
      "82\n",
      "84\n",
      "86\n",
      "88\n",
      "90\n",
      "92\n",
      "94\n",
      "96\n",
      "98\n",
      "100\n"
     ]
    }
   ],
   "source": [
    "# only even numbers\n",
    "for i in range(0, 101, 2):\n",
    "    print(i)"
   ]
  },
  {
   "cell_type": "code",
   "execution_count": 8,
   "metadata": {},
   "outputs": [
    {
     "name": "stdout",
     "output_type": "stream",
     "text": [
      "10\n",
      "9\n",
      "8\n",
      "7\n",
      "6\n",
      "5\n",
      "4\n",
      "3\n",
      "2\n",
      "1\n"
     ]
    }
   ],
   "source": [
    "# reverse loop\n",
    "for i in range(10, 0, -1):\n",
    "    print(i)"
   ]
  },
  {
   "cell_type": "markdown",
   "metadata": {},
   "source": [
    "5 - jun - 24\n",
    "\n",
    "nested\n",
    "break and continue\n",
    "for-else"
   ]
  },
  {
   "cell_type": "code",
   "execution_count": 9,
   "metadata": {},
   "outputs": [
    {
     "name": "stdout",
     "output_type": "stream",
     "text": [
      "1 1, 1 2, 1 3, \n",
      "2 1, 2 2, 2 3, \n",
      "3 1, 3 2, 3 3, \n",
      "4 1, 4 2, 4 3, \n",
      "5 1, 5 2, 5 3, \n",
      "6 1, 6 2, 6 3, \n",
      "7 1, 7 2, 7 3, \n",
      "8 1, 8 2, 8 3, \n",
      "9 1, 9 2, 9 3, \n",
      "10 1, 10 2, 10 3, \n"
     ]
    }
   ],
   "source": [
    "for i in range(1, 11):\n",
    "    for j in range(1, 4):\n",
    "        print(i, j, end=', ')\n",
    "    print()"
   ]
  },
  {
   "cell_type": "code",
   "execution_count": 10,
   "metadata": {},
   "outputs": [
    {
     "name": "stdout",
     "output_type": "stream",
     "text": [
      "1 | John | 25 | \n",
      "2 | Jane | 22 | \n",
      "3 | Doe | 30 | Engineer | \n"
     ]
    }
   ],
   "source": [
    "cdata = [\n",
    "    [1, 'John', 25],\n",
    "    [2, 'Jane', 22],\n",
    "    [3, 'Doe', 30, 'Engineer']\n",
    "]\n",
    "\n",
    "for row in cdata:\n",
    "    for item in row:\n",
    "        print(item, end=' | ')\n",
    "    print()"
   ]
  },
  {
   "cell_type": "code",
   "execution_count": 11,
   "metadata": {},
   "outputs": [
    {
     "name": "stdout",
     "output_type": "stream",
     "text": [
      "12 45 67 \n",
      "23 45 67 \n",
      "34 56 78 \n",
      "\n",
      "23 45 23 \n",
      "34 56 78 \n",
      "\n"
     ]
    }
   ],
   "source": [
    "more_data = [\n",
    "    [[12,45,67], [23,45,67], [34,56,78]],\n",
    "    [[23,45,23], [34,56,78]],\n",
    "]\n",
    "\n",
    "for i in more_data:\n",
    "    for j in i:\n",
    "        for k in j:\n",
    "            print(k, end=' ')\n",
    "        print()\n",
    "    print()"
   ]
  },
  {
   "cell_type": "code",
   "execution_count": 12,
   "metadata": {},
   "outputs": [
    {
     "name": "stdout",
     "output_type": "stream",
     "text": [
      "1\n",
      "2\n",
      "3\n",
      "4\n",
      "5\n",
      "5\n",
      "1\n",
      "6\n",
      "7\n",
      "8\n",
      "9\n",
      "10\n",
      "loop executed\n"
     ]
    }
   ],
   "source": [
    "x = [1,2,3,4,5,5,1,6,7,8,9,10]\n",
    "for i in x:\n",
    "    if i < 0:\n",
    "        break\n",
    "    print(i)\n",
    "print('loop executed')"
   ]
  },
  {
   "cell_type": "code",
   "execution_count": 13,
   "metadata": {},
   "outputs": [
    {
     "name": "stdout",
     "output_type": "stream",
     "text": [
      "1 2 3 6 8 9 11 13 14 15 \n",
      "alternate way\n",
      "1 2 3 6 8 9 11 13 14 15 "
     ]
    }
   ],
   "source": [
    "data_with_crap = [1,2,3,'4','5',6,'7',8,9,'10',11,'12',13,14,15]\n",
    "for i in data_with_crap:\n",
    "    if isinstance(i, str):\n",
    "        continue\n",
    "    print(i, end=' ')\n",
    "    \n",
    "###########alternative############\n",
    "print('\\nalternate way')\n",
    "for i in data_with_crap:\n",
    "    if isinstance(i, int):\n",
    "        print(i, end=' ')"
   ]
  },
  {
   "cell_type": "code",
   "execution_count": 14,
   "metadata": {},
   "outputs": [
    {
     "name": "stdout",
     "output_type": "stream",
     "text": [
      "1\n",
      "2\n",
      "3\n",
      "4\n",
      "5\n",
      "6\n",
      "7\n",
      "8\n",
      "9\n",
      "Loop stopped at 10\n"
     ]
    }
   ],
   "source": [
    "# adding a check for loop completion\n",
    "data = [1,2,3,4,5,6,7,8,9,10]\n",
    "stop_val = int(input('Enter a number to stop at: '))\n",
    "for i in data:\n",
    "    if stop_val == i:\n",
    "        print(f\"Loop stopped at {i}\")\n",
    "        break\n",
    "    print(i)\n",
    "else:\n",
    "    print(\"Loop completed all steps\")"
   ]
  },
  {
   "cell_type": "code",
   "execution_count": 15,
   "metadata": {},
   "outputs": [
    {
     "name": "stdout",
     "output_type": "stream",
     "text": [
      "10\n",
      "9\n",
      "8\n",
      "7\n",
      "6\n",
      "5\n",
      "4\n",
      "3\n",
      "2\n",
      "1\n"
     ]
    }
   ],
   "source": [
    "i = 10\n",
    "while i > 0:\n",
    "    print(i)\n",
    "    i -= 1"
   ]
  },
  {
   "cell_type": "markdown",
   "metadata": {},
   "source": [
    "- 4567 % 10 => 7 (unit place) 4567 // 10 => 456 (remaining)\n",
    "- 456 % 10 => 6 (unit place) 456 // 10 => 45 (remaining) \n",
    "- 45 % 10 => 5 (unit place) 45 // 10 => 4 (remaining) \n",
    "- 4 % 10 => 4 (unit place) 4 // 10 => 0\n",
    "\n"
   ]
  },
  {
   "cell_type": "code",
   "execution_count": 16,
   "metadata": {},
   "outputs": [
    {
     "data": {
      "text/plain": [
       "68"
      ]
     },
     "execution_count": 16,
     "metadata": {},
     "output_type": "execute_result"
    }
   ],
   "source": [
    "sum([12,34,4,5,6,7])"
   ]
  },
  {
   "cell_type": "code",
   "execution_count": 17,
   "metadata": {},
   "outputs": [],
   "source": [
    "print=('hi') # this is stupid\n",
    "sum = 20 # this should not be done\n",
    "del sum # delete the variable sum so that life can be easier\n",
    "del print # delete the print function so that you can do other things"
   ]
  },
  {
   "cell_type": "code",
   "execution_count": 18,
   "metadata": {},
   "outputs": [
    {
     "name": "stdout",
     "output_type": "stream",
     "text": [
      "6\n"
     ]
    }
   ],
   "source": [
    "# sum of all digits 12345 => 1+2+3+4+5 = 15\n",
    "num = int(input(\"Enter a number: \"))\n",
    "total = 0\n",
    "while num > 0:\n",
    "    total += num % 10\n",
    "    num = num // 10\n",
    "print(total)\n"
   ]
  },
  {
   "cell_type": "code",
   "execution_count": null,
   "metadata": {},
   "outputs": [],
   "source": []
  }
 ],
 "metadata": {
  "kernelspec": {
   "display_name": "Python 3",
   "language": "python",
   "name": "python3"
  },
  "language_info": {
   "codemirror_mode": {
    "name": "ipython",
    "version": 3
   },
   "file_extension": ".py",
   "mimetype": "text/x-python",
   "name": "python",
   "nbconvert_exporter": "python",
   "pygments_lexer": "ipython3",
   "version": "3.11.3"
  }
 },
 "nbformat": 4,
 "nbformat_minor": 2
}
