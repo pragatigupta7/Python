{
 "cells": [
  {
   "cell_type": "code",
   "execution_count": null,
   "metadata": {},
   "outputs": [],
   "source": []
  },
  {
   "cell_type": "markdown",
   "metadata": {},
   "source": [
    "Write a program to print numbers from 1 to 10 using a for loop.\n"
   ]
  },
  {
   "cell_type": "code",
   "execution_count": 1,
   "metadata": {},
   "outputs": [
    {
     "name": "stdout",
     "output_type": "stream",
     "text": [
      "1\n",
      "2\n",
      "3\n",
      "4\n",
      "5\n",
      "6\n",
      "7\n",
      "8\n",
      "9\n",
      "10\n"
     ]
    }
   ],
   "source": [
    "for i in range(1,11):\n",
    "    print(i)"
   ]
  },
  {
   "cell_type": "markdown",
   "metadata": {},
   "source": [
    "Write a program to print the multiplication table of a given number using a while loop."
   ]
  },
  {
   "cell_type": "code",
   "execution_count": 2,
   "metadata": {},
   "outputs": [
    {
     "name": "stdout",
     "output_type": "stream",
     "text": [
      "5*1=5\n",
      "5*2=10\n",
      "5*3=15\n",
      "5*4=20\n",
      "5*5=25\n",
      "5*6=30\n",
      "5*7=35\n",
      "5*8=40\n",
      "5*9=45\n",
      "5*10=50\n"
     ]
    }
   ],
   "source": [
    "seq=[1,2,3,4,5,6,7,8,9,10]\n",
    "num=5\n",
    "for i in seq:\n",
    "    print(f'{num}*{i}={num*i}')"
   ]
  },
  {
   "cell_type": "markdown",
   "metadata": {},
   "source": [
    "Write a program to find the sum of all even numbers between 1 and 100 using a for loop."
   ]
  },
  {
   "cell_type": "code",
   "execution_count": 15,
   "metadata": {},
   "outputs": [
    {
     "name": "stdout",
     "output_type": "stream",
     "text": [
      "The sum of all even numbers between 1 and 100 is: 100\n"
     ]
    }
   ],
   "source": [
    "even=0\n",
    "for i in range(1,101):\n",
    "    if i % 2 ==0:\n",
    "        even += i\n",
    "print(\"The sum of all even numbers between 1 and 100 is:\", i)\n",
    "    "
   ]
  },
  {
   "cell_type": "markdown",
   "metadata": {},
   "source": [
    "Write a program to check if a given number is prime or not using a while loop."
   ]
  },
  {
   "cell_type": "code",
   "execution_count": 25,
   "metadata": {},
   "outputs": [
    {
     "name": "stdout",
     "output_type": "stream",
     "text": [
      "7  prime\n"
     ]
    }
   ],
   "source": [
    "num=7\n",
    "if num>1:\n",
    "    for i in range(2,num//2):\n",
    "        if(num % i ) == 0:\n",
    "            print(num,\"not prime\")\n",
    "        else:\n",
    "            print(num,\" prime\")\n",
    "        "
   ]
  },
  {
   "cell_type": "markdown",
   "metadata": {},
   "source": [
    "Write a program to calculate the sum of digits of a number using a for loop."
   ]
  },
  {
   "cell_type": "code",
   "execution_count": 45,
   "metadata": {},
   "outputs": [
    {
     "name": "stdout",
     "output_type": "stream",
     "text": [
      "10\n"
     ]
    }
   ],
   "source": [
    "number=input('enter the number')\n",
    "sum=0\n",
    "for i in number:\n",
    "   sum=int(sum) + int(i)\n",
    "print(sum)\n"
   ]
  },
  {
   "cell_type": "markdown",
   "metadata": {},
   "source": [
    "Write a program to calculate the factorial of a number using a for loop."
   ]
  },
  {
   "cell_type": "code",
   "execution_count": 2,
   "metadata": {},
   "outputs": [
    {
     "name": "stdout",
     "output_type": "stream",
     "text": [
      "720\n"
     ]
    }
   ],
   "source": [
    "number=int(input(\"enter a no. for factorial\"))\n",
    "fact=1\n",
    "for i in range(1,number+1):\n",
    "    fact *= i\n",
    "print(fact)\n"
   ]
  },
  {
   "cell_type": "markdown",
   "metadata": {},
   "source": [
    "Write a program to find the largest element in an array using a for loop."
   ]
  },
  {
   "cell_type": "code",
   "execution_count": 49,
   "metadata": {},
   "outputs": [
    {
     "name": "stdout",
     "output_type": "stream",
     "text": [
      "The largest element in the array is: 89\n"
     ]
    }
   ],
   "source": [
    "# Initialize the array (you can also get input from the user)\n",
    "array = [10, 24, 5, 67, 89, 2, 77]\n",
    "\n",
    "# Step 2: Initialize the largest variable with the first element of the array\n",
    "largest = array[0]\n",
    "\n",
    "# Step 3: Iterate over the array starting from the second element\n",
    "for element in array[1:]:\n",
    "    # Step 4: Compare each element with the current largest element\n",
    "    if element > largest:\n",
    "        largest = element\n",
    "\n",
    "# Step 5: Print the largest element\n",
    "print(\"The largest element in the array is:\", largest)\n"
   ]
  },
  {
   "cell_type": "markdown",
   "metadata": {},
   "source": [
    "Write a program to reverse a given string using a while loop.\n"
   ]
  },
  {
   "cell_type": "code",
   "execution_count": 50,
   "metadata": {},
   "outputs": [
    {
     "name": "stdout",
     "output_type": "stream",
     "text": [
      "The reversed string is: itagarp si wman ym\n"
     ]
    }
   ],
   "source": [
    "# Get the string from the user\n",
    "original_string = input(\"Enter a string to reverse: \")\n",
    "\n",
    "# Initialize the reversed string variable\n",
    "reversed_string = \"\"\n",
    "\n",
    "# Initialize the index variable to the last index of the original string\n",
    "index = len(original_string) - 1\n",
    "\n",
    "# Iterate over the string from the end to the beginning\n",
    "while index >= 0:\n",
    "    # Append the current character to the reversed string\n",
    "    reversed_string += original_string[index]\n",
    "    # Decrement the index\n",
    "    index -= 1\n",
    "\n",
    "# Print the reversed string\n",
    "print(\"The reversed string is:\", reversed_string)\n"
   ]
  },
  {
   "cell_type": "markdown",
   "metadata": {},
   "source": [
    "Write a program to calculate the average of a list of numbers using a for loop."
   ]
  },
  {
   "cell_type": "code",
   "execution_count": 56,
   "metadata": {},
   "outputs": [
    {
     "name": "stdout",
     "output_type": "stream",
     "text": [
      "0.5\n",
      "1.25\n",
      "2.25\n",
      "3.5\n"
     ]
    }
   ],
   "source": [
    "number=[2,3,4,5]\n",
    "sum=0\n",
    "for i in number:\n",
    "    sum += i\n",
    "    average=sum / len(number)\n",
    "    print(average)"
   ]
  },
  {
   "cell_type": "code",
   "execution_count": 57,
   "metadata": {},
   "outputs": [
    {
     "name": "stdout",
     "output_type": "stream",
     "text": [
      "The average of the list of numbers is: 30.0\n"
     ]
    }
   ],
   "source": [
    "# Initialize the list of numbers (you can also get input from the user)\n",
    "numbers = [10, 20, 30, 40, 50]\n",
    "\n",
    "# Step 2: Initialize the sum variable\n",
    "total_sum = 0\n",
    "\n",
    "# Step 3: Iterate over the list of numbers\n",
    "for number in numbers:\n",
    "    # Step 4: Add each number to the sum\n",
    "    total_sum += number\n",
    "\n",
    "# Step 5: Calculate the average\n",
    "average = total_sum / len(numbers)\n",
    "\n",
    "# Step 6: Print the average\n",
    "print(\"The average of the list of numbers is:\", average)"
   ]
  },
  {
   "cell_type": "markdown",
   "metadata": {},
   "source": [
    "Fibanacci series"
   ]
  },
  {
   "cell_type": "code",
   "execution_count": 1,
   "metadata": {},
   "outputs": [
    {
     "name": "stdout",
     "output_type": "stream",
     "text": [
      "Fibonacci series up to 10 :\n",
      "0 1 1 2 3 5 8 13 21 34 \n"
     ]
    }
   ],
   "source": [
    "# Function to print Fibonacci series up to a given limit\n",
    "def fibonacci_series(limit):\n",
    "    # Initialize the first two Fibonacci numbers\n",
    "    a, b = 0, 1\n",
    "    print(\"Fibonacci series up to\", limit, \":\")\n",
    "    \n",
    "    # Loop to generate the Fibonacci series\n",
    "    for _ in range(limit):\n",
    "        # Print the current number\n",
    "        print(a, end=\" \")\n",
    "        # Update the values of a and b to the next Fibonacci numbers\n",
    "        a, b = b, a + b\n",
    "    \n",
    "    # Print a new line at the end of the series\n",
    "    print()\n",
    "\n",
    "# Set the limit for the Fibonacci series\n",
    "limit = int(input(\"Enter the limit for the Fibonacci series: \"))\n",
    "\n",
    "# Call the function to print the Fibonacci series\n",
    "fibonacci_series(limit)\n"
   ]
  },
  {
   "cell_type": "markdown",
   "metadata": {},
   "source": [
    "Write a program to print the ASCII values of all uppercase letters using a for loop."
   ]
  },
  {
   "cell_type": "code",
   "execution_count": 3,
   "metadata": {},
   "outputs": [
    {
     "name": "stdout",
     "output_type": "stream",
     "text": [
      "ASCII values of all uppercase letters:\n",
      "A: 65\n",
      "B: 66\n",
      "C: 67\n",
      "D: 68\n",
      "E: 69\n",
      "F: 70\n",
      "G: 71\n",
      "H: 72\n",
      "I: 73\n",
      "J: 74\n",
      "K: 75\n",
      "L: 76\n",
      "M: 77\n",
      "N: 78\n",
      "O: 79\n",
      "P: 80\n",
      "Q: 81\n",
      "R: 82\n",
      "S: 83\n",
      "T: 84\n",
      "U: 85\n",
      "V: 86\n",
      "W: 87\n",
      "X: 88\n",
      "Y: 89\n",
      "Z: 90\n"
     ]
    }
   ],
   "source": [
    "# Function to print ASCII values of all uppercase letters\n",
    "def print_ascii_values():\n",
    "    # ASCII values of uppercase letters range from 65 ('A') to 90 ('Z')\n",
    "    print(\"ASCII values of all uppercase letters:\")\n",
    "    for ascii_value in range(65, 91):\n",
    "        # Convert ASCII value to corresponding character\n",
    "        character = chr(ascii_value)\n",
    "        # Print character and its ASCII value\n",
    "        print(f\"{character}: {ascii_value}\")\n",
    "\n",
    "# Call the function to print ASCII values of uppercase letters\n",
    "print_ascii_values()\n"
   ]
  },
  {
   "cell_type": "markdown",
   "metadata": {},
   "source": [
    "Write a program to check if a given string is a palindrome using a for loop.\n"
   ]
  },
  {
   "cell_type": "code",
   "execution_count": 4,
   "metadata": {},
   "outputs": [
    {
     "name": "stdout",
     "output_type": "stream",
     "text": [
      "'radar' is a palindrome.\n"
     ]
    }
   ],
   "source": [
    "# Function to check if a given string is a palindrome\n",
    "def is_palindrome(input_string):\n",
    "    # Convert the string to lowercase to make the check case-insensitive\n",
    "    input_string = input_string.lower()\n",
    "    \n",
    "    # Get the length of the string\n",
    "    length = len(input_string)\n",
    "    \n",
    "    # Use a for loop to compare characters\n",
    "    for i in range(length // 2):\n",
    "        if input_string[i] != input_string[length - i - 1]:\n",
    "            return False  # Not a palindrome if any character doesn't match\n",
    "    \n",
    "    return True  # All characters matched, so it's a palindrome\n",
    "\n",
    "# Get the string input from the user\n",
    "user_input = input(\"Enter a string to check if it is a palindrome: \")\n",
    "\n",
    "# Check if the input string is a palindrome\n",
    "if is_palindrome(user_input):\n",
    "    print(f\"'{user_input}' is a palindrome.\")\n",
    "else:\n",
    "    print(f\"'{user_input}' is not a palindrome.\")\n"
   ]
  },
  {
   "cell_type": "markdown",
   "metadata": {},
   "source": [
    "Write a program to find the smallest element in an array using a while loop."
   ]
  },
  {
   "cell_type": "code",
   "execution_count": 5,
   "metadata": {},
   "outputs": [
    {
     "name": "stdout",
     "output_type": "stream",
     "text": [
      "The smallest element in the array is: 2\n"
     ]
    }
   ],
   "source": [
    "# Function to find the smallest element in an array using a while loop\n",
    "def find_smallest_element(arr):\n",
    "    # Check if the array is empty\n",
    "    if not arr:\n",
    "        return None  # Return None if the array is empty\n",
    "    \n",
    "    # Initialize the smallest element as the first element of the array\n",
    "    smallest = arr[0]\n",
    "    \n",
    "    # Initialize the index variable\n",
    "    index = 1\n",
    "    \n",
    "    # Loop through the array using a while loop\n",
    "    while index < len(arr):\n",
    "        # Update the smallest element if a smaller element is found\n",
    "        if arr[index] < smallest:\n",
    "            smallest = arr[index]\n",
    "        # Move to the next element\n",
    "        index += 1\n",
    "    \n",
    "    return smallest\n",
    "\n",
    "# Example array\n",
    "array = [34, 15, 88, 2, 45, 76, 3, 11]\n",
    "\n",
    "# Call the function to find the smallest element in the array\n",
    "smallest_element = find_smallest_element(array)\n",
    "\n",
    "# Check if the array was not empty\n",
    "if smallest_element is not None:\n",
    "    print(\"The smallest element in the array is:\", smallest_element)\n",
    "else:\n",
    "    print(\"The array is empty.\")\n"
   ]
  },
  {
   "cell_type": "markdown",
   "metadata": {},
   "source": [
    "Write a program to check if a given list of years has a leap year using a while loop."
   ]
  },
  {
   "cell_type": "code",
   "execution_count": 6,
   "metadata": {},
   "outputs": [
    {
     "name": "stdout",
     "output_type": "stream",
     "text": [
      "The list contains at least one leap year.\n"
     ]
    }
   ],
   "source": [
    "# Function to check if a given year is a leap year\n",
    "def is_leap_year(year):\n",
    "    # A year is a leap year if it is divisible by 4\n",
    "    # except for end-of-century years which must be divisible by 400\n",
    "    return (year % 4 == 0 and year % 100 != 0) or (year % 400 == 0)\n",
    "\n",
    "# Function to check if there is any leap year in the list using a while loop\n",
    "def has_leap_year(years):\n",
    "    index = 0\n",
    "    while index < len(years):\n",
    "        if is_leap_year(years[index]):\n",
    "            return True  # Return True if a leap year is found\n",
    "        index += 1\n",
    "    return False  # Return False if no leap year is found\n",
    "\n",
    "# Example list of years\n",
    "years = [2001, 2003, 2005, 2007, 2010, 2011, 2012, 2015, 2018, 2020]\n",
    "\n",
    "# Check if the list contains any leap years\n",
    "if has_leap_year(years):\n",
    "    print(\"The list contains at least one leap year.\")\n",
    "else:\n",
    "    print(\"The list does not contain any leap years.\")\n"
   ]
  },
  {
   "cell_type": "code",
   "execution_count": 9,
   "metadata": {},
   "outputs": [
    {
     "name": "stdout",
     "output_type": "stream",
     "text": [
      "Multiplication table for 1:\n",
      "1 x 1 = 1\n",
      "1 x 2 = 2\n",
      "1 x 3 = 3\n",
      "1 x 4 = 4\n",
      "1 x 5 = 5\n",
      "1 x 6 = 6\n",
      "1 x 7 = 7\n",
      "1 x 8 = 8\n",
      "1 x 9 = 9\n",
      "1 x 10 = 10\n",
      "\n",
      "Multiplication table for 2:\n",
      "2 x 1 = 2\n",
      "2 x 2 = 4\n",
      "2 x 3 = 6\n",
      "2 x 4 = 8\n",
      "2 x 5 = 10\n",
      "2 x 6 = 12\n",
      "2 x 7 = 14\n",
      "2 x 8 = 16\n",
      "2 x 9 = 18\n",
      "2 x 10 = 20\n",
      "\n",
      "Multiplication table for 3:\n",
      "3 x 1 = 3\n",
      "3 x 2 = 6\n",
      "3 x 3 = 9\n",
      "3 x 4 = 12\n",
      "3 x 5 = 15\n",
      "3 x 6 = 18\n",
      "3 x 7 = 21\n",
      "3 x 8 = 24\n",
      "3 x 9 = 27\n",
      "3 x 10 = 30\n",
      "\n",
      "Multiplication table for 4:\n",
      "4 x 1 = 4\n",
      "4 x 2 = 8\n",
      "4 x 3 = 12\n",
      "4 x 4 = 16\n",
      "4 x 5 = 20\n",
      "4 x 6 = 24\n",
      "4 x 7 = 28\n",
      "4 x 8 = 32\n",
      "4 x 9 = 36\n",
      "4 x 10 = 40\n",
      "\n",
      "Multiplication table for 5:\n",
      "5 x 1 = 5\n",
      "5 x 2 = 10\n",
      "5 x 3 = 15\n",
      "5 x 4 = 20\n",
      "5 x 5 = 25\n",
      "5 x 6 = 30\n",
      "5 x 7 = 35\n",
      "5 x 8 = 40\n",
      "5 x 9 = 45\n",
      "5 x 10 = 50\n",
      "\n"
     ]
    }
   ],
   "source": [
    "# Function to print multiplication tables from 1 to 5\n",
    "def print_multiplication_tables():\n",
    "    # Outer loop for numbers from 1 to 5\n",
    "    for i in range(1, 6):\n",
    "        print(f\"Multiplication table for {i}:\")\n",
    "        # Inner loop for multipliers from 1 to 5\n",
    "        for j in range(1, 11):\n",
    "            # Calculate the product and print it\n",
    "            product = i * j\n",
    "            print(f\"{i} x {j} = {product}\")\n",
    "        # Print a new line for better readability\n",
    "        print()\n",
    "\n",
    "# Call the function to print the multiplication tables\n",
    "print_multiplication_tables()\n"
   ]
  },
  {
   "cell_type": "code",
   "execution_count": 10,
   "metadata": {},
   "outputs": [
    {
     "name": "stdout",
     "output_type": "stream",
     "text": [
      "The largest element in the array is: 88\n",
      "The smallest element in the array is: 2\n"
     ]
    }
   ],
   "source": [
    "# Function to find the largest and smallest elements in an array\n",
    "def find_largest_and_smallest(arr):\n",
    "    # Check if the array is empty\n",
    "    if not arr:\n",
    "        return None, None  # Return None for both if the array is empty\n",
    "    \n",
    "    # Initialize the largest and smallest elements as the first element of the array\n",
    "    largest = arr[0]\n",
    "    smallest = arr[0]\n",
    "    \n",
    "    # Loop through the array using a for loop\n",
    "    for num in arr:\n",
    "        if num > largest:\n",
    "            largest = num\n",
    "        if num < smallest:\n",
    "            smallest = num\n",
    "    \n",
    "    return largest, smallest\n",
    "\n",
    "# Example array\n",
    "array = [34, 15, 88, 2, 45, 76, 3, 11]\n",
    "\n",
    "# Call the function to find the largest and smallest elements in the array\n",
    "largest_element, smallest_element = find_largest_and_smallest(array)\n",
    "\n",
    "# Check if the array was not empty\n",
    "if largest_element is not None and smallest_element is not None:\n",
    "    print(\"The largest element in the array is:\", largest_element)\n",
    "    print(\"The smallest element in the array is:\", smallest_element)\n",
    "else:\n",
    "    print(\"The array is empty.\")\n"
   ]
  },
  {
   "cell_type": "code",
   "execution_count": 11,
   "metadata": {},
   "outputs": [
    {
     "name": "stdout",
     "output_type": "stream",
     "text": [
      "Reversed sentence: pragati is name my\n"
     ]
    }
   ],
   "source": [
    "# Function to reverse the order of words in a sentence using a while loop\n",
    "def reverse_sentence(sentence):\n",
    "    # Split the sentence into words\n",
    "    words = sentence.split()\n",
    "    \n",
    "    # Initialize an empty list to store reversed words\n",
    "    reversed_words = []\n",
    "    \n",
    "    # Initialize index to iterate backwards through words\n",
    "    index = len(words) - 1\n",
    "    \n",
    "    # Use a while loop to iterate through words in reverse order\n",
    "    while index >= 0:\n",
    "        reversed_words.append(words[index])\n",
    "        index -= 1\n",
    "    \n",
    "    # Join the reversed words into a new sentence\n",
    "    reversed_sentence = \" \".join(reversed_words)\n",
    "    \n",
    "    return reversed_sentence\n",
    "\n",
    "# Example sentence\n",
    "input_sentence = input(\"Enter a sentence to reverse its words: \")\n",
    "\n",
    "# Call the function to reverse the order of words in the sentence\n",
    "reversed_sentence = reverse_sentence(input_sentence)\n",
    "\n",
    "# Print the reversed sentence\n",
    "print(\"Reversed sentence:\", reversed_sentence)\n"
   ]
  },
  {
   "cell_type": "code",
   "execution_count": 12,
   "metadata": {},
   "outputs": [
    {
     "name": "stdout",
     "output_type": "stream",
     "text": [
      "Number of vowels in 'hello': 2\n"
     ]
    }
   ],
   "source": [
    "# Function to count the number of vowels in a given string\n",
    "def count_vowels(input_string):\n",
    "    # Define a set of vowels (both lowercase and uppercase)\n",
    "    vowels = {'a', 'e', 'i', 'o', 'u', 'A', 'E', 'I', 'O', 'U'}\n",
    "    \n",
    "    # Initialize a counter for vowels\n",
    "    vowel_count = 0\n",
    "    \n",
    "    # Iterate through each character in the string\n",
    "    for char in input_string:\n",
    "        # Check if the character is a vowel\n",
    "        if char in vowels:\n",
    "            vowel_count += 1\n",
    "    \n",
    "    return vowel_count\n",
    "\n",
    "# Example string\n",
    "input_string = input(\"Enter a string to count the number of vowels: \")\n",
    "\n",
    "# Call the function to count vowels in the input string\n",
    "vowel_count = count_vowels(input_string)\n",
    "\n",
    "# Print the number of vowels found in the string\n",
    "print(f\"Number of vowels in '{input_string}': {vowel_count}\")\n"
   ]
  },
  {
   "cell_type": "code",
   "execution_count": 2,
   "metadata": {},
   "outputs": [
    {
     "name": "stdout",
     "output_type": "stream",
     "text": [
      "([2, 1], 'abc', 0, 9)\n"
     ]
    }
   ],
   "source": [
    "tuple = ([2,3],\"abc\",0,9)\n",
    "tuple[0][1] = 1\n",
    "print(tuple)"
   ]
  },
  {
   "cell_type": "code",
   "execution_count": 6,
   "metadata": {},
   "outputs": [
    {
     "name": "stdout",
     "output_type": "stream",
     "text": [
      "Simon\n"
     ]
    }
   ],
   "source": [
    "str1 = \"John,Simon,Aryan\"\n",
    "print(str1[-11:-6])\n"
   ]
  },
  {
   "cell_type": "code",
   "execution_count": 9,
   "metadata": {},
   "outputs": [
    {
     "name": "stdout",
     "output_type": "stream",
     "text": [
      "{4}\n"
     ]
    }
   ],
   "source": [
    "list = [1,3,4,2]\n",
    "x = list.pop(2)\n",
    "print(set([x]))"
   ]
  },
  {
   "cell_type": "code",
   "execution_count": 10,
   "metadata": {},
   "outputs": [
    {
     "name": "stdout",
     "output_type": "stream",
     "text": [
      "You are ignorant\n"
     ]
    }
   ],
   "source": [
    "ans = input(\"the capital of canada is?\")\n",
    "if(ans==\"Ottawa\"):\n",
    "    print(\"you are wise\")\n",
    "else:\n",
    "    print(\"You are ignorant\")\n",
    "\n"
   ]
  },
  {
   "cell_type": "code",
   "execution_count": 12,
   "metadata": {},
   "outputs": [
    {
     "name": "stdout",
     "output_type": "stream",
     "text": [
      "3\n"
     ]
    }
   ],
   "source": [
    "tuple = (2,4,3)\n",
    "tuple3 = tuple[1*2]\n",
    "print(tuple3)"
   ]
  },
  {
   "cell_type": "code",
   "execution_count": 13,
   "metadata": {},
   "outputs": [
    {
     "name": "stdout",
     "output_type": "stream",
     "text": [
      "0\n"
     ]
    }
   ],
   "source": [
    "tuple=()\n",
    "tuple1=tuple*2\n",
    "print(len(tuple1))\n"
   ]
  },
  {
   "cell_type": "code",
   "execution_count": 14,
   "metadata": {},
   "outputs": [
    {
     "data": {
      "text/plain": [
       "'pq'"
      ]
     },
     "execution_count": 14,
     "metadata": {},
     "output_type": "execute_result"
    }
   ],
   "source": [
    "'p'+'q'if'12'.isdigit() else'r'+'set'"
   ]
  },
  {
   "cell_type": "code",
   "execution_count": 15,
   "metadata": {},
   "outputs": [
    {
     "name": "stdout",
     "output_type": "stream",
     "text": [
      "[5, 9, 0, 8]\n"
     ]
    }
   ],
   "source": [
    "list1=[8,0,9,5]\n",
    "print(list1[::-1])"
   ]
  },
  {
   "cell_type": "code",
   "execution_count": 16,
   "metadata": {},
   "outputs": [
    {
     "name": "stdout",
     "output_type": "stream",
     "text": [
      "{'Joey': 1, 'Rachel': 2, 'Phoebe': 2}\n"
     ]
    }
   ],
   "source": [
    "dict = {\"Joey\":1,\"Rachel\":2}\n",
    "dict.update({\"Phoebe\":2})\n",
    "print(dict)"
   ]
  },
  {
   "cell_type": "code",
   "execution_count": 17,
   "metadata": {},
   "outputs": [
    {
     "ename": "TypeError",
     "evalue": "can only concatenate str (not \"int\") to str",
     "output_type": "error",
     "traceback": [
      "\u001b[1;31m---------------------------------------------------------------------------\u001b[0m",
      "\u001b[1;31mTypeError\u001b[0m                                 Traceback (most recent call last)",
      "Cell \u001b[1;32mIn[17], line 1\u001b[0m\n\u001b[1;32m----> 1\u001b[0m \u001b[38;5;28mprint\u001b[39m(\u001b[38;5;124;43m\"\u001b[39;49m\u001b[38;5;124;43mhello\u001b[39;49m\u001b[38;5;124;43m\"\u001b[39;49m\u001b[38;5;241;43m+\u001b[39;49m\u001b[38;5;241;43m2\u001b[39;49m\u001b[38;5;241m+\u001b[39m\u001b[38;5;124m\"\u001b[39m\u001b[38;5;124mworld\u001b[39m\u001b[38;5;124m\"\u001b[39m)\n",
      "\u001b[1;31mTypeError\u001b[0m: can only concatenate str (not \"int\") to str"
     ]
    }
   ],
   "source": [
    "print(\"hello\"+2+\"world\")"
   ]
  },
  {
   "cell_type": "code",
   "execution_count": 18,
   "metadata": {},
   "outputs": [
    {
     "ename": "TypeError",
     "evalue": "unsupported operand type(s) for +: 'int' and 'str'",
     "output_type": "error",
     "traceback": [
      "\u001b[1;31m---------------------------------------------------------------------------\u001b[0m",
      "\u001b[1;31mTypeError\u001b[0m                                 Traceback (most recent call last)",
      "Cell \u001b[1;32mIn[18], line 4\u001b[0m\n\u001b[0;32m      2\u001b[0m str1\u001b[38;5;241m=\u001b[39m\u001b[38;5;124m\"\u001b[39m\u001b[38;5;124m\"\u001b[39m\n\u001b[0;32m      3\u001b[0m \u001b[38;5;28;01mfor\u001b[39;00m i \u001b[38;5;129;01min\u001b[39;00m dict1:\n\u001b[1;32m----> 4\u001b[0m     str1\u001b[38;5;241m=\u001b[39mstr1\u001b[38;5;241m+\u001b[39m\u001b[38;5;28mstr\u001b[39m(\u001b[43mdict1\u001b[49m\u001b[43m[\u001b[49m\u001b[43mi\u001b[49m\u001b[43m]\u001b[49m\u001b[38;5;241;43m+\u001b[39;49m\u001b[38;5;124;43m\"\u001b[39;49m\u001b[38;5;124;43m \u001b[39;49m\u001b[38;5;124;43m\"\u001b[39;49m)\n\u001b[0;32m      5\u001b[0m     str2\u001b[38;5;241m=\u001b[39mstr1[:\u001b[38;5;241m-\u001b[39m\u001b[38;5;241m1\u001b[39m]\n\u001b[0;32m      6\u001b[0m \u001b[38;5;28mprint\u001b[39m(str2[::\u001b[38;5;241m-\u001b[39m\u001b[38;5;241m1\u001b[39m])\n",
      "\u001b[1;31mTypeError\u001b[0m: unsupported operand type(s) for +: 'int' and 'str'"
     ]
    }
   ],
   "source": [
    "dict1={\"a\":10,\"b\":2,\"c\":3}\n",
    "str1=\"\"\n",
    "for i in dict1:\n",
    "    str1=str1+str(dict1[i]+\" \")\n",
    "    str2=str1[:-1]\n",
    "print(str2[::-1])"
   ]
  },
  {
   "cell_type": "code",
   "execution_count": 25,
   "metadata": {},
   "outputs": [
    {
     "ename": "SyntaxError",
     "evalue": "expression cannot contain assignment, perhaps you meant \"==\"? (1578348479.py, line 4)",
     "output_type": "error",
     "traceback": [
      "\u001b[1;36m  Cell \u001b[1;32mIn[25], line 4\u001b[1;36m\u001b[0m\n\u001b[1;33m    print(dict1[\"a\"]=5)\u001b[0m\n\u001b[1;37m          ^\u001b[0m\n\u001b[1;31mSyntaxError\u001b[0m\u001b[1;31m:\u001b[0m expression cannot contain assignment, perhaps you meant \"==\"?\n"
     ]
    }
   ],
   "source": [
    "dict1={\"a\":1,\"b\":2,\"c\":3}\n",
    "print(len(dict1))\n",
    "print(dict1.get(\"b\"))\n"
   ]
  },
  {
   "cell_type": "code",
   "execution_count": null,
   "metadata": {},
   "outputs": [],
   "source": []
  }
 ],
 "metadata": {
  "kernelspec": {
   "display_name": "Python 3",
   "language": "python",
   "name": "python3"
  },
  "language_info": {
   "codemirror_mode": {
    "name": "ipython",
    "version": 3
   },
   "file_extension": ".py",
   "mimetype": "text/x-python",
   "name": "python",
   "nbconvert_exporter": "python",
   "pygments_lexer": "ipython3",
   "version": "3.12.0"
  }
 },
 "nbformat": 4,
 "nbformat_minor": 2
}
