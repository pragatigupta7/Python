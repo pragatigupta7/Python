{
 "cells": [
  {
   "cell_type": "code",
   "execution_count": null,
   "metadata": {},
   "outputs": [],
   "source": []
  },
  {
   "cell_type": "markdown",
   "metadata": {},
   "source": [
    "Write a program to print numbers from 1 to 10 using a for loop.\n"
   ]
  },
  {
   "cell_type": "code",
   "execution_count": 1,
   "metadata": {},
   "outputs": [
    {
     "name": "stdout",
     "output_type": "stream",
     "text": [
      "1\n",
      "2\n",
      "3\n",
      "4\n",
      "5\n",
      "6\n",
      "7\n",
      "8\n",
      "9\n",
      "10\n"
     ]
    }
   ],
   "source": [
    "for i in range(1,11):\n",
    "    print(i)"
   ]
  },
  {
   "cell_type": "markdown",
   "metadata": {},
   "source": [
    "Write a program to print the multiplication table of a given number using a while loop."
   ]
  },
  {
   "cell_type": "code",
   "execution_count": 2,
   "metadata": {},
   "outputs": [
    {
     "name": "stdout",
     "output_type": "stream",
     "text": [
      "5*1=5\n",
      "5*2=10\n",
      "5*3=15\n",
      "5*4=20\n",
      "5*5=25\n",
      "5*6=30\n",
      "5*7=35\n",
      "5*8=40\n",
      "5*9=45\n",
      "5*10=50\n"
     ]
    }
   ],
   "source": [
    "seq=[1,2,3,4,5,6,7,8,9,10]\n",
    "num=5\n",
    "for i in seq:\n",
    "    print(f'{num}*{i}={num*i}')"
   ]
  },
  {
   "cell_type": "markdown",
   "metadata": {},
   "source": [
    "Write a program to find the sum of all even numbers between 1 and 100 using a for loop."
   ]
  },
  {
   "cell_type": "code",
   "execution_count": 15,
   "metadata": {},
   "outputs": [
    {
     "name": "stdout",
     "output_type": "stream",
     "text": [
      "The sum of all even numbers between 1 and 100 is: 100\n"
     ]
    }
   ],
   "source": [
    "even=0\n",
    "for i in range(1,101):\n",
    "    if i % 2 ==0:\n",
    "        even += i\n",
    "print(\"The sum of all even numbers between 1 and 100 is:\", i)\n",
    "    "
   ]
  },
  {
   "cell_type": "markdown",
   "metadata": {},
   "source": [
    "Write a program to check if a given number is prime or not using a while loop."
   ]
  },
  {
   "cell_type": "code",
   "execution_count": 25,
   "metadata": {},
   "outputs": [
    {
     "name": "stdout",
     "output_type": "stream",
     "text": [
      "7  prime\n"
     ]
    }
   ],
   "source": [
    "num=7\n",
    "if num>1:\n",
    "    for i in range(2,num//2):\n",
    "        if(num % i ) == 0:\n",
    "            print(num,\"not prime\")\n",
    "        else:\n",
    "            print(num,\" prime\")\n",
    "        "
   ]
  },
  {
   "cell_type": "markdown",
   "metadata": {},
   "source": [
    "Write a program to calculate the sum of digits of a number using a for loop."
   ]
  },
  {
   "cell_type": "code",
   "execution_count": 45,
   "metadata": {},
   "outputs": [
    {
     "name": "stdout",
     "output_type": "stream",
     "text": [
      "10\n"
     ]
    }
   ],
   "source": [
    "number=input('enter the number')\n",
    "sum=0\n",
    "for i in number:\n",
    "   sum=int(sum) + int(i)\n",
    "print(sum)\n"
   ]
  },
  {
   "cell_type": "markdown",
   "metadata": {},
   "source": [
    "Write a program to calculate the factorial of a number using a for loop."
   ]
  },
  {
   "cell_type": "code",
   "execution_count": 48,
   "metadata": {},
   "outputs": [
    {
     "name": "stdout",
     "output_type": "stream",
     "text": [
      "24\n"
     ]
    }
   ],
   "source": [
    "number=int(input(\"enter a no. for factorial\"))\n",
    "fact=1\n",
    "for i in range(1,number+1):\n",
    "    fact *= i\n",
    "print(fact)\n"
   ]
  },
  {
   "cell_type": "markdown",
   "metadata": {},
   "source": [
    "Write a program to find the largest element in an array using a for loop."
   ]
  },
  {
   "cell_type": "code",
   "execution_count": 49,
   "metadata": {},
   "outputs": [
    {
     "name": "stdout",
     "output_type": "stream",
     "text": [
      "The largest element in the array is: 89\n"
     ]
    }
   ],
   "source": [
    "# Initialize the array (you can also get input from the user)\n",
    "array = [10, 24, 5, 67, 89, 2, 77]\n",
    "\n",
    "# Step 2: Initialize the largest variable with the first element of the array\n",
    "largest = array[0]\n",
    "\n",
    "# Step 3: Iterate over the array starting from the second element\n",
    "for element in array[1:]:\n",
    "    # Step 4: Compare each element with the current largest element\n",
    "    if element > largest:\n",
    "        largest = element\n",
    "\n",
    "# Step 5: Print the largest element\n",
    "print(\"The largest element in the array is:\", largest)\n"
   ]
  },
  {
   "cell_type": "markdown",
   "metadata": {},
   "source": [
    "Write a program to reverse a given string using a while loop.\n"
   ]
  },
  {
   "cell_type": "code",
   "execution_count": 50,
   "metadata": {},
   "outputs": [
    {
     "name": "stdout",
     "output_type": "stream",
     "text": [
      "The reversed string is: itagarp si wman ym\n"
     ]
    }
   ],
   "source": [
    "# Get the string from the user\n",
    "original_string = input(\"Enter a string to reverse: \")\n",
    "\n",
    "# Initialize the reversed string variable\n",
    "reversed_string = \"\"\n",
    "\n",
    "# Initialize the index variable to the last index of the original string\n",
    "index = len(original_string) - 1\n",
    "\n",
    "# Iterate over the string from the end to the beginning\n",
    "while index >= 0:\n",
    "    # Append the current character to the reversed string\n",
    "    reversed_string += original_string[index]\n",
    "    # Decrement the index\n",
    "    index -= 1\n",
    "\n",
    "# Print the reversed string\n",
    "print(\"The reversed string is:\", reversed_string)\n"
   ]
  },
  {
   "cell_type": "markdown",
   "metadata": {},
   "source": [
    "Write a program to calculate the average of a list of numbers using a for loop."
   ]
  },
  {
   "cell_type": "code",
   "execution_count": 56,
   "metadata": {},
   "outputs": [
    {
     "name": "stdout",
     "output_type": "stream",
     "text": [
      "0.5\n",
      "1.25\n",
      "2.25\n",
      "3.5\n"
     ]
    }
   ],
   "source": [
    "number=[2,3,4,5]\n",
    "sum=0\n",
    "for i in number:\n",
    "    sum += i\n",
    "    average=sum / len(number)\n",
    "    print(average)"
   ]
  },
  {
   "cell_type": "code",
   "execution_count": 57,
   "metadata": {},
   "outputs": [
    {
     "name": "stdout",
     "output_type": "stream",
     "text": [
      "The average of the list of numbers is: 30.0\n"
     ]
    }
   ],
   "source": [
    "# Initialize the list of numbers (you can also get input from the user)\n",
    "numbers = [10, 20, 30, 40, 50]\n",
    "\n",
    "# Step 2: Initialize the sum variable\n",
    "total_sum = 0\n",
    "\n",
    "# Step 3: Iterate over the list of numbers\n",
    "for number in numbers:\n",
    "    # Step 4: Add each number to the sum\n",
    "    total_sum += number\n",
    "\n",
    "# Step 5: Calculate the average\n",
    "average = total_sum / len(numbers)\n",
    "\n",
    "# Step 6: Print the average\n",
    "print(\"The average of the list of numbers is:\", average)"
   ]
  },
  {
   "cell_type": "code",
   "execution_count": null,
   "metadata": {},
   "outputs": [],
   "source": []
  }
 ],
 "metadata": {
  "kernelspec": {
   "display_name": "Python 3",
   "language": "python",
   "name": "python3"
  },
  "language_info": {
   "codemirror_mode": {
    "name": "ipython",
    "version": 3
   },
   "file_extension": ".py",
   "mimetype": "text/x-python",
   "name": "python",
   "nbconvert_exporter": "python",
   "pygments_lexer": "ipython3",
   "version": "3.11.3"
  }
 },
 "nbformat": 4,
 "nbformat_minor": 2
}
