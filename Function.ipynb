{
 "cells": [
  {
   "cell_type": "code",
   "execution_count": null,
   "metadata": {},
   "outputs": [],
   "source": []
  },
  {
   "cell_type": "markdown",
   "metadata": {},
   "source": [
    "#### functions are of two types\n",
    "### pre-defined\n",
    "- print, input, sum, len, type, isinstance\n",
    "### user-defined\n",
    "- defined by user(coder)\n",
    "- code reuse\n",
    "- easy debugging\n",
    "- manageable"
   ]
  },
  {
   "cell_type": "code",
   "execution_count": 2,
   "metadata": {},
   "outputs": [],
   "source": [
    "# defining the function\n",
    "def greetings():\n",
    "    print('☀️☀️☀️☀️☀️')\n",
    "    print('Good Morning!')\n",
    "    print('☀️☀️☀️☀️☀️')"
   ]
  },
  {
   "cell_type": "code",
   "execution_count": 3,
   "metadata": {},
   "outputs": [
    {
     "data": {
      "text/plain": [
       "<function __main__.greetings()>"
      ]
     },
     "execution_count": 3,
     "metadata": {},
     "output_type": "execute_result"
    }
   ],
   "source": [
    "# calling a function (using)\n",
    "greetings     #__main__=run file"
   ]
  },
  {
   "cell_type": "code",
   "execution_count": 4,
   "metadata": {},
   "outputs": [
    {
     "name": "stdout",
     "output_type": "stream",
     "text": [
      "☀️☀️☀️☀️☀️\n",
      "Good Morning!\n",
      "☀️☀️☀️☀️☀️\n"
     ]
    }
   ],
   "source": [
    "greetings()"
   ]
  },
  {
   "cell_type": "code",
   "execution_count": 5,
   "metadata": {},
   "outputs": [
    {
     "name": "stdout",
     "output_type": "stream",
     "text": [
      "☀️☀️☀️☀️☀️\n",
      "Good Morning!\n",
      "☀️☀️☀️☀️☀️\n",
      "☀️☀️☀️☀️☀️\n",
      "Good Morning!\n",
      "☀️☀️☀️☀️☀️\n",
      "☀️☀️☀️☀️☀️\n",
      "Good Morning!\n",
      "☀️☀️☀️☀️☀️\n"
     ]
    }
   ],
   "source": [
    "greetings()\n",
    "greetings()\n",
    "greetings()"
   ]
  },
  {
   "cell_type": "code",
   "execution_count": 6,
   "metadata": {},
   "outputs": [
    {
     "name": "stdout",
     "output_type": "stream",
     "text": [
      "☀️☀️☀️☀️☀️\n",
      "Good Morning!\n",
      "☀️☀️☀️☀️☀️\n"
     ]
    }
   ],
   "source": [
    "greetings()"
   ]
  },
  {
   "cell_type": "code",
   "execution_count": 7,
   "metadata": {},
   "outputs": [],
   "source": [
    "def roll():\n",
    "    from random import randint\n",
    "    dice = randint(1, 6)\n",
    "    print(f'🎲{dice}')"
   ]
  },
  {
   "cell_type": "code",
   "execution_count": 10,
   "metadata": {},
   "outputs": [
    {
     "name": "stdout",
     "output_type": "stream",
     "text": [
      "🎲5\n"
     ]
    }
   ],
   "source": [
    "roll()"
   ]
  },
  {
   "cell_type": "code",
   "execution_count": 7,
   "metadata": {},
   "outputs": [],
   "source": [
    "def area(l,b):\n",
    "    a=l*b\n",
    "    print(f'area of rectangle ->{a}')\n",
    "\n"
   ]
  },
  {
   "cell_type": "code",
   "execution_count": 10,
   "metadata": {},
   "outputs": [],
   "source": [
    "#professional way of writing a function\n",
    "def perimeter(l:int,b:int)-> None:\n",
    "    \"\"\"cal the perimeter of a rectangle\n",
    "    l->length of a rectangle\n",
    "    b->breadth of a rectangle\"\"\"\n",
    "    p=2*(l+b)\n",
    "    print(p)"
   ]
  },
  {
   "cell_type": "code",
   "execution_count": 9,
   "metadata": {},
   "outputs": [
    {
     "name": "stdout",
     "output_type": "stream",
     "text": [
      "area of rectangle ->72\n"
     ]
    }
   ],
   "source": [
    "area(12,6)"
   ]
  },
  {
   "cell_type": "code",
   "execution_count": 11,
   "metadata": {},
   "outputs": [
    {
     "name": "stdout",
     "output_type": "stream",
     "text": [
      "36\n"
     ]
    }
   ],
   "source": [
    "perimeter(12,6)"
   ]
  },
  {
   "cell_type": "code",
   "execution_count": 16,
   "metadata": {},
   "outputs": [],
   "source": [
    "def fiver():\n",
    "    from random import choices\n",
    "    data = list(range(1,101))\n",
    "    return choices(data,k=5)"
   ]
  },
  {
   "cell_type": "code",
   "execution_count": 17,
   "metadata": {},
   "outputs": [
    {
     "data": {
      "text/plain": [
       "[98, 19, 57, 27, 84]"
      ]
     },
     "execution_count": 17,
     "metadata": {},
     "output_type": "execute_result"
    }
   ],
   "source": [
    "fiver()"
   ]
  },
  {
   "cell_type": "code",
   "execution_count": 18,
   "metadata": {},
   "outputs": [
    {
     "name": "stdout",
     "output_type": "stream",
     "text": [
      "[24, 61, 15, 66, 66]\n",
      "[76, 65, 31, 46, 94]\n"
     ]
    }
   ],
   "source": [
    "trial_1=fiver()\n",
    "trial_2=fiver()\n",
    "print(trial_1)\n",
    "print(trial_2)"
   ]
  },
  {
   "cell_type": "code",
   "execution_count": null,
   "metadata": {},
   "outputs": [],
   "source": [
    "radius = input(\"enter the value of radius\")\n",
    "total_radius=radius*radius\n",
    "def circle():\n",
    "    "
   ]
  },
  {
   "cell_type": "code",
   "execution_count": 19,
   "metadata": {},
   "outputs": [],
   "source": [
    "def area_of_circle(r):\n",
    "    return 3.14*r**2"
   ]
  },
  {
   "cell_type": "code",
   "execution_count": 20,
   "metadata": {},
   "outputs": [
    {
     "name": "stdout",
     "output_type": "stream",
     "text": [
      "area os circle of the radius:12is 452.16\n"
     ]
    }
   ],
   "source": [
    "radius =int( input(\"enter the value of radius\"))\n",
    "ans=area_of_circle(radius)\n",
    "print(f'area os circle of the radius:{radius}is {ans:.2f}')"
   ]
  },
  {
   "cell_type": "code",
   "execution_count": 2,
   "metadata": {},
   "outputs": [],
   "source": [
    "#waf to remove all the vowels from a string passed as a parameter\n",
    "\n",
    "def remove_vowels(a :str):\n",
    "   return a.replace('a','').replace('e','').replace('i','').replace('o','').replace('u','')\n"
   ]
  },
  {
   "cell_type": "code",
   "execution_count": 29,
   "metadata": {},
   "outputs": [
    {
     "ename": "NameError",
     "evalue": "name 'a' is not defined",
     "output_type": "error",
     "traceback": [
      "\u001b[1;31m---------------------------------------------------------------------------\u001b[0m",
      "\u001b[1;31mNameError\u001b[0m                                 Traceback (most recent call last)",
      "Cell \u001b[1;32mIn[29], line 1\u001b[0m\n\u001b[1;32m----> 1\u001b[0m \u001b[43ma\u001b[49m(\u001b[38;5;124m'\u001b[39m\u001b[38;5;124mmynameispragati\u001b[39m\u001b[38;5;124m'\u001b[39m)\n",
      "\u001b[1;31mNameError\u001b[0m: name 'a' is not defined"
     ]
    }
   ],
   "source": [
    "a('mynameispragati')"
   ]
  },
  {
   "cell_type": "code",
   "execution_count": 25,
   "metadata": {},
   "outputs": [],
   "source": [
    "def vowel_remover(sentence):\n",
    "    for v in 'aeiouAEIOU':\n",
    "        sentence = sentence.replace(v,'')\n",
    "    return sentence"
   ]
  },
  {
   "cell_type": "code",
   "execution_count": 26,
   "metadata": {},
   "outputs": [
    {
     "data": {
      "text/plain": [
       "'ths s sprt'"
      ]
     },
     "execution_count": 26,
     "metadata": {},
     "output_type": "execute_result"
    }
   ],
   "source": [
    "vowel_remover('this is spartA')"
   ]
  },
  {
   "cell_type": "code",
   "execution_count": 3,
   "metadata": {},
   "outputs": [],
   "source": [
    "def summer(a,b,c=0,d=0):   # default parameter always written  after the requird paramenter\n",
    "    return a+b+c+d     "
   ]
  },
  {
   "cell_type": "markdown",
   "metadata": {},
   "source": []
  },
  {
   "cell_type": "code",
   "execution_count": 34,
   "metadata": {},
   "outputs": [
    {
     "name": "stdout",
     "output_type": "stream",
     "text": [
      "30\n",
      "10\n",
      "17\n",
      "14\n"
     ]
    }
   ],
   "source": [
    "print(summer(10,20))\n",
    "print(summer(2,3,5))  #positinal arguments\n",
    "print(summer(2,3,d=12)) #named arguments\n",
    "print(summer(2,3,d=5,c=4))#named arguments allows changing the order of the aruguments"
   ]
  },
  {
   "cell_type": "markdown",
   "metadata": {},
   "source": [
    "##### lambda keyword expression\n",
    "\n",
    "- f(x)=x+5*x-2\n",
    "- f(2)\n",
    "- g(x,y)=x+y/2\n",
    "- g(2,3)"
   ]
  },
  {
   "cell_type": "code",
   "execution_count": 4,
   "metadata": {},
   "outputs": [
    {
     "name": "stdout",
     "output_type": "stream",
     "text": [
      "<function <lambda> at 0x0000020915A523E0>\n"
     ]
    }
   ],
   "source": [
    "f= lambda x:x+5*x-2\n",
    "g= lambda x,y:x+y/2\n",
    "print(f)"
   ]
  },
  {
   "cell_type": "code",
   "execution_count": 42,
   "metadata": {},
   "outputs": [
    {
     "name": "stdout",
     "output_type": "stream",
     "text": [
      "10\n",
      "28\n",
      "58\n",
      "3.5\n",
      "7.5\n"
     ]
    }
   ],
   "source": [
    "print(f(2))\n",
    "print(f(5))\n",
    "print(f(10))\n",
    "print(g(2,3))\n",
    "print(g(5,5))"
   ]
  },
  {
   "cell_type": "code",
   "execution_count": 43,
   "metadata": {},
   "outputs": [
    {
     "name": "stdout",
     "output_type": "stream",
     "text": [
      "12.56\n"
     ]
    }
   ],
   "source": [
    "ac=lambda r:3.14*r**2\n",
    "print(ac(2))"
   ]
  },
  {
   "cell_type": "markdown",
   "metadata": {},
   "source": [
    "\n",
    "*args and **kwargs\n",
    "#### Summary:\n",
    "- `*args: Allows a function to accept any number of positional arguments. These are stored as a tuple.`\n",
    "- `**kwargs: Allows a function to accept any number of keyword arguments. These are stored as a dictionary.`"
   ]
  },
  {
   "cell_type": "code",
   "execution_count": 1,
   "metadata": {},
   "outputs": [],
   "source": [
    "def multiplier(data):\n",
    "    if not isinstance(data, list):\n",
    "        print(\"data can on be of list type\")\n",
    "        return # function stops and return to the caller\n",
    "    result = 1\n",
    "    for i in data:\n",
    "        result *= i\n",
    "    return result"
   ]
  },
  {
   "cell_type": "code",
   "execution_count": 2,
   "metadata": {},
   "outputs": [
    {
     "data": {
      "text/plain": [
       "29030400"
      ]
     },
     "execution_count": 2,
     "metadata": {},
     "output_type": "execute_result"
    }
   ],
   "source": [
    "multiplier([2,2,4,6,2,2,5,5,6,7,8,9,])"
   ]
  },
  {
   "cell_type": "code",
   "execution_count": 3,
   "metadata": {},
   "outputs": [
    {
     "name": "stdout",
     "output_type": "stream",
     "text": [
      "data can on be of list type\n"
     ]
    }
   ],
   "source": [
    "multiplier(\"hello\")"
   ]
  },
  {
   "cell_type": "code",
   "execution_count": 2,
   "metadata": {},
   "outputs": [],
   "source": [
    "def multiplier_v2(*numbers):\n",
    "    ans = 1\n",
    "    for i in numbers:\n",
    "        ans *= i\n",
    "    return ans"
   ]
  },
  {
   "cell_type": "code",
   "execution_count": 3,
   "metadata": {},
   "outputs": [
    {
     "ename": "NameError",
     "evalue": "name 'multiplier_v2' is not defined",
     "output_type": "error",
     "traceback": [
      "\u001b[1;31m---------------------------------------------------------------------------\u001b[0m",
      "\u001b[1;31mNameError\u001b[0m                                 Traceback (most recent call last)",
      "Cell \u001b[1;32mIn[3], line 1\u001b[0m\n\u001b[1;32m----> 1\u001b[0m \u001b[43mmultiplier_v2\u001b[49m()\n",
      "\u001b[1;31mNameError\u001b[0m: name 'multiplier_v2' is not defined"
     ]
    }
   ],
   "source": [
    "multiplier_v2()"
   ]
  },
  {
   "cell_type": "code",
   "execution_count": 3,
   "metadata": {},
   "outputs": [
    {
     "data": {
      "text/plain": [
       "6"
      ]
     },
     "execution_count": 3,
     "metadata": {},
     "output_type": "execute_result"
    }
   ],
   "source": [
    "multiplier_v2(1,2,3)"
   ]
  },
  {
   "cell_type": "code",
   "execution_count": 8,
   "metadata": {},
   "outputs": [],
   "source": [
    "def expenses(**items):\n",
    "    for k, v in items.items():\n",
    "        print(f'{k:<10} = ${v:.2f}')"
   ]
  },
  {
   "cell_type": "code",
   "execution_count": 9,
   "metadata": {},
   "outputs": [
    {
     "name": "stdout",
     "output_type": "stream",
     "text": [
      "transport  = $500.00\n",
      "food       = $200.00\n",
      "rent       = $1000.00\n"
     ]
    }
   ],
   "source": [
    "expenses(transport=500, food=200, rent=1000)"
   ]
  },
  {
   "cell_type": "code",
   "execution_count": null,
   "metadata": {},
   "outputs": [],
   "source": []
  },
  {
   "cell_type": "markdown",
   "metadata": {},
   "source": [
    "#### map and filter\n",
    "- `lambda i : i ** 3`\n",
    "\n",
    "- map:The map() function applies a given function to each item of an iterable (like a list) and returns a map object (an iterator) with the results.\n",
    "- `map(function, iterable)`\n",
    "- filter:The filter() function filters an iterable by applying a function that returns True or False. It keeps only the elements for which the function returns True.\n",
    "- `filter(function, iterable)`"
   ]
  },
  {
   "cell_type": "code",
   "execution_count": 12,
   "metadata": {},
   "outputs": [
    {
     "ename": "NameError",
     "evalue": "name 'x' is not defined",
     "output_type": "error",
     "traceback": [
      "\u001b[1;31m---------------------------------------------------------------------------\u001b[0m",
      "\u001b[1;31mNameError\u001b[0m                                 Traceback (most recent call last)",
      "Cell \u001b[1;32mIn[12], line 1\u001b[0m\n\u001b[1;32m----> 1\u001b[0m \u001b[38;5;28mlist\u001b[39m(\u001b[38;5;28mmap\u001b[39m(\u001b[38;5;28;01mlambda\u001b[39;00m i: i \u001b[38;5;241m*\u001b[39m\u001b[38;5;241m*\u001b[39m \u001b[38;5;241m3\u001b[39m,\u001b[43mx\u001b[49m))\n",
      "\u001b[1;31mNameError\u001b[0m: name 'x' is not defined"
     ]
    }
   ],
   "source": [
    "list(map(lambda i: i ** 3,x))"
   ]
  },
  {
   "cell_type": "code",
   "execution_count": 14,
   "metadata": {},
   "outputs": [
    {
     "data": {
      "text/plain": [
       "[1, 2, 3]"
      ]
     },
     "execution_count": 14,
     "metadata": {},
     "output_type": "execute_result"
    }
   ],
   "source": [
    "a=['1','2','3']\n",
    "list(map(int, a))"
   ]
  },
  {
   "cell_type": "code",
   "execution_count": 10,
   "metadata": {},
   "outputs": [
    {
     "name": "stdout",
     "output_type": "stream",
     "text": [
      "\u001b[1;31mInit signature:\u001b[0m \u001b[0mfilter\u001b[0m\u001b[1;33m(\u001b[0m\u001b[0mself\u001b[0m\u001b[1;33m,\u001b[0m \u001b[1;33m/\u001b[0m\u001b[1;33m,\u001b[0m \u001b[1;33m*\u001b[0m\u001b[0margs\u001b[0m\u001b[1;33m,\u001b[0m \u001b[1;33m**\u001b[0m\u001b[0mkwargs\u001b[0m\u001b[1;33m)\u001b[0m\u001b[1;33m\u001b[0m\u001b[1;33m\u001b[0m\u001b[0m\n",
      "\u001b[1;31mDocstring:\u001b[0m     \n",
      "filter(function or None, iterable) --> filter object\n",
      "\n",
      "Return an iterator yielding those items of iterable for which function(item)\n",
      "is true. If function is None, return the items that are true.\n",
      "\u001b[1;31mType:\u001b[0m           type\n",
      "\u001b[1;31mSubclasses:\u001b[0m     "
     ]
    }
   ],
   "source": [
    "filter?"
   ]
  },
  {
   "cell_type": "code",
   "execution_count": 4,
   "metadata": {},
   "outputs": [
    {
     "data": {
      "text/plain": [
       "[2, 4, 6, 8]"
      ]
     },
     "execution_count": 4,
     "metadata": {},
     "output_type": "execute_result"
    }
   ],
   "source": [
    "#x=[1,2,3,4,5,6,7,8,9.10]\n",
    "list(filter(lambda i: i % 2 == 0, x))"
   ]
  },
  {
   "cell_type": "code",
   "execution_count": 11,
   "metadata": {},
   "outputs": [
    {
     "name": "stdout",
     "output_type": "stream",
     "text": [
      "['file1.txt', 'file2.txt', 'file3.txt']\n"
     ]
    }
   ],
   "source": [
    "files = ['file1.txt', 'file2.txt', 'file3.txt', 'file4.jpg', 'file5.jpg', 'file6.jpg']\n",
    "f = lambda i: i.endswith('.txt')\n",
    "text_files= list(filter(f, files))\n",
    "print(text_files)"
   ]
  },
  {
   "cell_type": "code",
   "execution_count": null,
   "metadata": {},
   "outputs": [],
   "source": []
  }
 ],
 "metadata": {
  "kernelspec": {
   "display_name": "Python 3",
   "language": "python",
   "name": "python3"
  },
  "language_info": {
   "codemirror_mode": {
    "name": "ipython",
    "version": 3
   },
   "file_extension": ".py",
   "mimetype": "text/x-python",
   "name": "python",
   "nbconvert_exporter": "python",
   "pygments_lexer": "ipython3",
   "version": "3.12.0"
  }
 },
 "nbformat": 4,
 "nbformat_minor": 2
}
