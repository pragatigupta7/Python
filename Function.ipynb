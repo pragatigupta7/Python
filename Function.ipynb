{
 "cells": [
  {
   "cell_type": "code",
   "execution_count": null,
   "metadata": {},
   "outputs": [],
   "source": []
  },
  {
   "cell_type": "markdown",
   "metadata": {},
   "source": [
    "functions are of two types\n",
    "#pre-defined\n",
    "-print, input, sum, len, type, isinstance\n",
    "#user-defined\n",
    "defined by user(coder)\n",
    "code reuse\n",
    "easy debugging\n",
    "manageable"
   ]
  },
  {
   "cell_type": "code",
   "execution_count": 2,
   "metadata": {},
   "outputs": [],
   "source": [
    "# defining the function\n",
    "def greetings():\n",
    "    print('☀️☀️☀️☀️☀️')\n",
    "    print('Good Morning!')\n",
    "    print('☀️☀️☀️☀️☀️')"
   ]
  },
  {
   "cell_type": "code",
   "execution_count": 3,
   "metadata": {},
   "outputs": [
    {
     "data": {
      "text/plain": [
       "<function __main__.greetings()>"
      ]
     },
     "execution_count": 3,
     "metadata": {},
     "output_type": "execute_result"
    }
   ],
   "source": [
    "# calling a function (using)\n",
    "greetings     #__main__=run file"
   ]
  },
  {
   "cell_type": "code",
   "execution_count": 4,
   "metadata": {},
   "outputs": [
    {
     "name": "stdout",
     "output_type": "stream",
     "text": [
      "☀️☀️☀️☀️☀️\n",
      "Good Morning!\n",
      "☀️☀️☀️☀️☀️\n"
     ]
    }
   ],
   "source": [
    "greetings()"
   ]
  },
  {
   "cell_type": "code",
   "execution_count": 5,
   "metadata": {},
   "outputs": [
    {
     "name": "stdout",
     "output_type": "stream",
     "text": [
      "☀️☀️☀️☀️☀️\n",
      "Good Morning!\n",
      "☀️☀️☀️☀️☀️\n",
      "☀️☀️☀️☀️☀️\n",
      "Good Morning!\n",
      "☀️☀️☀️☀️☀️\n",
      "☀️☀️☀️☀️☀️\n",
      "Good Morning!\n",
      "☀️☀️☀️☀️☀️\n"
     ]
    }
   ],
   "source": [
    "greetings()\n",
    "greetings()\n",
    "greetings()"
   ]
  },
  {
   "cell_type": "code",
   "execution_count": 6,
   "metadata": {},
   "outputs": [
    {
     "name": "stdout",
     "output_type": "stream",
     "text": [
      "☀️☀️☀️☀️☀️\n",
      "Good Morning!\n",
      "☀️☀️☀️☀️☀️\n"
     ]
    }
   ],
   "source": [
    "greetings()"
   ]
  },
  {
   "cell_type": "code",
   "execution_count": 7,
   "metadata": {},
   "outputs": [],
   "source": [
    "def roll():\n",
    "    from random import randint\n",
    "    dice = randint(1, 6)\n",
    "    print(f'🎲{dice}')"
   ]
  },
  {
   "cell_type": "code",
   "execution_count": 10,
   "metadata": {},
   "outputs": [
    {
     "name": "stdout",
     "output_type": "stream",
     "text": [
      "🎲5\n"
     ]
    }
   ],
   "source": [
    "roll()"
   ]
  },
  {
   "cell_type": "code",
   "execution_count": 7,
   "metadata": {},
   "outputs": [],
   "source": [
    "def area(l,b):\n",
    "    a=l*b\n",
    "    print(f'area of rectangle ->{a}')\n",
    "\n"
   ]
  },
  {
   "cell_type": "code",
   "execution_count": 10,
   "metadata": {},
   "outputs": [],
   "source": [
    "#professional way of writing a function\n",
    "def perimeter(l:int,b:int)-> None:\n",
    "    \"\"\"cal the perimeter of a rectangle\n",
    "    l->length of a rectangle\n",
    "    b->breadth of a rectangle\"\"\"\n",
    "    p=2*(l+b)\n",
    "    print(p)"
   ]
  },
  {
   "cell_type": "code",
   "execution_count": 9,
   "metadata": {},
   "outputs": [
    {
     "name": "stdout",
     "output_type": "stream",
     "text": [
      "area of rectangle ->72\n"
     ]
    }
   ],
   "source": [
    "area(12,6)"
   ]
  },
  {
   "cell_type": "code",
   "execution_count": 11,
   "metadata": {},
   "outputs": [
    {
     "name": "stdout",
     "output_type": "stream",
     "text": [
      "36\n"
     ]
    }
   ],
   "source": [
    "perimeter(12,6)"
   ]
  },
  {
   "cell_type": "code",
   "execution_count": 16,
   "metadata": {},
   "outputs": [],
   "source": [
    "def fiver():\n",
    "    from random import choices\n",
    "    data = list(range(1,101))\n",
    "    return choices(data,k=5)"
   ]
  },
  {
   "cell_type": "code",
   "execution_count": 17,
   "metadata": {},
   "outputs": [
    {
     "data": {
      "text/plain": [
       "[98, 19, 57, 27, 84]"
      ]
     },
     "execution_count": 17,
     "metadata": {},
     "output_type": "execute_result"
    }
   ],
   "source": [
    "fiver()"
   ]
  },
  {
   "cell_type": "code",
   "execution_count": 18,
   "metadata": {},
   "outputs": [
    {
     "name": "stdout",
     "output_type": "stream",
     "text": [
      "[24, 61, 15, 66, 66]\n",
      "[76, 65, 31, 46, 94]\n"
     ]
    }
   ],
   "source": [
    "trial_1=fiver()\n",
    "trial_2=fiver()\n",
    "print(trial_1)\n",
    "print(trial_2)"
   ]
  },
  {
   "cell_type": "code",
   "execution_count": null,
   "metadata": {},
   "outputs": [],
   "source": [
    "radius = input(\"enter the value of radius\")\n",
    "total_radius=radius*radius\n",
    "def circle():\n",
    "    "
   ]
  },
  {
   "cell_type": "code",
   "execution_count": 19,
   "metadata": {},
   "outputs": [],
   "source": [
    "def area_of_circle(r):\n",
    "    return 3.14*r**2"
   ]
  },
  {
   "cell_type": "code",
   "execution_count": 20,
   "metadata": {},
   "outputs": [
    {
     "name": "stdout",
     "output_type": "stream",
     "text": [
      "area os circle of the radius:12is 452.16\n"
     ]
    }
   ],
   "source": [
    "radius =int( input(\"enter the value of radius\"))\n",
    "ans=area_of_circle(radius)\n",
    "print(f'area os circle of the radius:{radius}is {ans:.2f}')"
   ]
  },
  {
   "cell_type": "code",
   "execution_count": 27,
   "metadata": {},
   "outputs": [],
   "source": [
    "#waf to remove all the vowels from a string passed as a parameter\n",
    "\n",
    "def remove_vowels(a :str):\n",
    "   return a.replace('a','').replace('e','').replace('i','').replace('o','').replace('u','')\n"
   ]
  },
  {
   "cell_type": "code",
   "execution_count": 29,
   "metadata": {},
   "outputs": [
    {
     "ename": "NameError",
     "evalue": "name 'a' is not defined",
     "output_type": "error",
     "traceback": [
      "\u001b[1;31m---------------------------------------------------------------------------\u001b[0m",
      "\u001b[1;31mNameError\u001b[0m                                 Traceback (most recent call last)",
      "Cell \u001b[1;32mIn[29], line 1\u001b[0m\n\u001b[1;32m----> 1\u001b[0m \u001b[43ma\u001b[49m(\u001b[38;5;124m'\u001b[39m\u001b[38;5;124mmynameispragati\u001b[39m\u001b[38;5;124m'\u001b[39m)\n",
      "\u001b[1;31mNameError\u001b[0m: name 'a' is not defined"
     ]
    }
   ],
   "source": [
    "a('mynameispragati')"
   ]
  },
  {
   "cell_type": "code",
   "execution_count": 25,
   "metadata": {},
   "outputs": [],
   "source": [
    "def vowel_remover(sentence):\n",
    "    for v in 'aeiouAEIOU':\n",
    "        sentence=sentence.replace(v,'')\n",
    "    return sentence"
   ]
  },
  {
   "cell_type": "code",
   "execution_count": 26,
   "metadata": {},
   "outputs": [
    {
     "data": {
      "text/plain": [
       "'ths s sprt'"
      ]
     },
     "execution_count": 26,
     "metadata": {},
     "output_type": "execute_result"
    }
   ],
   "source": [
    "vowel_remover('this is spartA')"
   ]
  },
  {
   "cell_type": "code",
   "execution_count": 30,
   "metadata": {},
   "outputs": [],
   "source": [
    "def summer(a,b,c=0,d=0):   # default parameter always written  after the requird paramenter\n",
    "    return a+b+c+d     "
   ]
  },
  {
   "cell_type": "markdown",
   "metadata": {},
   "source": []
  },
  {
   "cell_type": "code",
   "execution_count": 34,
   "metadata": {},
   "outputs": [
    {
     "name": "stdout",
     "output_type": "stream",
     "text": [
      "30\n",
      "10\n",
      "17\n",
      "14\n"
     ]
    }
   ],
   "source": [
    "print(summer(10,20))\n",
    "print(summer(2,3,5))  #positinal arguments\n",
    "print(summer(2,3,d=12)) #named arguments\n",
    "print(summer(2,3,d=5,c=4))#named arguments allows changing the order of the aruguments"
   ]
  },
  {
   "cell_type": "markdown",
   "metadata": {},
   "source": [
    "lambda keyword expression\n",
    "\n",
    "f(x)=x+5*x-2\n",
    "f(2)\n",
    "g(x,y)=x+y/2\n",
    "g(2,3)"
   ]
  },
  {
   "cell_type": "code",
   "execution_count": 40,
   "metadata": {},
   "outputs": [
    {
     "name": "stdout",
     "output_type": "stream",
     "text": [
      "<function <lambda> at 0x000001700BA49D00>\n"
     ]
    }
   ],
   "source": [
    "f= lambda x:x+5*x-2\n",
    "g= lambda x,y:x+y/2\n",
    "print(f)"
   ]
  },
  {
   "cell_type": "code",
   "execution_count": 42,
   "metadata": {},
   "outputs": [
    {
     "name": "stdout",
     "output_type": "stream",
     "text": [
      "10\n",
      "28\n",
      "58\n",
      "3.5\n",
      "7.5\n"
     ]
    }
   ],
   "source": [
    "print(f(2))\n",
    "print(f(5))\n",
    "print(f(10))\n",
    "print(g(2,3))\n",
    "print(g(5,5))"
   ]
  },
  {
   "cell_type": "code",
   "execution_count": 43,
   "metadata": {},
   "outputs": [
    {
     "name": "stdout",
     "output_type": "stream",
     "text": [
      "12.56\n"
     ]
    }
   ],
   "source": [
    "ac=lambda r:3.14*r**2\n",
    "print(ac(2))"
   ]
  },
  {
   "cell_type": "code",
   "execution_count": null,
   "metadata": {},
   "outputs": [],
   "source": []
  }
 ],
 "metadata": {
  "kernelspec": {
   "display_name": "Python 3",
   "language": "python",
   "name": "python3"
  },
  "language_info": {
   "codemirror_mode": {
    "name": "ipython",
    "version": 3
   },
   "file_extension": ".py",
   "mimetype": "text/x-python",
   "name": "python",
   "nbconvert_exporter": "python",
   "pygments_lexer": "ipython3",
   "version": "3.11.3"
  }
 },
 "nbformat": 4,
 "nbformat_minor": 2
}
